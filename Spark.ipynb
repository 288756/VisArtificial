{
  "nbformat": 4,
  "nbformat_minor": 0,
  "metadata": {
    "colab": {
      "provenance": [],
      "include_colab_link": true
    },
    "kernelspec": {
      "name": "python3",
      "display_name": "Python 3"
    },
    "language_info": {
      "name": "python"
    }
  },
  "cells": [
    {
      "cell_type": "markdown",
      "metadata": {
        "id": "view-in-github",
        "colab_type": "text"
      },
      "source": [
        "<a href=\"https://colab.research.google.com/github/288756/VisArtificial/blob/master/Spark.ipynb\" target=\"_parent\"><img src=\"https://colab.research.google.com/assets/colab-badge.svg\" alt=\"Open In Colab\"/></a>"
      ]
    },
    {
      "cell_type": "markdown",
      "source": [
        "#Instalación"
      ],
      "metadata": {
        "id": "nQ3IDy73inU3"
      }
    },
    {
      "cell_type": "markdown",
      "source": [
        "##Instalar Java"
      ],
      "metadata": {
        "id": "_tLpSnhvj9rt"
      }
    },
    {
      "cell_type": "code",
      "source": [
        "!apt-get install -y openjdk-11-jdk-headless -qq > /dev/null"
      ],
      "metadata": {
        "id": "9-dBWDVui435"
      },
      "execution_count": 1,
      "outputs": []
    },
    {
      "cell_type": "code",
      "source": [
        "import os\n",
        "java_home = os.popen(\"readlink -f /usr/bin/java | sed 's:/bin/java::'\").read().strip()\n",
        "os.environ[\"JAVA_HOME\"] = java_home"
      ],
      "metadata": {
        "id": "GzJ3WprlQXv5"
      },
      "execution_count": 2,
      "outputs": []
    },
    {
      "cell_type": "code",
      "source": [
        "!echo \"Java está en el path: $JAVA_HOME  (IMPORTANTE: si no sale nada o no es la versión correcta, hay que instalarla y cambiarla manualmente)\""
      ],
      "metadata": {
        "colab": {
          "base_uri": "https://localhost:8080/"
        },
        "id": "dOm0nXPmRVQC",
        "outputId": "89153a81-7117-4782-9f1d-663b6ffe318a"
      },
      "execution_count": 3,
      "outputs": [
        {
          "output_type": "stream",
          "name": "stdout",
          "text": [
            "Java está en el path: /usr/lib/jvm/java-11-openjdk-amd64  (IMPORTANTE: si no sale nada o no es la versión correcta, hay que instalarla y cambiarla manualmente)\n"
          ]
        }
      ]
    },
    {
      "cell_type": "markdown",
      "source": [
        "## Obtener versión de Spark"
      ],
      "metadata": {
        "id": "7L74V8vRkDNO"
      }
    },
    {
      "cell_type": "code",
      "source": [
        "import os\n",
        "spark_version = os.popen(\"curl -s https://archive.apache.org/dist/spark/ | grep -oP 'spark-*.*/\\\"' | grep --invert-match -e '-.*-' | awk -F '/\\\"' '{print $1}' | cut -d '-' -f2 | tail -n 1\").read().strip()\n",
        "os.environ[\"SPARK_VERSION\"] = spark_version"
      ],
      "metadata": {
        "id": "Kfxo9uvekAZ8"
      },
      "execution_count": 4,
      "outputs": []
    },
    {
      "cell_type": "code",
      "source": [
        "!echo \"IMPORTANTE: La versión estable de Spark es: $SPARK_VERSION  (si no sale nada, hay que ponerla manualmente)\""
      ],
      "metadata": {
        "colab": {
          "base_uri": "https://localhost:8080/"
        },
        "id": "QTz8Q48gmN7r",
        "outputId": "cd53ef6a-afd1-4d6f-a61b-e9e8e93b7fce"
      },
      "execution_count": 5,
      "outputs": [
        {
          "output_type": "stream",
          "name": "stdout",
          "text": [
            "IMPORTANTE: La versión estable de Spark es: 3.5.1  (si no sale nada, hay que ponerla manualmente)\n"
          ]
        }
      ]
    },
    {
      "cell_type": "markdown",
      "source": [
        "## Descargar Spark"
      ],
      "metadata": {
        "id": "e0PG_cQNkBmP"
      }
    },
    {
      "cell_type": "code",
      "source": [
        "!wget \"https://dlcdn.apache.org/spark/spark-${SPARK_VERSION}/spark-${SPARK_VERSION}-bin-hadoop3.tgz\"\n",
        "#!wget \"https://archive.apache.org/dist/spark/spark-${SPARK_VERSION}/spark-${SPARK_VERSION}-bin-hadoop3.tgz\""
      ],
      "metadata": {
        "colab": {
          "base_uri": "https://localhost:8080/"
        },
        "id": "puh9N5SDmWis",
        "outputId": "17f46f10-ea1e-4761-b8e3-06fb20af2dd7"
      },
      "execution_count": 6,
      "outputs": [
        {
          "output_type": "stream",
          "name": "stdout",
          "text": [
            "--2024-05-06 10:39:13--  https://dlcdn.apache.org/spark/spark-3.5.1/spark-3.5.1-bin-hadoop3.tgz\n",
            "Resolving dlcdn.apache.org (dlcdn.apache.org)... 151.101.2.132, 2a04:4e42::644\n",
            "Connecting to dlcdn.apache.org (dlcdn.apache.org)|151.101.2.132|:443... connected.\n",
            "HTTP request sent, awaiting response... 200 OK\n",
            "Length: 400446614 (382M) [application/x-gzip]\n",
            "Saving to: ‘spark-3.5.1-bin-hadoop3.tgz’\n",
            "\n",
            "spark-3.5.1-bin-had 100%[===================>] 381.90M  79.3MB/s    in 4.7s    \n",
            "\n",
            "2024-05-06 10:39:18 (80.9 MB/s) - ‘spark-3.5.1-bin-hadoop3.tgz’ saved [400446614/400446614]\n",
            "\n"
          ]
        }
      ]
    },
    {
      "cell_type": "code",
      "source": [
        "!ls spark-${SPARK_VERSION}-bin-hadoop3.tgz\n",
        "!echo \"IMPORTANTE: en la anterior línea debería salir spark-${SPARK_VERSION}-bin-hadoop3.tgz. Si no es así, se tendría que descargar manualmente\""
      ],
      "metadata": {
        "colab": {
          "base_uri": "https://localhost:8080/"
        },
        "id": "F5ZsdscKm1c_",
        "outputId": "87d1aa21-6259-4c96-c517-c3d5714604b8"
      },
      "execution_count": 7,
      "outputs": [
        {
          "output_type": "stream",
          "name": "stdout",
          "text": [
            "spark-3.5.1-bin-hadoop3.tgz\n",
            "IMPORTANTE: en la anterior línea debería salir spark-3.5.1-bin-hadoop3.tgz. Si no es así, se tendría que descargar manualmente\n"
          ]
        }
      ]
    },
    {
      "cell_type": "markdown",
      "source": [
        "##Descomprimir Spark"
      ],
      "metadata": {
        "id": "99a2TZlPnB9r"
      }
    },
    {
      "cell_type": "code",
      "source": [
        "!tar -xzf spark-${SPARK_VERSION}-bin-hadoop3.tgz"
      ],
      "metadata": {
        "id": "ySAVzrwHnPXt"
      },
      "execution_count": 8,
      "outputs": []
    },
    {
      "cell_type": "code",
      "source": [
        "!ls -d spark-${SPARK_VERSION}-bin-hadoop3\n",
        "!echo \"IMPORTANTE: en la anterior línea debería salir la carpeta spark-${SPARK_VERSION}-bin-hadoop3. Si no es así, habría que descomprimirla manualmente\""
      ],
      "metadata": {
        "colab": {
          "base_uri": "https://localhost:8080/"
        },
        "id": "xkuUsKKMnTPr",
        "outputId": "e06725e8-15ed-4eec-8946-5534fd6967d9"
      },
      "execution_count": 9,
      "outputs": [
        {
          "output_type": "stream",
          "name": "stdout",
          "text": [
            "spark-3.5.1-bin-hadoop3\n",
            "IMPORTANTE: en la anterior línea debería salir la carpeta spark-3.5.1-bin-hadoop3. Si no es así, habría que descomprimirla manualmente\n"
          ]
        }
      ]
    },
    {
      "cell_type": "markdown",
      "source": [
        "## Mover la carpeta de Spark a /usr/local"
      ],
      "metadata": {
        "id": "vDPuTI-ZnY7K"
      }
    },
    {
      "cell_type": "code",
      "source": [
        "!mv spark-${SPARK_VERSION}-bin-hadoop3 /usr/local/"
      ],
      "metadata": {
        "id": "Favb4xaSndC7"
      },
      "execution_count": 10,
      "outputs": []
    },
    {
      "cell_type": "code",
      "source": [
        "!ls -d /usr/local/spark-${SPARK_VERSION}-bin-hadoop3\n",
        "!echo \"IMPORTANTE: en la anterior línea debería salir la carpeta /usr/local/spark-${SPARK_VERSION}-bin-hadoop3. Si no es así, habría que moverla manualmente a esa ubicación\""
      ],
      "metadata": {
        "colab": {
          "base_uri": "https://localhost:8080/"
        },
        "id": "otH2OQgQnpEA",
        "outputId": "8c57bef4-1737-4995-a888-427f26cde77c"
      },
      "execution_count": 11,
      "outputs": [
        {
          "output_type": "stream",
          "name": "stdout",
          "text": [
            "/usr/local/spark-3.5.1-bin-hadoop3\n",
            "IMPORTANTE: en la anterior línea debería salir la carpeta /usr/local/spark-3.5.1-bin-hadoop3. Si no es así, habría que moverla manualmente a esa ubicación\n"
          ]
        }
      ]
    },
    {
      "cell_type": "markdown",
      "source": [
        "## Crear variable de entorno de SPARK_HOME"
      ],
      "metadata": {
        "id": "XruATfO6nsuJ"
      }
    },
    {
      "cell_type": "code",
      "source": [
        "import os\n",
        "os.environ[\"SPARK_HOME\"] = \"/usr/local/spark-\" + os.environ[\"SPARK_VERSION\"] + \"-bin-hadoop3\"\n",
        "os.environ[\"PATH\"] += os.pathsep + os.path.join(os.environ[\"SPARK_HOME\"], \"bin\")"
      ],
      "metadata": {
        "id": "c37poWJ3nx66"
      },
      "execution_count": 12,
      "outputs": []
    },
    {
      "cell_type": "code",
      "source": [
        "!echo $SPARK_HOME\n",
        "!echo \"IMPORTANTE: en la anterior línea debería salir la carpeta de spark. Si no es así, habría que establecer manualmente la variable de entorno SPARK_HOME\""
      ],
      "metadata": {
        "colab": {
          "base_uri": "https://localhost:8080/"
        },
        "id": "etTpsv84pmxU",
        "outputId": "2c66a980-88e2-4ba4-b55d-fd7a820e49fd"
      },
      "execution_count": 13,
      "outputs": [
        {
          "output_type": "stream",
          "name": "stdout",
          "text": [
            "/usr/local/spark-3.5.1-bin-hadoop3\n",
            "IMPORTANTE: en la anterior línea debería salir la carpeta de spark. Si no es así, habría que establecer manualmente la variable de entorno SPARK_HOME\n"
          ]
        }
      ]
    },
    {
      "cell_type": "markdown",
      "source": [
        "##Comprobar instalación"
      ],
      "metadata": {
        "id": "Fcl92G7fpy7j"
      }
    },
    {
      "cell_type": "code",
      "source": [
        "!spark-submit --version\n",
        "!echo \"IMPORTANTE: en las anteriores líneas debería mostrarnos la versión de Spark. Si no es así, habría que establecer manualmente la variable PATH añadiéndole la carpeta bin de Spark\""
      ],
      "metadata": {
        "colab": {
          "base_uri": "https://localhost:8080/"
        },
        "id": "V94t_71Cpqlz",
        "outputId": "89411655-7b89-4812-c558-3c796acc5df8"
      },
      "execution_count": 14,
      "outputs": [
        {
          "output_type": "stream",
          "name": "stdout",
          "text": [
            "Welcome to\n",
            "      ____              __\n",
            "     / __/__  ___ _____/ /__\n",
            "    _\\ \\/ _ \\/ _ `/ __/  '_/\n",
            "   /___/ .__/\\_,_/_/ /_/\\_\\   version 3.5.1\n",
            "      /_/\n",
            "                        \n",
            "Using Scala version 2.12.18, OpenJDK 64-Bit Server VM, 11.0.22\n",
            "Branch HEAD\n",
            "Compiled by user heartsavior on 2024-02-15T11:24:58Z\n",
            "Revision fd86f85e181fc2dc0f50a096855acf83a6cc5d9c\n",
            "Url https://github.com/apache/spark\n",
            "Type --help for more information.\n",
            "IMPORTANTE: en las anteriores líneas debería mostrarnos la versión de Spark. Si no es así, habría que establecer manualmente la variable PATH añadiéndole la carpeta bin de Spark\n"
          ]
        }
      ]
    },
    {
      "cell_type": "markdown",
      "source": [
        "## Instalar PySpark"
      ],
      "metadata": {
        "id": "ulBVazaEI4j5"
      }
    },
    {
      "cell_type": "code",
      "source": [
        "!pip install pyspark"
      ],
      "metadata": {
        "colab": {
          "base_uri": "https://localhost:8080/"
        },
        "id": "kGtYMHeKI9rR",
        "outputId": "00211e8c-8d3e-4295-e3ad-e5b1ddef9bdc"
      },
      "execution_count": 15,
      "outputs": [
        {
          "output_type": "stream",
          "name": "stdout",
          "text": [
            "Collecting pyspark\n",
            "  Downloading pyspark-3.5.1.tar.gz (317.0 MB)\n",
            "\u001b[2K     \u001b[90m━━━━━━━━━━━━━━━━━━━━━━━━━━━━━━━━━━━━━━━━\u001b[0m \u001b[32m317.0/317.0 MB\u001b[0m \u001b[31m4.0 MB/s\u001b[0m eta \u001b[36m0:00:00\u001b[0m\n",
            "\u001b[?25h  Preparing metadata (setup.py) ... \u001b[?25l\u001b[?25hdone\n",
            "Requirement already satisfied: py4j==0.10.9.7 in /usr/local/lib/python3.10/dist-packages (from pyspark) (0.10.9.7)\n",
            "Building wheels for collected packages: pyspark\n",
            "  Building wheel for pyspark (setup.py) ... \u001b[?25l\u001b[?25hdone\n",
            "  Created wheel for pyspark: filename=pyspark-3.5.1-py2.py3-none-any.whl size=317488491 sha256=55fb5aed13ddb0c61ada7738edc7c40925ed155fcdd0a606ec400cc0beb70090\n",
            "  Stored in directory: /root/.cache/pip/wheels/80/1d/60/2c256ed38dddce2fdd93be545214a63e02fbd8d74fb0b7f3a6\n",
            "Successfully built pyspark\n",
            "Installing collected packages: pyspark\n",
            "Successfully installed pyspark-3.5.1\n"
          ]
        }
      ]
    },
    {
      "cell_type": "markdown",
      "source": [
        "#Ejecución interactiva"
      ],
      "metadata": {
        "id": "Zy9oLSSkHY14"
      }
    },
    {
      "cell_type": "markdown",
      "source": [
        "Creamos el contexto"
      ],
      "metadata": {
        "id": "n97fGVruJImg"
      }
    },
    {
      "cell_type": "code",
      "source": [
        "from pyspark import SparkConf, SparkContext\n",
        "\n",
        "conf = SparkConf().setMaster(\"local\").setAppName(\"\")\n",
        "sc = SparkContext(conf = conf)"
      ],
      "metadata": {
        "id": "YtQy_R6Yp2cT"
      },
      "execution_count": 16,
      "outputs": []
    },
    {
      "cell_type": "markdown",
      "source": [
        "Ejecutamos interactivamente el código"
      ],
      "metadata": {
        "id": "AuVxuA2cJWCX"
      }
    },
    {
      "cell_type": "code",
      "source": [
        "sc.parallelize([\"hola mundo\"]).map(lambda record : record.split(\" \")).collect()"
      ],
      "metadata": {
        "colab": {
          "base_uri": "https://localhost:8080/"
        },
        "id": "xpuzB9OsJY1e",
        "outputId": "962c6396-b395-4afc-9211-ce9294924b79"
      },
      "execution_count": 17,
      "outputs": [
        {
          "output_type": "execute_result",
          "data": {
            "text/plain": [
              "[['hola', 'mundo']]"
            ]
          },
          "metadata": {},
          "execution_count": 17
        }
      ]
    },
    {
      "cell_type": "markdown",
      "source": [
        "#Ejecución de programa"
      ],
      "metadata": {
        "id": "g06QCjDVIW-h"
      }
    },
    {
      "cell_type": "markdown",
      "source": [
        "## Crear el programa miPrograma.py"
      ],
      "metadata": {
        "id": "4aaWGRicJpFH"
      }
    },
    {
      "cell_type": "code",
      "source": [
        "%%bash\n",
        "cat << EOF > miPrograma.py\n",
        "#!/usr/bin/python3\n",
        "import sys\n",
        "from pyspark.sql import SparkSession\n",
        "\n",
        "'''\n",
        "Programa creado por Javier Braga\n",
        "Este programa devuelve la categoria más vista\n",
        "'''\n",
        "\n",
        "\n",
        "#funcion que utilizo en el map: por cada palabra emite <palabra, 1>\n",
        "def obtenerMaxVisitas(linea):\n",
        "     paresClaveValor = []\n",
        "\n",
        "     #genero los pares <clave, valor>\n",
        "     campos = linea.split(\"\\t\")\n",
        "     categoria = campos[3]\n",
        "     visualizaciones = int(campos[5])\n",
        "     claveValor = (categoria, visualizaciones)\n",
        "     paresClaveValor.append(claveValor)\n",
        "     #emito los pares <clave, valor>\n",
        "     return paresClaveValor\n",
        "\n",
        "#funcion que utilizo en reduce: sumo cada valor de la clave\n",
        "def obtenerSuma(valor1, valor2):\n",
        "     return valor1 + valor2\n",
        "\n",
        "\n",
        "#inicializacion\n",
        "spark = SparkSession.builder.appName('MaxVisitas').getOrCreate()\n",
        "\n",
        "entrada = sys.argv[1]\n",
        "salida = sys.argv[2]\n",
        "\n",
        "#cargamos los datos de entrada\n",
        "datosEntrada = spark.sparkContext.textFile(entrada)\n",
        "\n",
        "# Obtener la categoría con más visitas\n",
        "categorias_visitas = datosEntrada.flatMap(obtenerMaxVisitas)\n",
        "total_visitas_por_categoria = categorias_visitas.reduceByKey(obtenerSuma)\n",
        "\n",
        "# Encontrar la categoría con más visitas\n",
        "categoria_mas_vista = total_visitas_por_categoria.max(key=lambda x: x[1])\n",
        "\n",
        "categoria_mas_vista_str = f\"{categoria_mas_vista[0]};{categoria_mas_vista[1]}\"\n",
        "spark.sparkContext.parallelize([categoria_mas_vista_str]).saveAsTextFile(salida)\n",
        "#Finaliza el programa\n",
        "EOF"
      ],
      "metadata": {
        "id": "yaCw3ySkIXIp"
      },
      "execution_count": 18,
      "outputs": []
    },
    {
      "cell_type": "markdown",
      "source": [
        "Notar que el EOF marca el final del archivo (del programa)"
      ],
      "metadata": {
        "id": "ScTW6RTNKWHz"
      }
    },
    {
      "cell_type": "markdown",
      "source": [
        "## Crear los datos de entrada"
      ],
      "metadata": {
        "id": "CahFsA1RIf24"
      }
    },
    {
      "cell_type": "code",
      "source": [
        "%%bash\n",
        "cat << EOF > miEntrada\n",
        "U-Nt_PIJFkE\twowstathack\t758\tGadgets & Games\t38\t129558\t1.47\t277\t16\tyaN8uMDNYdI\toOYZUsgzoLM\tHQNXyF9q3sA\tq4yacg31oU8\t0AXTu3_d3bM\tshkztL9BA0I\tRKGK1csKszE\tlo4hEIizWtE\tW3rhdy7W1sQ\tFbEOZnUF66o\teyfh4V8HeDM\tddf3aO3zD9Y\tdEI9jZyC9h4\tMAUckV6err4\tjuXNvK4hOXc\t6hbF9HqG87w\tZvnPMFNGHNU\tKh5C6OuYJUg\tWzD99jv-iIY\tFEcZAvUzFf8\n",
        "aygAu1x2uQo\tgummmo\t757\tEntertainment\t248\t57849\t4.54\t87\t52\tu3fiNecML2A\tHFVM5pVTwkM\tQwuXUu97kZw\tANIKZVKm1Sg\taP-SvZueKM8\t81vUDHOvOl8\tYPajJXYwMKA\t64VHa1qvGu0\t8h3gru3D3Ds\tUjubpp_7cHc\tf969BL48B_w\t1WGY7Y0CtMc\tZA0wKsVJHXY\t7_wIXliOJyQ\t6zIyHDAUT7I\tXd_WhXC_aTU\tOj1AzA5qCoI\t4B3sZuU_0Ms\tEvNtBlM-OVQ\tC7KdvX0SGoQ\n",
        "8O6ey7VkYXk\tnicegirlsnavi\t757\tPeople & Blogs\t15\t48233\t3.1\t31\t12\t1RwcN-GF-EA\tQ38grlgUNmY\tjNK3mg84CQI\tOkmL0agnS7s\tKKjrszkjxd0\tHwWVVq5I8x8\tvcP6IzS6AyM\tMwYNlqs16NU\tFkYa27TqPko\tGcvopAsc0N8\t6IbDRoyDAdE\t6p07SsEr4XQ\tBakVYaFvmi0\tPgeH22xC2p0\tFwWzfXogZeo\tUHNDLy3lmnY\tdkFkvz2UsBs\t5yumD8Mhyds\tTk-Qgfp3MLc\t9k73sbRh4mM\n",
        "xEB0SvMzKzg\tMediaMayhem\t757\tPeople & Blogs\t185\t41978\t0\t0\t77\tFfLzYZAHZtA\toLHFLy5UI4U\tKPEyxef9gvE\tJhj6bfkYjSo\toVyMjymbmOg\topzIpIXzmxs\tOVEP_sTWrM0\t3iXX0zYjK6c\tVK5d7QkhO74\t9r5iLhreGEg\tt-blV7m7M34\tSovbWfULZ7w\tNVbiisQOqXY\t0Ne15bppwIU\tSjCvrR641lw\t9UBQIpaNDSI\tm8MxMqyTtsU\tV1jmnJzgfNU\tOTS0Fwx_Z8w\tNNWyOkoxyBs\n",
        "aOX06gGASXM\tAlexJuxta\t757\tNews & Politics\t103\t25213\t3.36\t66\t143\tzv7w6YRpaE0\tp_qafFY1e_Y\taAyyT5Z4XZA\tmEc8NS-ltaE\tkgdAV-_S0mI\tY3gHG1HTB-U\tK_4QXvv5LXc\tbRaOHwUGXJg\tl9W-byYI82o\tdjS6dojxDe8\tvwQ2qYOkp34\tlGI_7iMn1D4\t-QlZpmwWB0I\tFEqmikMmc_Q\t3OzFiuWMzR0\tGNZiU1GHqPI\tVzDdQYbAX5E\tr9p0kyWLAMI\t8sQzUh92EfQ\t8RUqtQrgMKU\n",
        "syV1fMJq21A\tGayGod\t757\tEntertainment\t524\t22954\t3.78\t395\t605\tHnBtEW2C_No\tdYVNPNcO1Nk\t5Mii5zlbaxA\tFNNaZKm0E2o\tyjF8LgpBxc0\tNH5WhuC8Hmw\tnKAFCAWash0\tWKa3affsVeY\tGaLZybhbzvk\tGS2xqx1k7Uo\tDN4yVrgYSKw\tRQ8eaA78v8s\trTvAl4SjiUk\twM2vybFS9Ck\t2qiVlGIDsnU\tqv5AqX6UXD0\tOt1Kgt0WaaM\tZGKVjoioLI4\tEC63RJxdDok\tpK67Ty8e4l4\n",
        "v1op8vwF5UA\tbgeiger57\t757\tNews & Politics\t381\t22626\t4.78\t266\t109\t0ehzEgU-oVI\tR84vpqbWl3E\tHWIOZSJoiXk\tKe-TiN4RIVM\tF07XjJITRHE\tQ35jUtnLtRo\tIi9p6okD08c\tdn-e_CuiiOk\tt_t2fotHyKs\t_ReAG6jNVs4\t9lqhdJCHOO4\tikIEDeCDuLE\t3CsO8Ob9UTw\tVX7jUkfqhvk\tbkprx_TbLtw\t7sRAG4w_MaI\tsM19YOqs7hU\tswU26scrFc8\tvj7RPxykFP8\t15djRzWG3_0\n",
        "oPTP3rXKHvc\tgoogle\t757\tHowto & DIY\t91\t22310\t4.51\t55\t27\toPTP3rXKHvc\t9HM-ZO2lNwA\tlapq6VvHZ1o\tk1tLC7-lRhQ\tiVMMlmJQCoI\tPIEF02yohPg\t2s_60xUGQOc\tu8bPOcPRLnU\tNNUPa1xSxWo\tx0ouWCotdyo\t70ASnPTC-fM\tZydKKE7Iuuo\t_x2fJRW_vvQ\tU29jE_u28zE\t8_3OCq_vTWM\tuBbmiQhuAhU\tZVuXmmXOIj0\tujt_UT0MvH4\tjTq8N4q0CTA\t_YUugB4IUl4\n",
        "QH4O1g8GSMI\tacecowboy\t757\tPeople & Blogs\t49\t20797\t2.57\t7\t4\t6Gwy50hkd5c\tUoxbGgfFQUI\tBxMx9NCE2p8\t2EeSz4-NFHQ\thyakqmXoP2k\t-kb4VE4-DGw\to0kJYysGcaY\tHiZ42Az-pGc\t7NFJ_xtq7TM\tJ5wmlcv2t48\tFP5R4ysAJD0\tk_BlPXj7itg\txWJw28ReqkY\tKNdgRlVvLuc\t6JDSP5odiAw\tV0ILZiXbafw\tBjmJRxNbDcA\tEf9BYkzaAKU\t5WqLiyrfi28\t6sA6mUVAWg4\n",
        "xnvyvKM1xkQ\tdoraemoooooon\t757\tGadgets & Games\t31\t18806\t4.6\t5\t7\n",
        "z43DYlwOu30\tmercola\t757\tNews & Politics\t283\t17971\t4.57\t7\t0\tzMdyFqisObc\tcyUroz2iaA0\tTbHSXidoL7Q\t8xkk3Z3gbkg\tySt4lR-lyao\tUqUueJjSokw\t8y7u9dVNI5A\tJZR022_GbzU\tQweHt6ze_5A\t6PhnRbpmooc\tZIp6DuoFVNA\taHSK1h2JmK8\t0L3Oj-OjJhQ\tUEXgW7gXjSc\tGwJliMwLDwM\tAnfGSzRuKc0\tFvnHD_PYj4c\tx_0GVZxPtUc\tNV3SEY7JPC8\tDCye9hohcBs\n",
        "WIbnHj4Djms\tbigbuksula\t756\tPeople & Blogs\t62\t17404\t1.53\t19\t2\tWQbz4JkP4xY\ttIPRACJHIQ8\tiQolKrnxbgM\t8osBP9G52yU\t67JBX047zkA\twRfDASb03zo\twvvwW5n8lxg\tQYMLfyaQLTY\tTvtDD98rK-o\te842XqQAu-Q\t0KV-PTK0UZ4\tckG8om1nqVM\tyI597DGHK9c\tUVSJt5r5n6U\t2ac0cS1YIkE\tcHoel1ciU3A\t2ISB0kGoE68\tQBnyhkmRQKI\t3N_rNz2oAGA\tumuvLoYhS7k\n",
        "ERQArggquGc\ttpot11\t757\tMusic\t108\t17152\t4.63\t87\t92\t-8khp60Xoj4\tV2ictdyo4y4\tAk9WPmJhErU\tHJp-FsdNSfs\tYBHduOkid1Y\tFmhvBTz64s4\t0Lk1UmD5Pe4\ts6NpIixCn7U\tNQKp6Z91FC4\tOs3tqP-e82k\tKcA4yNB-Qnk\tpFTdIsXM9dw\tNzd8c8bbgYQ\tBlWX_NmE5KE\txxl66nYfdl0\tfAUxYn3Eh2I\tRzZ3C0jK8hE\tjt3VhWARnDU\t049Gud9PFKo\tDMzqslnxrAs\n",
        "Y2T9OAzv7IU\tBl5H0P\t757\tEntertainment\t656\t16867\t5\t2\t0\tdMH0bHeiRNg\tuFwCk4UPtlM\t6DDOG5LE4-k\tgZjpCSfF1A4\tsT7vK44Xjig\tgxF0yMh_-4c\tljyk6r-Stng\tvscFqC1Fhug\tZqRdFQVjcs8\tyTbeMRs71Fc\tJ38eqLswTcc\tvTZhZ2rKkUQ\ttOiOHWcGVnM\tTbIJftqkWQ0\tTFSMM8RVWHY\tr8QIvzYU20A\tVVFBRVO4sY8\tRC4rrpByTds\t0vkehq5RiSQ\t2dHUu4MhwVA\n",
        "BdH987JJDYs\tRHCPtv\t757\tMusic\t261\t16426\t4.66\t196\t174\tBdH987JJDYs\t9cBSs1hFpBA\tLqiv6ofeowU\tLZvRj726ipg\tSwnrAUuFb0g\tbCocAHXsZdc\tJoqf35Pn2cI\tCaOo3C79gaU\tcHcGmhvDlCY\tACRtAkyRHrM\tVLOQY4LZSaQ\tz4F3x5bRVEg\tm9ipa4cd410\tJiC_qw4LMhM\tgykBO2sDV-8\tTdagH15ZEwQ\n",
        "VjR6YH-5Tn4\tteluricatv\t757\tNews & Politics\t250\t16033\t3.67\t3\t2\trUbTH0WuT_c\tKFd4U3qP69A\tqcfLRxFq-cY\tYJIpvzUo1zc\tpMLqJ1-UM3s\tPND5WiZo_Kw\tK7geWOxqcjs\tznLAFay7Uyw\tUgbz3HuH1eM\tE5rvQ5RD8KU\tiYf-52OpNQ4\twtLfVZ4Bg7Q\tXkT13YOZyT8\tanBaNk3WMe0\thIrQ8wOaj6M\tnnBFaLSXOlU\tCnOEgIBJcBc\teuHe0KVeER8\tSpMDzl6R9fE\tPZGIUw_ow_o\n",
        "V2ictdyo4y4\ttpot11\t757\tMusic\t107\t15620\t4.8\t51\t49\t-8khp60Xoj4\tERQArggquGc\tAk9WPmJhErU\tHJp-FsdNSfs\tYBHduOkid1Y\tFmhvBTz64s4\t0Lk1UmD5Pe4\ts6NpIixCn7U\tNQKp6Z91FC4\tOs3tqP-e82k\tKcA4yNB-Qnk\tpFTdIsXM9dw\tNzd8c8bbgYQ\tBlWX_NmE5KE\txxl66nYfdl0\tfAUxYn3Eh2I\tRzZ3C0jK8hE\tjt3VhWARnDU\t049Gud9PFKo\tDMzqslnxrAs\n",
        "JyYZK5fa-Nc\tnicegirlsnavi\t757\tPeople & Blogs\t39\t15256\t4.19\t31\t17\tFMj6EqD6wkY\tSJOZFjTMr3A\tcwuR_zlZxKY\tCz3ePgnmaig\tTxmXJtBKrsQ\n",
        "TAYBXVwuQC8\thockeyfightsdotcom\t756\tSports\t56\t14968\t4.64\t14\t11\tsHle0xeCLD8\tL_nXZxjPDYc\tNEnSx84JwzI\tWhDxqG_GjsE\tsQqdBr9fZ0Y\taJJ1PfqPIcU\tO8GHVRtp0h8\teU2XA0WIc9E\tCBMUB7OaNm0\tGFI0EVdOmSQ\tosdtScuH2YE\tLU92a3tFGpI\tj-pGP7Afkzo\tkAWxoA9j2hY\tH65OIumgxGs\tj9umnO8UvrE\tCZTJxlCv7wo\tsnDLwO1JzsA\tnyWyoM30JrA\tFd5U5zlWoeg\n",
        "j5_Anxr-99g\tLoKoYaW\t757\tMusic\t251\t14922\t4.54\t46\t46\tZ40m1l3UOQ8\tGv43F-QmkMY\t8ZXtKIudBpE\tiRBBMz_lYbM\tyW4AIyTb7no\tFHD8Ukd0owM\tvycbMrZP5iI\tyGj2KRvWhQc\tjeOR79Nr_K8\tuHZGtyotK-o\teHH_2Ra4fd4\twy1p7D5xrro\tKn4_GL4DOWc\tzS6T7hSKOF8\tbmD2b2dxjB0\toXv-lTHlNwA\tZe_1ynKj4Uk\tzVogBP3FJaI\tZO-CuaGkm58\t75fNg5N4Fuw\n",
        "HJp-FsdNSfs\ttpot11\t756\tMusic\t108\t14721\t4.49\t45\t56\t-8khp60Xoj4\tERQArggquGc\tAk9WPmJhErU\tV2ictdyo4y4\tYBHduOkid1Y\tFmhvBTz64s4\t0Lk1UmD5Pe4\ts6NpIixCn7U\tNQKp6Z91FC4\tOs3tqP-e82k\tKcA4yNB-Qnk\tpFTdIsXM9dw\tNzd8c8bbgYQ\tBlWX_NmE5KE\txxl66nYfdl0\tfAUxYn3Eh2I\tRzZ3C0jK8hE\tjt3VhWARnDU\t049Gud9PFKo\tDMzqslnxrAs\n",
        "GiekT3n85ik\tnaomiheartslove\t757\tEntertainment\t20\t14553\t4.9\t60\t99\ttg92SzhpXjQ\tZC9CSZVz04s\tE5BO01A7-50\tm3g67wJxj9o\t0gPWZ6W5okw\t1984PY_CUzc\t-29d6gigHs8\ty3ju6dQX8Uk\t8nT25JuD_Qk\t9yr7f2BdGjA\tsih639sxcqE\tpke4yWWDvM4\tFS0fjcsTawk\trh9MQBG8v9Y\tK8F-_jsA4CQ\tHxTzrXPN71c\t4_4nAY4KTiM\taVzYA0rpKY8\tk8FfoWRzGEk\tCSZP46-mcYo\n",
        "yVVqyZ-2fAY\terfg894kx\t757\tComedy\t467\t13853\t3.67\t9\t1\n",
        "c8a81g4hey4\tdjswivel\t757\tMusic\t256\t13662\t4.41\t44\t51\t1ojV7vxZTr8\tZWKxMGV6z8c\thj2cpwH-cEI\tc5DiZl_rQpc\t0V1x4s-Y77w\tx9DF-Irqktw\tyqmt1MYmvhM\tmTcuxayqsVk\tetIdIsKqtME\tFrsFHN_iemE\tppsZk6LH-6A\tSFw86hBQ_Vo\tJopA5Hu7JMU\t_OVc6hcRnTU\t7ac-HYtuz0Q\t8VPA3SUsd9U\tOsesSef__Zo\tlsZiVAK2DL4\t-u7EzubKcCo\t8KeYo8rpnVo\n",
        "SNbnQm1F7JU\tCelinejaneway\t757\tEntertainment\t22\t13352\t4.97\t40\t39\tv5KeI-DejBI\t84bftzzQMpY\t5U6G_owYl3g\trfi7gV5cVi8\tOCJarfcWP8Y\ty7sAsU1IiGA\teqQcLSqtJQk\tFk-NlBlq4nU\tbmWRZCCRE6k\t1YJ_XI_xr-Q\tg_-knkcNGn0\tf39w2f3kda4\tIt8PYXCycLs\t94RlML-HLNo\t7wrNztOUawc\tYf8szieSS1I\thBON8SJAOL4\tjZQaAPTao9I\tsTrISuOGifQ\t9YDD4I-BI7g\n",
        "pacccixFYwE\tSaintSeiya0323\t757\tFilm & Animation\t4\t13317\t4.67\t3\t2\ta-zNuTxyyM4\t-RSBtlIgPpc\t4Yg6VbXaSls\tfdtpc9IVMjI\tqBHVYujimHk\tLIZZ3as-2FU\tjOSAK4QE-Ks\ttJaHgZgmBGo\tA3HpUZE9YEw\tFnnEGnS0fq4\txV5lzimc-dQ\tN3fNcTh6LVA\tSPgNb5taSeg\tlMmjkLeEa7M\tmC09KZf0_SA\tZBPbxMvdXNc\tBgx_dUvmWf4\t0_VzoZgEGok\tSmx_VLlL6gI\tdoh3J5eVeto\n",
        "V3DSJ377XGA\tSaintSeiya0323\t757\tFilm & Animation\t5\t13268\t4.75\t4\t2\ta-zNuTxyyM4\t-RSBtlIgPpc\t4Yg6VbXaSls\tfdtpc9IVMjI\tqBHVYujimHk\tLIZZ3as-2FU\tjOSAK4QE-Ks\ttJaHgZgmBGo\tA3HpUZE9YEw\tFnnEGnS0fq4\txV5lzimc-dQ\tfakdn1F_TcY\tN3fNcTh6LVA\tSPgNb5taSeg\tlMmjkLeEa7M\tmC09KZf0_SA\tBgx_dUvmWf4\t0_VzoZgEGok\tSmx_VLlL6gI\tmkPrke_5RCU\n",
        "auB1NbZhfkQ\tilovejr\t757\tEntertainment\t596\t13123\t4.9\t41\t6\tzryQnGOt_Ag\tksK5FAnrSfo\t6Kz65g7uRkg\tfCuH7qTsmWI\tMmBm-8jjdiE\t4qr6CABtDwk\tmtdwh3FLj7I\t6pWAlDWZnpA\tP3gybmbnjKw\tqj_rPmjVzz4\tFMjdqnZ1Elc\tiXN5hkRBRJY\tkwf2u6GQEms\tPvd8Psi5YR8\t6zyZmRViRmA\tkoVPmiqfNeI\tGuOqtqdV9jE\trTPpQ256urY\tlMdDNgphu3k\t35r6i_iJ2Ag\n",
        "Ddhdbn5OsqM\tSaintSeiya0323\t757\tFilm & Animation\t6\t13086\t4.2\t5\t0\ta-zNuTxyyM4\t-RSBtlIgPpc\t4Yg6VbXaSls\tfdtpc9IVMjI\tqBHVYujimHk\tLIZZ3as-2FU\tjOSAK4QE-Ks\ttJaHgZgmBGo\tA3HpUZE9YEw\tFnnEGnS0fq4\txV5lzimc-dQ\tN3fNcTh6LVA\tSPgNb5taSeg\tlMmjkLeEa7M\tmC09KZf0_SA\tZBPbxMvdXNc\tBgx_dUvmWf4\t0_VzoZgEGok\tSmx_VLlL6gI\tdoh3J5eVeto\n",
        "QkaeeJyPQL0\tLostSpoilers\t757\tEntertainment\t31\t12999\t4.21\t19\t22\tZ7swZaOWO3c\tgwWhM8Xb_oQ\tO6zdxlYT2IY\tPYp1Alx56WM\tEDb9-IZckFw\tqONMiSKycfQ\tTjD2qZVkmRU\tjUaDdKS4Y-0\tB9VPcfyfryA\tdxzwni7q7rA\tROv1AhqwD98\toHg8MjARHSE\tUZ6fPCQFutk\ti-JtSBoxrR4\tFTCfFy0NCNM\t_c-_lNoFHPY\tYmsuCNfG9Ck\tRqSQR1_VX6g\t0MazC22kZNo\t614Re6o3Yqw\n",
        "eGlymD7Q6W8\tSaintSeiya0323\t757\tFilm & Animation\t5\t12970\t4.5\t2\t2\ta-zNuTxyyM4\t-RSBtlIgPpc\t4Yg6VbXaSls\tfdtpc9IVMjI\tBgx_dUvmWf4\tqBHVYujimHk\tA3HpUZE9YEw\ttJaHgZgmBGo\tFnnEGnS0fq4\tN3fNcTh6LVA\tjOSAK4QE-Ks\txV5lzimc-dQ\tSPgNb5taSeg\tWPfwdFNMy9Q\tfakdn1F_TcY\tLIZZ3as-2FU\t0_VzoZgEGok\tSmx_VLlL6gI\tmkPrke_5RCU\tdoh3J5eVeto\n",
        "Wg8H50sX3pA\tSaintSeiya0323\t757\tFilm & Animation\t4\t12743\t4\t2\t3\ta-zNuTxyyM4\t-RSBtlIgPpc\t4Yg6VbXaSls\tfdtpc9IVMjI\tqBHVYujimHk\tLIZZ3as-2FU\tjOSAK4QE-Ks\ttJaHgZgmBGo\tA3HpUZE9YEw\tFnnEGnS0fq4\txV5lzimc-dQ\tfakdn1F_TcY\tN3fNcTh6LVA\tSPgNb5taSeg\tlMmjkLeEa7M\tBgx_dUvmWf4\t0_VzoZgEGok\tSmx_VLlL6gI\tmkPrke_5RCU\tdoh3J5eVeto\n",
        "wGLYRBfzIJQ\tLostSpoilers\t757\tEntertainment\t29\t12541\t4.95\t20\t11\tZ7swZaOWO3c\tgwWhM8Xb_oQ\tO6zdxlYT2IY\tPYp1Alx56WM\tEDb9-IZckFw\tqONMiSKycfQ\tTjD2qZVkmRU\tjUaDdKS4Y-0\tB9VPcfyfryA\tdxzwni7q7rA\tROv1AhqwD98\toHg8MjARHSE\tUZ6fPCQFutk\ti-JtSBoxrR4\tFTCfFy0NCNM\t_c-_lNoFHPY\tYmsuCNfG9Ck\tjVCH-oqNQpc\t0MazC22kZNo\t614Re6o3Yqw\n",
        "gHW9nu0irwc\tmaratontube\t757\tSports\t124\t12503\t4.33\t12\t9\tMPG-LYoW27E\t2mCoOlUjhlc\twk_Jvj0pKzQ\t1ETt-qiP_os\t-RMg0anuc04\ttEsdssniEeM\tzhlhsB0VkkA\tSd2nVtkNMZQ\tf7F2EfMxvN8\tnIy_vA9xZc0\t5oVPWvKmkXI\tWcyDE7d2t1c\tXvwK-3cQ6gE\tJxE-BB213jA\tPfibUzW4m_4\tbYyFlLxBOVI\tt_6-qpUyXOg\tw1DXbW3T6BQ\tM2tKBebNIAw\tRXXddz2Saus\n",
        "xfjEPX1RmeA\tzaman4242\t757\tComedy\t594\t12484\t4.91\t47\t14\tqeJ7-f8N7cs\tieGPt0epMdM\t38ddw5dUDkI\tPA3zn5tu0ho\tT-Nl4ODLvKo\tp8ArGy78Cas\tUvNeHiT2LOE\t2VBgjgULFSg\tZnPUR0gxY-I\tjuzx1yvgh6M\t42mazsZ2AR8\t9bLL3k43un4\tSwxcsSyAuCE\tiUQcN6SxKSE\tUnEjlOMycos\tKSdfSMUaFuw\tmkjERsN-1lo\tkZAjH2ZYNdo\trkr1qMCbBrc\tIh8auGCcqOE\n",
        "lrRFVhOR8Sc\thowshau\t756\tPeople & Blogs\t95\t12201\t3.1\t10\t6\n",
        "MmBm-8jjdiE\tilovejr\t757\tEntertainment\t570\t11730\t4.82\t68\t10\tksK5FAnrSfo\tzryQnGOt_Ag\t6Kz65g7uRkg\t4qr6CABtDwk\tauB1NbZhfkQ\tfCuH7qTsmWI\tmtdwh3FLj7I\t6pWAlDWZnpA\tPvd8Psi5YR8\tqj_rPmjVzz4\tP3gybmbnjKw\tFMjdqnZ1Elc\tiXN5hkRBRJY\tkwf2u6GQEms\t6zyZmRViRmA\tkoVPmiqfNeI\tWhtZxuhBfJw\tGuOqtqdV9jE\tg2JkY3TzpQc\t35r6i_iJ2Ag\n",
        "1nwGf5LUZDQ\tRUSKOxSTAR\t757\tComedy\t263\t11654\t4.06\t16\t45\tqC6rXpBXQfs\tVberAy_nTp4\tszuqXvzhEac\tchkgwRlzPJ0\tb--pR4OjWMw\t3PICBjGSl4Y\t_vU9kFZnwEU\tEP4OXdLL6uA\txfn63s_UoxU\tBzkPerEPy3A\t3KFHAjBTUoQ\tNjaPirzR_84\t-b0AnQExABg\tg2t6El3mpwg\t4qyk_o0Muus\tvOGKBcbzQIQ\tZokVJUgXgMU\tRamc3_CSSpc\tlGqaPKmeKt0\tPRxnRCR-TsU\n",
        "FVcIhRu6_i4\tLostSpoilers\t757\tEntertainment\t30\t11652\t4.65\t20\t9\tZ7swZaOWO3c\tgwWhM8Xb_oQ\tO6zdxlYT2IY\tPYp1Alx56WM\tEDb9-IZckFw\tqONMiSKycfQ\tTjD2qZVkmRU\tjUaDdKS4Y-0\tB9VPcfyfryA\tdxzwni7q7rA\tROv1AhqwD98\toHg8MjARHSE\tUZ6fPCQFutk\ti-JtSBoxrR4\tFTCfFy0NCNM\t_c-_lNoFHPY\tYmsuCNfG9Ck\tRqSQR1_VX6g\t0MazC22kZNo\t614Re6o3Yqw\n",
        "6acXiZGyTW4\tnicegirlsnavi\t757\tPeople & Blogs\t67\t11620\t4.38\t32\t9\tWSnRWk2O2VU\tncdHDE8F47Y\tYsUVfmsgwig\tPhDS317ibMA\t1rwYompOEc8\te7ZgRZUGVeA\t2MwbNd9Pwtw\tE0GNQoi4uZY\tvZ8xFYSvWy4\td0hm1969_04\tJMtCQqGALvQ\trzTdznVskSQ\t5PSaWKxMf2o\tD_5YuF2l1B0\tDCIUss4RFCg\txDqlpX7G7Fw\tLzDCIHXNKUI\t5ccmSGkjWVA\tPaD4gBYhIgc\ths3b51DEcMA\n",
        "NmPH2_Kf4xo\tkaaty43\t758\tEntertainment\t131\t11512\t4.11\t9\t17\tZhpi5KqNqAk\t7PQbtr99QXU\tabPjWrJ1emg\tTi1yHSzw8Hs\tUijCD2KAdcg\tScrHjVU-X9I\tKerEX2w18xw\tWITNAS37kxg\tMidEv1srToE\tjcb8sjMVUFs\tAYtYZRmRSfw\tcga2KXcR9VI\thwDjyxFRJlw\tC80RwvSZIgI\tkXtvbGE0gXs\tWXiKXlzZZh4\tUfit2x9vaF8\tysQXtdqROi8\tHuPhcHT_XQ8\t3Bx9kNJOOOQ\n",
        "qczPn9ENw9w\tPBRNow\t757\tSports\t86\t11445\t5\t5\t5\tmAEeNvRQA4o\tJiZg74zU8Bo\tBzJ5n_KPqIc\tkH3qjy-81Tc\tnHQiJ_9TH9w\tTV7JCEwvF6E\tI9svY1ImuWk\ts6bgxPRuPBg\tUv6Xa4eMrME\tP_e6SAHAdBs\tzw55QP_pFL4\tv_MfrOJ8ziI\t2LRTIe8D6-o\tu3j7Yn0S9O0\t68oBNoLXMro\tFEwfsTTEjSI\t9a_KSD2klWM\tT5aCVillPrU\tkuLe-MGx7c8\tk5IoQL8LNCM\n",
        "Nm63pY-8o30\tobiwan222222\t757\tGadgets & Games\t217\t11098\t2.18\t39\t40\teFV9-RuVYRU\t6OtL7ZaRZsE\tE2sgh2mzfck\tlx5F8q-F3Yo\trkjVZnEU5jA\tP7rFXHETkr0\t4l7ng-U_fks\to9lUs3I5WDM\t_nitCHViaCU\tIt8yPsPOxrg\tulGhbf02Y-A\tLXBV8uSvk0Y\tkoOSjTEG8Mk\tOigLpQAqlHc\tdZF6UBV_9Z8\tSEHf0pvEQ44\tm04zcxgBM-I\tX--9H6XEokk\t0FMWhcuPaxg\tCW4m0gkei9k\n",
        "_jSMTcx69-Q\tstick1000\t758\tFilm & Animation\t141\t10692\t4.88\t123\t58\tIOkBHt7dymw\tgZ04NvH8swY\tJhyPH0W11yc\tA0d0RM27o7k\tFkV91hyNJgI\tQxwO8EwwK9c\t9yMaRI89S94\tTi9CN1NkOcA\twa-teS-c5-c\tUjZWOysoxms\t_iYnGGdF3DQ\t-KFitmWDFX4\t735INyCguA0\t5Ft6QFfjvgg\t2OLdEH-EsJM\t0vIu6v3SwrA\tzUQ7gChnrDk\tylYkQwAE7HQ\tx5ApZ1QEHHY\txtXSab2AxPk\n",
        "r30tBiH7aI8\tcms0678\t757\tNews & Politics\t240\t10391\t4.69\t59\t70\t8ynz2Vvz9xo\tK7xZ1ZyN8S0\tXWYoxJnE9ws\tl02D0_53MUA\tT-xqnSjRyiQ\tTImxODQcxTc\tqZ8VAef8QM4\tTF0XSkb7TyM\tR210Qb7DP7Y\tszK3EWXEOPg\tmB10YT0Whlc\tWLW-oRP5M7U\tCDeO5P-nhB0\tdANDKIzXZM4\tfkphfJzXqgI\tWhBAQGUX68A\tPLpBJHcveoc\tWRWo8848cSU\thahG-M1YovU\trt8NPUlOvAE\n",
        "4qr6CABtDwk\tilovejr\t757\tEntertainment\t591\t10243\t4.9\t48\t4\tksK5FAnrSfo\t6Kz65g7uRkg\tzryQnGOt_Ag\tfCuH7qTsmWI\tMmBm-8jjdiE\tmtdwh3FLj7I\tauB1NbZhfkQ\t6pWAlDWZnpA\tk5Gxu6iKYng\tPvd8Psi5YR8\tkwf2u6GQEms\tP3gybmbnjKw\tFMjdqnZ1Elc\tiXN5hkRBRJY\tqj_rPmjVzz4\t6zyZmRViRmA\tkoVPmiqfNeI\tWhtZxuhBfJw\tGuOqtqdV9jE\tg2JkY3TzpQc\n",
        "XCo0R_DEE3w\tblindferretent\t757\tFilm & Animation\t11\t9948\t4.67\t15\t8\tfF-hBQHoWX0\tdqzYumQEIrY\tTQSjc6_C8vc\tKpSLRNWWrOI\tl7JyYOwgBqc\txDR9PhiE8oM\t-LvmcCjkl60\tVjIwMS3FdGg\tZmvNeKnHdtU\t9GZF5w_YENU\tiGWRqhPVdzk\t1rpxQwZUIQ0\t2r2TINAsN0M\tUjyDGIqNIxg\tpPIpN7NiL3s\tWuZESozgfEs\th2Ru8seCf3Q\t0cFadM9M7es\tFkw72wBnCu8\tOdz--zCdoP8\n",
        "Ym3Gto_fNIk\tvegastoday\t756\tTravel & Places\t294\t9769\t3.91\t11\t13\t2EI_vj6pX7s\thrwLJjVAr8U\tDaN96I3GD3U\tLN0QVBjdvYM\tdAyErdEM4o0\txOjr8r6RF0U\t1CtKj25_dkI\tWWHRZ02Qtuc\tic5jtGtImRo\tG9LgbAS__XA\t97KX_VB5_w4\tlzXDvvUIqt4\txvHSrlaXht4\t34Io83aeMq4\tPVwXapl9_1A\ta0iXn9Nlfms\tEeKECYAI5Q4\t0pJ15JDb6hc\tnp5XSTwv4vA\tjH3jlWezbBE\n",
        "WuAaJtlIQ-U\tpenikaju\t756\tMusic\t368\t9503\t3.38\t40\t81\tOkOUMoCRGKo\tQu6o4O7VOEo\tko47ktP-9vw\tiEPjZkWTFUc\tWZtKTFJ2kIY\t1eXNMRwykCQ\t4QUzTl9OSoY\ty5aOcP9HkCM\te-qWDPp2y_c\tZEF1M8mblXk\tZ_XAlTQwdKQ\tgvkzNTZf2u4\tBO9qd_xov_M\t2bgEoEcFHFo\tB8dGq-w07FA\tXN-FrCiLOYY\t7ObLWCW8e44\tJzeLCfC5hFY\t6iFgtG26KVE\tNiYPQ50C9o0\n",
        "crmnDZjC6D0\tjackiemskm18\t757\tEntertainment\t503\t9438\t4.75\t44\t19\tw_MWMYxQFug\tcv3hllroIBw\tEI2TLRqNE_E\t4tSbvNLppA0\tBLh6qc_fiP8\t9qQ-SoUBL70\tqLWTmM16_tA\tpby9ykKDEmg\tWlkWf-fjzWY\tD2_BM47ibtc\tBUuyehh0fgg\ts_kanylFhrw\tiDJLxqMFUJs\trMy7Yz79gLM\tnZLbgNDQGtQ\tf6mIMSGu2V0\tWblEp8LGNi4\tlcN2Kw5RCvE\t15b0VA9z_Ts\tNryFoQb2jVg\n",
        "URWdQ52g6kI\tDoctorArzt\t757\tEntertainment\t30\t9291\t4.78\t9\t3\t2iD4KWDXFSc\n",
        "vq431T7FT_s\tgnomeishtinkering\t757\tPeople & Blogs\t136\t9279\t2.92\t13\t6\tlw4JZCMtz6g\tneh6cRsEk5Q\tIYHJ9TMzpdQ\tIE5hnjKxDWg\n",
        "Hq0MN_FWvJY\tjanetaguzman\t756\tEntertainment\t44\t9166\t4.74\t35\t19\tzCTCCmPye1w\t5LUQw5-Omp4\tFurDjsCzn0w\tD9GDWBvhlBk\t80EYbQ2qaRs\tifxdMZE8zno\tGzCeoGSSbC0\t8ud8Mcmxo1M\tyFYO-RXk1Cc\t9he9SIzlhwY\tuZNg0e8_B5Q\tUXguiCwIi80\tpsNFhA7W_8Y\tqgeB6eq-HUk\teDeDops_CuA\twqq1QngHQIk\ty19_IgmiGDI\tlAeMnSlTBOY\tnFiJ3nioBa4\t5vzgzYj-5S4\n",
        "vryfV5WwrsU\tdap\t757\tMusic\t196\t9159\t4.69\t29\t41\tovkdtf0mOLo\t_SLo6dhzHLI\t0I4dDgu4ouk\tSi0zhIJb80s\ti6po2BrYyEg\tqH0oGSDuJFw\tHusQg8s_vIw\tYsXPey38I3U\tgC56NbV5kpE\tsYO9D0hrJcU\ttZAtpOoWvKU\t-leKexB5CGI\tUZQE6h8nDHU\t00vuS0E6aq0\tWhJrbKtPFQk\tnx3Ptv6EKMc\tLqgFYE_Pgos\tWSgcfLa2Ldo\t7vbAM-okLjI\tzyCd2jU33SY\n",
        "aEmB_N4ObJA\tmappie00\t757\tEntertainment\t14\t9081\t4.73\t11\t5\tU2S0pFT8vGA\tGFCjvQYSwxQ\tH4wZj78cmqM\t9tI5EbRZC-Q\tX2IjnWXTzjY\tEwqUPmu4xjk\tUfWzuwe9t_4\taCB38zFfRKw\tfMOOJCsnGKg\tXMjnQHCD6hc\tjYW9owH_cBg\tIw8TqOu8aqs\tIP6uD4mDzYE\t87F2gBezXdk\tmKyTeuBla8s\tUr1TswK3q04\tOVsfJ2TyGP8\tUou1sTWO77I\tgpfK8owNP8o\t0M--bu8rwOA\n",
        "2KOex9KiiCo\terfg894kx\t757\tComedy\t140\t9042\t3.25\t8\t0\n",
        "GRKISVoIz3Y\tmomepublishing\t756\tEntertainment\t599\t8953\t4.45\t11\t16\tHfqZAKufq_w\tiphlmGlbqBc\t6eZFKufebkA\tFd4Kua93bVQ\t4TLMlrpPEws\tjnEMnZGpwHc\tUgOAtSuQoF8\tPojnU_v49kE\trgbumyh5k6A\tNzpm_-DeuEk\tym6HGLahuoM\tHDesDIOoi-o\tQTpY43VRfHA\tivzGnHtN8Mk\tta-UoXDRMKU\t0P3xbv9luRY\tNFdmDAJ5kzQ\trhBrcBjkYM0\tap2WK-F5tQ4\tczBYDhEkeqY\n",
        "yUvtaBhWbO4\trpongett\t756\tNews & Politics\t165\t8913\t4.31\t35\t34\tHvdRXy_Hv20\tRMUpdqHabPw\tkZ2DQpObXNY\t1AMDezOkOLc\tHvXcl097BIU\t50Rc62JLJm0\tZE7kCobWXM8\tZ30c0BT-Z0M\tJKo4Gj3BRtg\tf4ZbbQcM_RI\t6BKXpsUUFNs\tpr7oMN0e2wU\tS4-o8fr454o\t2c2qHXOXK6w\tV1sh95aOz1E\t9M6fdyoKK2A\t_zZieN92CrI\tXlL6yhEYi-E\thYglZSsH3wo\tpRczjMVNcbM\n",
        "Uz6cEPRTrVY\tPeePantsJimmy\t756\tPeople & Blogs\t60\t8874\t4.32\t25\t15\tpo0U73YggCE\tJfI8R2sOJ2c\txH5761sWl7c\tTCL3nhrp38M\tQVEnCUe8h7s\tMxcsqM-XHMY\teqP0cEm1jI4\tuObIP5YI6Tw\tyN3AuxnBPmE\t1AeqRqGw6CM\tWscvcvjgkJI\tRerRXY3cuXg\tzX9lBZuUxrI\t6UW38lndSuE\tFPEcs1OroSI\tKq8x_NYfGtw\tnL3U2e4sEdA\t--5aUarfBVs\tuivneIT7Qp8\tzXu6QadwjW0\n",
        "oE8vYkyLLCw\twongchoohan\t757\tPeople & Blogs\t201\t8807\t4.28\t18\t2\tP6a_4n2_88M\tQNpwqok97Lk\tD8LFVDBnZvc\tLHUbQo1bVuw\thwAOFNA0e9o\tgW6ZWsdyDgc\tvR2JUNz6CCQ\tHVCTG8Na7Ao\tZ6LKFaRr9H4\tUwCLa8GZY1E\tCKBTJ7OCPPM\tS_njSLP3Rz8\txW5Z54koBs8\tljtWvti0n_c\tdIDaDibIoLw\t9BpSP89Fk-4\tB-h9WwGxkm0\tkuwmUnovZ6Y\tvM9V5W4Ix6I\tcffvyQLmaQM\n",
        "t7XFyQhT1sw\tHISHEdotcom\t756\tComedy\t137\t8695\t4.69\t49\t19\tbtVFBSkOo68\t5rz4h0AT5iY\t3ICdnKOcsaE\tEnTbQClNH0g\tlXCvhjZwFYA\tETe5WAZklDg\tSZIzs1BVw1w\txBXxx6AmNg0\tpyzswdqQZ9I\tjrE1CB9nzR8\tq5HzsOyvVlo\t0tYxLfR5VDM\tkrV2LOhfpEc\tDDTo_qxH4bI\tASPgiU-SNSA\tEcPHORmXQQ8\t-uwN5TceCEU\t1JApGKsIVdM\ttVpa3YWkhZs\tdAx02SQ5Mjs\n",
        "0Cb7peC973I\tAGgerira\t757\tFilm & Animation\t36\t8644\t4.5\t8\t0\tRNnndWDeI20\th95MW4HqDVk\tjTPKMa6GQ5o\t4bNDi-rcxOc\tf1HU9sf0AbU\tG7-cB01bvM0\tV-GHeiZGeGk\tJOAJCq9MxsI\tMrAfmzCl-u4\tCrzogeuf78w\t1UcE0R2besg\tU57VqWLUMzQ\tZTq6NyY3svk\tLAUf_p0Lsqw\t4W-0tnu9Li4\tNSbJEfoo1Yc\tquJK7wsO_0c\tVd3aE27PGa4\t0ObXFrK8HN0\tEUAYnWJj0FU\n",
        "k17n0ruZy30\tFueledByRamen\t757\tMusic\t48\t8600\t4.86\t28\t32\tS2NsFokFD0w\tkxz8Lpsr4qk\tQKoWKNuDGbg\toP-WT3apPwA\tJJFHckv28ZM\tXrfNb58zHTM\tL21YMwSxiT4\tVU6jpBH4ql0\tyjbcCEEIlj4\t9PzjQ1M8r9E\tUnADFy0Bd6E\tCxQzzrdNQkM\tBQ9AduMlQI4\t2bJcsA6mT5A\tpBM98N4XYNE\t81bJj8Akc4Y\tS3KGLib_Fk0\tL5-72k-FIic\tG_FxCi1flsg\tUAQcNo9yWbM\n",
        "bayodrszldc\tfutuunohito\t758\tEntertainment\t14\t8592\t4.9\t61\t71\t4itvyMRs9cM\tI_GLd9rZPbI\tUtHM_YiZ9q8\tbMfTsTDb9DU\tMJmBnVEZSwc\t80Ln5FYEvQk\tOGVNj1foHGY\tfU7cROC3jvQ\tJk7NiQWP7zE\toDHgpWbNhcw\tqh7ay4WCanU\tSo9as5z1A7I\tiy-giXfBF_E\t31l1nKLkbCg\toycXuwYd24g\tSIxJOaEMXEU\tCwftvVPGQvs\t3FotsGJZ5AQ\trICItLWz8Lk\t4DJPV_Q87is\n",
        "vlKMQdU-aYI\thutana0123567\t757\tFilm & Animation\t655\t8484\t4.91\t65\t32\tK7qOCnv6OwY\trfAeZj7Z1zQ\thzmDO3wcPlA\tE9cbTcNFlzs\t4mXUnUMOXXg\tNwLmKnPdGxk\tKT_7IGHCzxA\tkB0vGpUgCSw\tTM3UNjnYTNk\t3bZ2djYGtdY\t0UFEe7CaKvk\tnmfbn7ngeFc\tojR0Fm05mio\t0f_xksuYaV4\tN9nVj72RwM8\td22Ku0R-vYU\ttuZlyAcwXns\tlKAKn27VUXQ\taeRCHtZlIi4\toMnrszqauHk\n",
        "4h34wQhxbAk\tjackiemskm18\t757\tEntertainment\t417\t8483\t4.81\t31\t12\tBUuyehh0fgg\tiDJLxqMFUJs\tcv3hllroIBw\tEI2TLRqNE_E\t4tSbvNLppA0\tcrmnDZjC6D0\trMy7Yz79gLM\tqLWTmM16_tA\tpby9ykKDEmg\tWlkWf-fjzWY\tD2_BM47ibtc\ts_kanylFhrw\tf6mIMSGu2V0\tMlicw8b56FM\tnZLbgNDQGtQ\tw_MWMYxQFug\tlcN2Kw5RCvE\t9qQ-SoUBL70\t4fQmVWdptL4\tNryFoQb2jVg\n",
        "Ams2ljrNCKU\tDaoutsida2\t757\tFilm & Animation\t508\t8345\t4.9\t30\t17\t0n9lchOCxA4\tAckuEH3dfps\tuR4N3gT9c9Y\t37qJIBMFYUQ\t5lpZvFTcBH4\t2_F_DzyGKco\tpcu2yeNqLhQ\t8XPpDnBY_Qk\t_RqrMXdu8yQ\t1BHFnkAqcCg\t0lft-Xq_fpo\t-lnU6-2sGl0\tYvw489WL4gc\tu2b1aVF2fRc\tZMirFYNOIso\tRlXXmWOiSyc\t4jc8WQ6zJAc\tIAVTqWGd2qw\te7zshPwqq-o\txtcyONiu2iA\n",
        "ePIoGptFUh0\tHKovalainen\t758\tSports\t44\t8296\t5\t22\t30\tu0m5Zoh_aTw\tEHPejLvaaHQ\t3mZpdsxarcc\tfFD2UhWWZ2E\tuVOMLsdEw1I\t12c1WTds4fs\tnWWpWaM5y7U\tt8rh5sUdYuU\tua2SZkR5aUo\tBv_JKdlRXZA\t2_Ba22xz83U\tA9H5IJ-2cNo\tolvOgDiLkck\tkpemZHipvJw\t7qsZuKW0-Bc\tkurYW0mkvYY\tXAUzLRMmp8I\tXhxVjXqWyKI\tnvPhqfAkudU\tRHjU-OrL-fM\n",
        "TuFUGYErjCY\tNirvaphreak\t756\tMusic\t337\t8286\t4.9\t21\t2\tgcPkii9JjAI\tsgjOQnsI51I\tNZNAoi6V254\tuRXRAtSKMG8\t5l9vT5GLON8\thM_kyrkZgtE\tYxXrZyjkAqY\t8Gi0tTecBnc\ty2mXWKWatbM\tIUSeppgacO0\t0sI3fzeWC_I\t0FPaR3xjJ1Y\tBCoYcJiZUh4\t_aXvpLmSFqA\tGKOLEpKYfSA\tzJM_cubaPRg\twKorKZbaiIc\telD7btQttN0\t0tBIMA4zCHM\tKNgNwlWq2bo\n",
        "zrebiAuO8o0\tErFede\t755\tSports\t29\t147553\t4.7\t132\t247\twH8yzvwIr1U\t8xJ34SfnJgk\tX17JRF19KrA\t72ffiFcap0E\tXzvooTFkv-E\tPaXrxqW2_7M\tVMfmiuM4uJ4\tl4FVOUxGnRU\t9UCOCGPf0hc\ty5GjI9JAyG4\t-WMDP4kzcS8\t9m735lsRR6I\tGbJX2w7AT-g\tUYpL7_Gh0RY\tIxXpmmaO38Y\t1Oiw92pdLEA\tb_FTlhk525M\tJk4JUzNoCFM\txcZeqwtFiQY\tR_-rtweI_4U\n",
        "QQBHumJPO-E\tssweetyk\t753\tEntertainment\t70\t57794\t3.7\t10\t2\tNMdfYN6KmWw\tyaisyf2yja4\tJ7yQGgrgFAo\tuF9v0ft70oE\tfC5kVQhNMKA\tBJh_SOMt1-U\t2tJk-xO-dY8\tOvukmN95OyI\tQnUuZYeernA\tWI5re7EMW4M\tEGewZ1K4ipA\tgWGG1jiOmrY\tR-JzMknOE3I\tRlMe79UTD2c\ttyRdPgz86N8\tN4EwjI9YPA4\tW-mYYm1KaFY\tOm_Vh4RLqMY\tdr52QZ8gwlI\tAhgOQKDPVVQ\n",
        "cDZ2Ev2dnx0\tDCLugi\t757\tNews & Politics\t340\t3937\t4.63\t342\t195\tSAJgFDCU3So\tcHkkmC7SUV0\tJrfFluTQj2E\tAFnzKDFD9To\t3q5O-TBTkFY\tUA9KFAXizs4\t4LqhmI9pV5Q\t7bbxaJ6BK3M\trP2hRCwgo1U\tQ_mDvixOFK8\tpr9PIOu3Hds\twifGhxBrmNA\tqW5UnEgN3pk\tXwzfH7hS35E\t_FYy48Dn5Gc\t799CCSWcfL0\tgN0PqFifymg\tiWowPnrti30\t8DBx7FTQvyo\tcGJFCaL1EBg\n",
        "Bj3-S18_kr8\tTheRealParis\t757\tFilm & Animation\t59\t3974\t4.6\t264\t201\n",
        "eUzeV8c1yR0\trickyste\t757\tEntertainment\t179\t3164\t4.55\t260\t185\tGAkH1H5Mh_U\tRxuBQ83F2UE\taaOetcoBv08\tqlWGsEWizPc\tvJxDjZXnwJI\tW3ET3aLYpHI\tRCrIlmWZXsA\txhZyGFR02Qc\tkPLGNOZJ3CQ\tLu6DXj9Ywsc\tlmpLZtE1GA0\t_cKOnOMgcnA\t3k9RyNhfn2c\t0Hez7SHf0vc\tcATHkNVZnsc\tQYXbLAYg4WA\tf1RFmoNe05k\toF94H7VeYSk\tN8frvenVVpQ\t0Sa8ZhCBRsM\n",
        "sbLqULmTfpg\tSelimBA88\t758\tMusic\t206\t1530\t4.87\t188\t0\tvqbRxEuSQaQ\tNtf90dyYDtM\t7bEDqHSNeIg\trJicHzYaO_4\tpbWzl0oqA0E\tXtdqtQFnISQ\tfEeWuvOw3tA\tb7EnkpsZAuE\tE7zZz3ROwY8\twzVQZ_5aO3E\tPZNwnQrJiyk\tudKXxi4IYDg\tpBdd3mwaj0I\tlOkU9rGOqP0\t_jdI9EM19Gc\t0MDNa0aUGEw\tmpa3GLgNVCU\t_iZZUsjkdMI\tZ3Gbblnn6NU\taztoVARfDRI\n",
        "fEeWuvOw3tA\tSelimBA88\t758\tMusic\t128\t419\t4.93\t179\t0\tvqbRxEuSQaQ\trJicHzYaO_4\tpbWzl0oqA0E\tNtf90dyYDtM\tXtdqtQFnISQ\t7bEDqHSNeIg\tb7EnkpsZAuE\tE7zZz3ROwY8\twzVQZ_5aO3E\tPZNwnQrJiyk\tpBdd3mwaj0I\thETC2l0_vw8\tlOkU9rGOqP0\t0MDNa0aUGEw\tmpa3GLgNVCU\taztoVARfDRI\tBjyr15x7Ml4\t_iZZUsjkdMI\tsbLqULmTfpg\tZ3Gbblnn6NU\n",
        "_jdI9EM19Gc\tSelimBA88\t758\tMusic\t286\t493\t4.91\t180\t0\tvqbRxEuSQaQ\tNtf90dyYDtM\t7bEDqHSNeIg\trJicHzYaO_4\tpbWzl0oqA0E\tXtdqtQFnISQ\tfEeWuvOw3tA\tb7EnkpsZAuE\tE7zZz3ROwY8\twzVQZ_5aO3E\tPZNwnQrJiyk\tudKXxi4IYDg\tpBdd3mwaj0I\tlOkU9rGOqP0\t0MDNa0aUGEw\tmpa3GLgNVCU\t_iZZUsjkdMI\tsbLqULmTfpg\tZ3Gbblnn6NU\taztoVARfDRI\n",
        "7qE9iQNo72U\twarren25smash\t757\tMusic\t303\t2613\t4.55\t200\t221\tmxFwWsZPiQc\tIQKGZJbDbY0\tzMHvWJwemuQ\tzOgPIJ4IQ8k\tg_nuBTYTplk\tUfgKn2sRvPU\tn80qEKtooL0\t31jWc8qyaZA\tbycOwik6tC0\tBnkDhdhH13Q\twK6p__LMuWw\t_Sr5KU_-IlI\ty_DBEkwLEjU\tMP3-stHEZdc\t_ckZrxs2luM\teixLbVUDE8Y\tX3bJl6_WktY\tlE4ZrIgeS2g\n",
        "3wO8u9BAhow\tZipster08\t757\tPeople & Blogs\t331\t1960\t4.65\t179\t148\t_Ua4vAOBUQ0\ti5E6hCzw21M\toVO1MFZOh10\tx2dgtg21bIU\tbK_y6OjjGNM\tRM8W_y4ScpQ\taqZlTNmhT0s\tlYFboWWI7S8\twFJGM_H-p1w\tzwSFXDpXx2c\tWkAUtjUf76c\tCuyNjSzgQQA\t6tz5F77OBLU\tJJVhBTA8Qao\tNz9GjtzI9aQ\ttkyKlsL8Wu4\tZch-SNhJjKo\t-R0HYNz-7Q4\tvYP6Nkn94hE\t1lTr7BjJmNw\n",
        "6IjF5L1ToLI\tmasterb8tr\t758\tFilm & Animation\t562\t5891\t4.78\t121\t61\typBp7W065Dg\tDEiSmtm6CHk\tzQi4-YpHyog\t9JXaM5yBU8Q\tlJ01fJgnPHI\tPG8sPO0LSVE\t-6HdcvY_Els\tpaKLI5rjGms\tnuspF71jCqE\timAMO7-KIxw\tfNTjwqV-4GQ\tuPQyLNqLrc4\tvBpN9mkokEw\tqNPJFcGwEgc\tbb09OukCaek\tr09CnWUzof0\t__xYcMvaeDY\tP29e8HCRf2U\t9cffSFhMxFM\tBCW8QWhDoQs\n",
        "GLlIhs9LjMY\tdrewtoothpaste\t756\tPets & Animals\t22\t7141\t4.79\t165\t22\tMGcoxnwppDw\tMWmCKSK3lqA\tQNICm_PwmKM\tco9KoJ5PBGY\t4gOY1m_g_gQ\tQ3nNixWBrPw\tZU1_zsYYw1Y\taSvao8BewmY\tEP42uJrLRTY\t2yT59IeYZDI\tebU5t6zYZGs\ty-Yv3V9zHHQ\tRshQeDpFl8Y\thGflygEAfzQ\tT_jFM9otRrI\tYGNv4vi3Zoc\td0RaNATyhjg\tyPE0uonrzVA\tV5Ek6nddqhQ\txxRT_6ZQ1vs\n",
        "5NlQCzen2Is\tPinoyBigBrother2\t758\tEntertainment\t620\t1131\t4.92\t145\t37\n",
        "OcmzL-xHJrQ\tTheAmazingAtheist\t758\tPeople & Blogs\t1895\t1428\t4.73\t144\t102\tswgSrPLWAW4\tgGRaXR6sK78\tMv8LFlQm89I\t8iVfTo0vOHI\tthPwCLWC7nc\tdXo-yA-tLeU\tEwsZcNBjD7Q\ti7QVbJnSPQE\t0kxarlQ5VjE\toAOlfNV6JCo\tqbo2ugC2F0Q\tptDDbMf06fY\tgn9bhrBUQqw\tQYx5J91r-iE\t7LgcRWYEQZo\t7jGakdXjD6M\ticKp5s10Loc\tPlZvhncupYo\tjJuW-JBEB7Y\toRqTVRiXe3g\n",
        "flVzy1-iLD8\tsupricky06\t758\tComedy\t276\t3512\t4.5\t173\t412\tmPjGukxQqEo\tw3U48NHXqp8\n",
        "ojU8ybPxnzQ\tHellionExciter\t757\tPeople & Blogs\t448\t1653\t4.29\t164\t123\tI_h7bBXVDaA\tAF-REZDu4yY\tieVqyuA213o\tPfA7F_7xy6g\tj3C4ETDHL2g\tVMoINiPbWho\tCr4bYD1HlwI\tKVKlfDQ9djo\tEajp31v6Fjc\tYgFXP-QuLso\tvUv46xv_CRo\tyop2Ipym-ls\tfR0B9dVugbA\t2Gn-MSUvm34\tNm3Nen5Kuuc\tbin0DWpkk8M\tcQg1QWJp8Eo\tR6IoH4VIiQQ\t2vT3FYlDE5Q\tRx_qe6yNr6E\n",
        "C6Zy4MW0Kx0\tJoyride13\t757\tMusic\t103\t2329\t4.8\t118\t118\taXV9CfyPBj8\tSrZwPZAiKuI\tOp-8BW0fzb8\tl6hBb_5NDf4\twDwO42nZELM\tJnW0TCljzio\tB_IctSCrbuM\tpnipUnhVGco\tulKOCNsq-30\tzYvX24w9tu0\tWZR4hNkPcq4\tSs3jc8NGI88\tVp6X_zM053M\t6_ytYztwg74\tm_SDw3MTDRo\tQ8Epqpo9BwQ\t_VgCfqUgNJQ\t39o-UzAcVGM\tsAbLELv4aAA\tYtSjuTbmIFU\n",
        "YX06_Oi9xDQ\tPinoyBigBrother2\t758\tEntertainment\t583\t654\t4.84\t113\t36\n",
        "Sfho5ZWh-T0\tPinoyBigBrother2\t758\tEntertainment\t339\t985\t4.96\t105\t20\n",
        "nqSMftSKnIg\tsmoothmedia\t757\tSports\t161\t3891\t4.62\t120\t34\tHBpDvb5hTgg\td8x-URiGVlo\thgg8pND74cg\tgguknG4Q9gM\t6dUqGmxWI8c\t_kOxcy-TWoA\tnJ-JeUsVybg\tkoJg6Cj0w_c\t3Vq8atqHTJI\tgNwH-KNjXmQ\tcuw9CkAxM7E\t0p1VTHIsX8U\tw5SDFF0sp_Q\tCTHmNZ5yyx4\tFNRjkK4HfXw\tj6RwTbsVXbc\t0UiUFDUwUoQ\tuFxkasdnKRM\tNvtgGOK2SEk\thg17Baog6qA\n",
        "2IFeyq44H-Q\tPinoyBigBrother2\t757\tEntertainment\t498\t2773\t4.8\t106\t43\n",
        "C4uHos-MV64\tPinoyBigBrother2\t758\tEntertainment\t506\t918\t4.87\t102\t24\n",
        "enM4zz1v2rc\tPinoyBigBrother2\t758\tEntertainment\t366\t1271\t4.8\t98\t26\n",
        "gcliFk-e1oU\tPinoyBigBrother2\t757\tEntertainment\t323\t2636\t4.86\t98\t52\n",
        "0P3h_4cpPkc\tPinoyBigBrother2\t758\tEntertainment\t519\t616\t4.87\t100\t31\n",
        "XmYeDFrmKLg\tPinoyBigBrother2\t758\tEntertainment\t442\t567\t4.83\t92\t24\n",
        "9dkCYzdQO14\ttheboringdispatcher\t757\tPeople & Blogs\t220\t1578\t4.3\t124\t83\tsqY7IyEGMds\tkaIomDZ9wxo\twwV6CmwzUg0\tDN7sTUx-T3U\tTml5Asg_59w\t_OS_eZS5FGA\tcnwNnM3wsGQ\tC_9eh60t9Io\t4SgMAtdT5xw\twiKIGw9zq0w\tNOoOM_dNULg\t-Q8rqBJN_xM\tkvZ4C1AolEc\tNZYi_76vl-Y\tG-dHCQI9ot4\tW7cDf0Qf3b0\tUS1JnAFns6c\tUmqcNRRra1E\tX7uEt8rdzGc\tJYYHsc7WwgI\n",
        "F-SLbW4zajk\tbarrock81\t758\tComedy\t516\t618\t4.78\t88\t17\tyJTwT2bJhrg\tL165KV0cQEw\tFSEWcHdMWQo\tBjYIMv-H8H8\tVuuwKAL47VY\tmxhGGNF5YRI\t29V0wZlG_vo\t2l_azRfWfUc\tW1kQubSEJ08\t9hWvIacqx9Q\tfPlSNvipDmA\tvZHxPluRt7w\tzgTEzaIbDPY\t14MgDumzzYs\th34AEEC-oUQ\tlCMwOnZShcY\tfgL_27duLxw\tbENkRkknV4w\tP0nfIIikWJM\ts9qYz43HLy8\n",
        "Vy8az457EEE\tdray86\t757\tGadgets & Games\t306\t1384\t4.86\t85\t54\t4znYwkzbCfE\tWXN0rdTWd1A\tjYqTUNQ6U3Q\t7cqj8ULfsU0\trab7jQlh5qc\tCjcx0RiE9Mo\tqCSe4BUp2sU\tgBuBl6-0Jsk\tPvCbSNBvYR4\tkK1KbI_91o4\t269Pr74RApY\tntBLUuJzNco\tFd8wYneSxvk\tCFwZaerluCU\t62upEuZWv3U\tCmvmkzde3Ts\tW0VJtzee_5o\t10gUk88JHHg\tRD9SLtMk_tg\tszPLPstDaxc\n",
        "HSPRB3yyIY4\tArmake21\t758\tGadgets & Games\t671\t1121\t4.77\t83\t99\tFnIOcm4ZvH8\tnXpB7lTP_P8\t_N9rH2x5KUw\ttZbOdgevxDE\tzx2ytr2Oyv4\tioy90nF2anI\tnx6EP-kxOg4\tpqJRwtCeR2s\t1RUvW9ZVxKY\tXiH7pkCObdA\tjMTQoqZi2T4\tWIevtAJLvf0\tvgYhLIThTvk\tPYrB4M5Dt1Y\tsE2p7jrUYJk\tIGgD9LyeycM\tVCCb87vvK_U\tWIoa7WU2Dfc\tz2dX0q7s9p4\t0OBJvrncm2Q\n",
        "3Tz2WtRTpPY\tPinoyBigBrother2\t757\tEntertainment\t594\t2347\t4.81\t89\t61\n",
        "404K8HEa5uI\tRationalResponse\t758\tNews & Politics\t60\t564\t4.88\t84\t41\t4hX6WI4T6Rw\t42g3KYNuvv0\tqdYrXSxOgeI\tGb_zJjRVq00\t-QrAzt41XqE\tCNTNTmRrnr4\tzCFHNTr_aVc\tSTJ_ddvBeP4\teqdVXjquVOE\tFLGpgmpStGg\t2VRTlH9EuLQ\tY-UZyNssGj0\tlslLClPtUIo\tQnV_zK0dMh8\t7fgav3JY9RQ\t59XTlCgGu_k\tQJaWCJLNAR0\t7siuiM_54_U\tGDToXNc91MA\tfdVucvo-kDU\n",
        "wgGQDAu6pkU\tpigslop\t757\tHowto & DIY\t521\t913\t4.59\t98\t73\tzuESU8MeL8k\tsCwkFT8INPE\ty2PoXrWDSNc\tFaon6L6Ez8Y\tZm-L7goume4\tiFm7dVoYWOg\tIjkcKSOx6SQ\tdj6XKoHSWus\teXcXZ1V1hTY\tlFq7BlQp1Fo\t0mPpv1bsqrA\tPZgFqRyIUsI\thbMjXglzygo\tcrLXQRyxMIk\tB_Tp1LCOFWQ\ttZsR3lF0u1E\tqN5-CRvvS_E\tKYm05d753m0\tgwuwgQ4XXvk\tNDM1-nTgkYY\n",
        "jirbqeA7rHA\tselectscreen\t758\tMusic\t193\t169\t4.94\t81\t5\t2Vq0TP31RXQ\toglrSRSk_Ac\tZRRKqhdotVI\tRloB3Me4Cgo\ta0oTqoKsu-M\tWNuaX6fOi3o\tVQPwJDgZbqI\thjHGiVVhamY\tueB4F9HmxeQ\t6a2T6-V4pNw\tbNBDLZhCyXk\tdaVPzA_mnx0\te30lMrqQA5Q\tOJId047Ool0\tlMgqLjIIJIM\tSkXFiGUl8ok\t2EZyQArQVg0\tnf4qBUD2aO8\tIV4yI2VFP2U\thBEpd7WmjsQ\n",
        "kqgODUgC4qk\tsexxxynarutoo\t758\tGadgets & Games\t63\t269\t4.9\t83\t0\twp-iTgBYss4\tbbSXVvOTMZ0\tKx51GCDUQso\tRzX_Eo0OMAc\tWVANvEwj1Is\tKEXi1mnQu_c\tamNzSVLfIVM\tCof1QBPWI78\ttnmzM9SRAxk\tdmrmr7ReRLM\tZ1npwCTQ7-w\tR3h6GreR7XY\to5khhYNmYBU\tUTr3i80nFu0\t0Of7rXloz6k\tJ4b7qPT2Nf0\tViKnup1QtMg\t2FIXQsX-O5s\tJCZBP874bPI\tcAeXERCdAWE\n",
        "4znYwkzbCfE\tdray86\t757\tGadgets & Games\t388\t1238\t4.94\t80\t75\tVy8az457EEE\tWXN0rdTWd1A\tjYqTUNQ6U3Q\t7cqj8ULfsU0\trab7jQlh5qc\tCjcx0RiE9Mo\tqCSe4BUp2sU\tgBuBl6-0Jsk\tPvCbSNBvYR4\tkK1KbI_91o4\t269Pr74RApY\tntBLUuJzNco\tFd8wYneSxvk\tCFwZaerluCU\t62upEuZWv3U\tCmvmkzde3Ts\t10gUk88JHHg\tRD9SLtMk_tg\tszPLPstDaxc\tBG7Np53xx4g\n",
        "uTkblnO2zYI\tsexxxynarutoo\t758\tMusic\t134\t170\t4.94\t80\t0\tamHBX9u_1to\tmIhBuFmvgn0\tOs6Q8_p43oU\ty-JL4OVUNaM\tjb3OlMRSeCc\tTGdSyZTrP0c\t_jwjbLccH0s\t7inbjtT7mkA\ttvwRg6GQzW4\tDroqrFcb-Lk\tgy59UAQWveM\tlZkucp9Ycss\tsm2qBxoRhtQ\tC87XpiUE5Kg\tJjzWQo8Qx5k\tS2JE-h9R2No\tBaZBtW8qnvc\twpptTjmApiY\tM9BhdA7s9-0\tz7raievR54w\n",
        "HLE7tjyVZHc\tsexxxynarutoo\t758\tMusic\t61\t213\t4.94\t80\t0\tf86qNvsStCI\tDYhWrILPO8w\t9AsWLMUdIZk\tBfhCBXLjUcY\tojYbBCaDsnM\t0niQKHJmomM\t1yKWqKwlr6c\tZkQYWCL5kYE\t0YSnnVD-JOY\tKBlQPbiuqQI\tyea2cWI_pRA\tzBfOLlxEJCY\trqcRwufNmeQ\toZgGQDVnobM\tZv8YDUusmes\tzYW301WPVes\t6FdkXDEJwi8\tUJKR4cOt2Dc\trAp13aJ1uiY\tuykb1s5AyuA\n",
        "wOSBUZDNTPU\tmasterb8tr\t758\tFilm & Animation\t580\t2367\t4.89\t64\t20\t4NcazX8bXIM\tt56hlieLf6I\tbwIUy7u-d1g\ttd13ylhlUNk\tL9HjlKeTc2g\tzQi4-YpHyog\tDEiSmtm6CHk\tlJ01fJgnPHI\tEGi5kVUtFxI\tnrzFkFtbjh0\t812A7pw52Wk\tkcp6DAVkyt0\tsWVtpT1O2KM\tpSFrRcD9Qxo\td38zC81x9eg\tOa-L_LSFQU0\t4TGfpTeQijI\tDRocqzYKc5k\teQ877b8M7ZQ\t2FM0h114OfU\n",
        "yJTwT2bJhrg\tbarrock81\t758\tComedy\t537\t1067\t4.79\t85\t28\tF-SLbW4zajk\trelkGvm-hGw\tL165KV0cQEw\tFSEWcHdMWQo\tBjYIMv-H8H8\tVuuwKAL47VY\tmxhGGNF5YRI\t29V0wZlG_vo\t2l_azRfWfUc\tW1kQubSEJ08\t9hWvIacqx9Q\tfPlSNvipDmA\tvZHxPluRt7w\t14MgDumzzYs\tzgTEzaIbDPY\th34AEEC-oUQ\tlCMwOnZShcY\tTzsM63vcGME\tfgL_27duLxw\tbENkRkknV4w\n",
        "EmmL8eKDKko\tbrettkeane\t757\tPeople & Blogs\t474\t880\t4.27\t110\t49\tLzjeqpIRQzo\tIvtIs3nyfn4\tNOtuxVAN_pQ\tuFre60ibenc\tvXoT-w6eB6g\t0n5qbWTStn8\trSFR5dyk9M8\tuEyVCkTashw\tOhp6jKXXcig\taAlJNd0MkXA\tM6mpN4E2a9Q\t2uZcSksaZfA\tCshCI90Nfqc\tR7nlikUwTW4\tVECUp8BRHgI\tugL_yacurD8\t2Cav2KL8Ukc\tocli_vMW_Rc\tKJitnlYjafI\tOEVEosOXXRs\n",
        "22rZ8dBtw4c\tOpheicus\t758\tFilm & Animation\t594\t4429\t4.82\t90\t44\tO8BR5MJ6MGM\t9hZEl8Zgcrs\t9yUoCtEvDiE\t61rJM-9SoS8\t0-1EoUr_8f0\t9EviUeqAJgk\tLZDpT8juKeU\ttk91YMWQ9eI\tRVuPN3FI3-8\tDNvHDMlVVfE\tpSLWx1BqBaM\t5jMkgW0d3Eo\tp81UPgur7dw\tVpllfeDQQbo\tXsoR4oSKGCY\tQzZHV2Tqf6w\tmmKfxteKhGk\t-I78ark0bbU\ta4KWFh1Fj8Y\tmA-DxH7laSQ\n",
        "Q0VahCB8oJU\tbarrock81\t758\tComedy\t385\t379\t4.79\t75\t11\tV6sxlU1aEnk\tUHr6YCZo6lQ\tMUbs23rmwqI\tL165KV0cQEw\tFSEWcHdMWQo\tBjYIMv-H8H8\tVuuwKAL47VY\tmxhGGNF5YRI\t29V0wZlG_vo\t2l_azRfWfUc\tW1kQubSEJ08\t9hWvIacqx9Q\tfPlSNvipDmA\tvZHxPluRt7w\t14MgDumzzYs\tzgTEzaIbDPY\th34AEEC-oUQ\tlCMwOnZShcY\tTzsM63vcGME\tbENkRkknV4w\n",
        "BhJ2jbLYfog\ttheresident\t757\tGadgets & Games\t233\t1307\t4.75\t81\t76\tDIOZfQHna7A\t-1fwShMvemE\tc2T_8wmViow\t-hJWYAvaq_w\tT_RfFiDNNHQ\tPYF_1Grrqxk\tQ81zwiyRCjY\tOHREgoF9W1E\tZeRZwVg3b2w\tdjDosdD2MXk\twc2NIDShXwY\t4SrG8ev0cbo\tykt-j1M-JMc\tNjxMxufkGqg\tus_n-8AlAxU\t-wEVaHSQsS4\tBq8TScIvgts\tRdgr-0BLEmc\txbin8o_ek-Q\t_qQO_0ZrUIY\n",
        "92cPzuNm8ig\tlex9696\t757\tComedy\t164\t1163\t4.84\t86\t9\tzQb6QCJTEB0\thYfSu3JFiek\tvwrb-klJWPs\tcsNoR8wGY3k\tf7mBxiLa5i0\twvvwW5n8lxg\t84AoaB-_u3Q\t_VEePFUxfgM\tn_BeMQZK4SM\t-KC107UYLzw\tLSFidvMS_5M\tT2_Ypcw9ZoU\t1rwgRKdT8-8\tCb99l5euVCw\ttaj9ClxyAHU\t6KpoeSB6VUI\tjWmFT9oidcE\thZ32klBoFKY\tODHjB-p_io0\tuQ2s_3bjwHI\n",
        "VD7o9_gWqfA\tnalts\t758\tComedy\t103\t1998\t4.31\t100\t215\tqCHCWxbB4uY\t8R4mmumz_t8\teiE6ECIlbfE\tBgpM5fEbgag\t0XI0gqgKXKM\tVF9CqglI2ys\tlNS5jcEzPmE\tAMUwjdn7Dyg\t2gPVxAuSoUQ\tKWFaAfZes-c\tXlU6XBnEzIY\tPiYSkuYFDU0\tQsXnXOb1e5E\toKp6l42TX3c\tPqGSRvexvFw\tHb5EJzy92jw\taJJzyPHHBSA\tg5kRqDDnk2k\t_a1KIqWfFAc\tloOMxaH47Jk\n",
        "H2Za38A1tSs\tbrettkeane\t758\tPeople & Blogs\t579\t317\t4.59\t81\t17\tLzjeqpIRQzo\tIvtIs3nyfn4\tNOtuxVAN_pQ\tuFre60ibenc\tvXoT-w6eB6g\tuEyVCkTashw\t0n5qbWTStn8\tOEVEosOXXRs\tOhp6jKXXcig\taAlJNd0MkXA\tM6mpN4E2a9Q\tCshCI90Nfqc\tVECUp8BRHgI\tOIBIuXmsitQ\tugL_yacurD8\tocli_vMW_Rc\tKJitnlYjafI\tVvxgskfNAR0\teoC6LEflDkY\trSFR5dyk9M8\n",
        "OOJEYlsbMyk\tsxephil\t758\tFilm & Animation\t121\t1807\t4.24\t99\t56\tXCDw2tz32o4\t7fBEYSWCck4\txNPYz-d606w\t8wz2kTsv-nM\trN6aEVWIyjE\tRK-caBKAgnc\tQeRORPakBL4\tg3U3NN8wrJM\tJRRFR9qSFlw\t5Xd39n5bkxs\tYTxvD4LEC1w\tAE76RS4RhQM\t0pgLCotkSyk\tUWYzTdPXHg8\tclly54GY2kk\t4nW9dqukt4E\tBUvKUmqfb7g\tPxOPv3_y2uc\tzMe2CJHQpjQ\tIYuMC-2zm4k\n",
        "g0jzt196dCc\tagemagician\t758\tFilm & Animation\t340\t3553\t4.93\t59\t45\tZvRSfRl-Jjg\tZ57pr6xFASU\trIxyFcfqtHg\tgrDMUnMmPzE\tlA51ni8FI9s\tNGGxtL0sJgw\tURn6m9PC7Ks\toMfYNG3Z5eY\trerhdW55--M\tUKNjtZxU50E\t3wgY0rjeVwM\tyrY-2W5omms\tvbqiUyLRS3c\tKmm7v9B_1Sw\tPpEAacJYvOM\tZ6xX3roj2-M\tSDQGaQm2RD8\tLbQSvdb4EPY\tcvDjXXOJtwE\twnohk8FIawc\n",
        "B6mTqucQE5o\tbrettkeane\t757\tPeople & Blogs\t1547\t564\t4.44\t87\t24\tLzjeqpIRQzo\tIvtIs3nyfn4\tNOtuxVAN_pQ\tuFre60ibenc\tvXoT-w6eB6g\t0n5qbWTStn8\trSFR5dyk9M8\tuEyVCkTashw\tOhp6jKXXcig\taAlJNd0MkXA\tM6mpN4E2a9Q\t2uZcSksaZfA\tCshCI90Nfqc\tR7nlikUwTW4\tVECUp8BRHgI\tugL_yacurD8\t2Cav2KL8Ukc\tocli_vMW_Rc\tKJitnlYjafI\tOEVEosOXXRs\n",
        "relkGvm-hGw\tbarrock81\t758\tComedy\t360\t470\t4.94\t63\t30\tyJTwT2bJhrg\tF-SLbW4zajk\tL165KV0cQEw\tFSEWcHdMWQo\tBjYIMv-H8H8\tVuuwKAL47VY\tmxhGGNF5YRI\t29V0wZlG_vo\t2l_azRfWfUc\tW1kQubSEJ08\t9hWvIacqx9Q\tfPlSNvipDmA\tvZHxPluRt7w\t14MgDumzzYs\tzgTEzaIbDPY\th34AEEC-oUQ\tlCMwOnZShcY\tTzsM63vcGME\tfgL_27duLxw\tbENkRkknV4w\n",
        "mCgt3qb-Kb0\tcdk007\t757\tHowto & DIY\t296\t416\t4.81\t70\t25\tSA_UFImmulY\trX_WH1bq5HQ\tSUvLR2yyWuE\tI14KTshLUkg\ti9u50wKDb_4\tW4F19bpDkzw\tl8Ii-dpRrXM\tSdwTwNPyR9w\tamDERsZUVn0\taLFKM886l4Q\tEDFJviGQth4\tM2SVMKZhV2g\tq9a-lFn4hqY\t0N09BIEzDlI\t00sDUOt-l3k\tvTY1K3KIr8A\tsr5gs4KQqZU\tD0Bgj7J3KUg\tPvLnHfw3cOo\tDO2XvTCrw9c\n",
        "ucdalXOraDo\tbrettkeane\t757\tPeople & Blogs\t612\t500\t4.34\t89\t24\tLzjeqpIRQzo\tIvtIs3nyfn4\tNOtuxVAN_pQ\tuFre60ibenc\tvXoT-w6eB6g\t0n5qbWTStn8\trSFR5dyk9M8\tuEyVCkTashw\tOhp6jKXXcig\taAlJNd0MkXA\tM6mpN4E2a9Q\t2uZcSksaZfA\tCshCI90Nfqc\tR7nlikUwTW4\tVECUp8BRHgI\tugL_yacurD8\t2Cav2KL8Ukc\tocli_vMW_Rc\tKJitnlYjafI\tOEVEosOXXRs\n",
        "lW8S0xxhito\tbrettkeane\t757\tPeople & Blogs\t690\t414\t4.35\t82\t25\tLzjeqpIRQzo\tIvtIs3nyfn4\tNOtuxVAN_pQ\tuFre60ibenc\tvXoT-w6eB6g\tuEyVCkTashw\t0n5qbWTStn8\tOEVEosOXXRs\tOhp6jKXXcig\taAlJNd0MkXA\tM6mpN4E2a9Q\tCshCI90Nfqc\tVECUp8BRHgI\tOIBIuXmsitQ\tugL_yacurD8\tocli_vMW_Rc\tKJitnlYjafI\tVvxgskfNAR0\teoC6LEflDkY\trSFR5dyk9M8\n",
        "30glo7ykmfE\tHabsPat\t753\tSports\t203\t51750\t4.75\t244\t92\tAfxEAMVVyr8\tmfdLGsSDH5o\tIJVYW8Tyd6Y\t24fMCC852Ig\tg-EYqDF7Dag\txGObx49DOGA\tFVhm3Rb2oGs\tFBWWCye_3TE\t0CJIEvYqdS8\tH0EQc-aa-S4\tQj3Vk9YbaBo\ty2wy5zIKOxk\tf0wSy3t2J1M\t4g2nIjUix8U\tfcoqwiUy-Bc\tfVWToEISLo4\tbDBMrGJJZxQ\tXNKrfCYVnIA\tpag7b_pt1po\taoIIxMl9Qok\n",
        "AqswQ8zg7yo\tFilbert01k\t758\tComedy\t219\t693\t1.71\t17\t367\tAoGpzqd-O-0\tV7hPZt1kGuQ\t_qfIdQrstwk\tBpwx_0rQX90\tYfNtbbEjvms\tscXnnPH42D8\tCOCKTV6WlHk\tSzb2wF-N7hA\tmiXjWN7MSrM\tpub4Un1QSWg\tdWR7GmlYmW8\tmu7R4NtpgyM\t82C3NRXggGk\tEvLGTi_kwwg\tdcFpr2qE1Ag\tFuc9I_WoUcM\tpUWd4j2T-RQ\tqLOePPT7Ywo\triT6ku1DoJI\tLuEWtTkUTKQ\n",
        "NqaA1__TGII\tUchihaItachi6660\t757\tFilm & Animation\t112\t743\t4.93\t44\t92\tyw5UwuagdNc\tDuq1u5pVDgw\t1A_Ynh4JIFE\t7femyMCkCyg\tx4W2cFXi-Os\t0z165FqPlBo\t7sgeGaTeJGg\tK0dO4tB39Uc\txq6fwEscnpM\tHEQ6BtZBzis\tRoz-mwIUMaI\t2Chizf3dKSM\tC0HBFBRSEv8\tovTs4wL5J8M\t73M0y-iD9WE\tuh0_P3_lhOk\tfYsteOfMhnk\tcmihoPtXYXk\tW5fOPphYQXU\tF0v3tNoNrFk\n",
        "uv4_6NiffEo\tsablechicken\t757\tHowto & DIY\t161\t1473\t2\t68\t85\tZwG4XFUC2mM\txxoimB5govc\tIPs3rOn8gpc\tgWL1ZMH3-54\tqR_z85O0P2M\tXe7yf9GJUfU\t7xUk78ocGvs\te3okMzAzfAg\tYA9sFkYZSk8\toXo6Gx_INY8\tpbay-nPxxfI\tPNjpfBc7Jmw\tQERyh9YYEis\tdcXCebPD108\tC9HtY1chchM\tMa3aIjlofvY\tLlSHfz2KS2Y\ta1WCpUvjLE4\tQXEfkCFyYzA\tLC9fB_oX4Y0\n",
        "1AbAFKK2bmo\tparisblonde\t758\tPeople & Blogs\t82\t410\t4.89\t45\t85\tR2f2MRxCJK0\t1FRZjaDqvbo\t4vqqkqgt-8c\tLhyTXIV5kxE\tvf-C6U59D9Q\tPfaHtKcGC0E\tvG-JdNJa_iY\tIt3P7Sbvdxo\tAykDTdjvo2Y\ti-4lXZhAzW4\tI9uL9zCkrI8\tpW4xv8RHgSg\t7UvKRjNo_gw\tVTVXO7lXOoI\tVH80grbhIzY\tL9hMqImK4VE\tluws7lAMSTo\tv_-89mJtvaY\t8rnT9vmh-ik\tpGGyITJVqFA\n",
        "izlkx5AFCZQ\tIanCrossland\t758\tPeople & Blogs\t319\t285\t3.83\t29\t54\t-XdeADDUHVg\tw4LRppaUrAg\tWw8h8ZxtSPs\t50iCUXklgVM\tkRi-pV_FuBI\tjE8goMYlHA0\tEZTcK2CGH2k\tbLx7rP7CK54\tyq9uiXbIvBg\tlcdCmD0a9js\tJsUqgjRM8o8\tL34BVBctqCM\tghRkqVRq9-g\tzPT293fRMGg\t6zHoQ7NSyPM\t5OqCUtc_ILM\ts-_C6j2ceRI\tegBoupT1bSY\t8Z8fJ8AgcsE\tOOXL9qWWxEo\n",
        "-J7RF1m1QIg\tradrico\t757\tMusic\t163\t247\t5\t36\t66\t8Gpjtp3CNE4\tzWaCa54vxbI\tys1dUFl1j_Q\tcPKUsqaq1pM\t3OSj8WbVFo8\tYtSjuTbmIFU\tQjpWNGnv8ws\t3Ahy-FEHWu8\tM_4nyzmH4F8\t8cKIJKeJMVM\tTD4f7Tch9GU\t3QNjlc2KzMA\tt09YFupYF4U\t-Y6DXcy3bk8\thTTOJ9j1NYw\tSEF0gAQ5qWU\t8jeGH81uH-o\tHhYKl-ug0cY\tdZkdQfk2S1w\tH0sB1Y5NewA\n",
        "tSf9PkywiCw\trulllar\t757\tNews & Politics\t626\t935\t3.67\t39\t82\tAyqQc0qDYJk\tf43bx13zh-Y\tGP9lqgTW7VQ\ti0t3bqJrLZ4\tWa3kPDmEmuY\tdbEC5lAKzRU\tgDE2TQOEPrU\toB7AD6PhYS4\tMBYtt3mt7kc\tlWLk3hfy1Hk\ts2LY29kKn9o\tq-JBdoxoZVw\tnIttCqVgxyE\twuJiaaq1XjY\tRy2XS5vRPPg\teqID7oydGxw\tXXuNbM18mH8\tOHT92tppXT8\tgdYmpiWpx3k\tueyLYjIgYu4\n",
        "UIWy_oVP2sE\tchudnovsky\t757\tMusic\t139\t569\t4.43\t60\t84\tYf7PGn0VbZY\t2s4Bi5KHT9E\tkTV1CcS53JQ\t6QYjEuSmvRg\tByAztidn5Ek\ta45KeEcBMU0\tpd4ZbPirNYE\tFyucvlovV20\tKCZT2sqP_v0\t1R5SKbXtpSY\t4njnb0ZddXs\tZrTM6Kbl7VY\tL3u-_F_89Zw\t72XIPVcU4zM\tJb6E3ZckgJY\tm7BSidOeSj8\tlkbdaaRr3Cg\t5cJSoEo1N7U\tyC0F3fNzsEQ\tYZuMaVTTCns\n",
        "94HbdsidW5U\tTheFriendlyGeek\t757\tNews & Politics\t576\t746\t2.32\t85\t84\tCyAD2XCn6Q0\tC-2ub-vBZnE\tl5_K3elnYMo\txT7vduzGSTY\texQDTWQGjB4\tPBTzfXfITCw\tBc0c5ql2gcs\tq06ftiEg8sM\tU5gW2ufS2Fs\tA_kTuWPxnbo\t1322k7bH9t0\ti0ikkH_6Y7U\t6oG9_cuA91A\t1v9_FR001AE\tfACCHgAAGGI\tO2Gpe3kl6kk\tumrpciCazOs\tW0V0XWjfz3k\tb9sA065iQ0g\tyi3erdgVVTw\n",
        "51wHFDGlevA\tDCompose\t756\tPeople & Blogs\t480\t484\t4.33\t24\t71\t3MKpiGiWVyM\tlHvAmF7wodA\tHwZi-ufOdBk\tHCJordzYby8\tUk8hzWiaLp8\tPrbbII_aiTI\tW4GWNxjbST0\t5rnCZkNcuh0\tbUjYQpVk3EU\to4HpmfPKUQg\tOg1uQXPJbQM\t2tgmOCg_JiQ\tWPSkIy0lbuw\tMMbrLj7JrrQ\tlsQpgGsD74o\t1sf5yjiFscE\tMMPrkeOoHUs\t8B3MKnrlOiU\tPg6U-EJKhYw\t9bGWjyGo_nQ\n",
        "7fgav3JY9RQ\tJudelicious1971\t757\tPeople & Blogs\t515\t525\t4.91\t22\t71\tAMhNO86Zjcc\tVUIkJQJcd48\t8LrSMS8tniA\tvsPVO1BA_hk\tfmYGoNB_eq4\tas88TAxqh-4\tnC1E8pKFErg\t1gFNkVY3jAo\tzAKwNBUyiLY\tEXJANqH_890\tTrpg_YxR7Bs\tVno5PUvcFOg\t7wpRkFrPqVE\tYgwDP-4kOok\tuOV6lqK4n0w\tVQHh477Wvr0\taJX7aMaYt0I\tcymZE6niwCI\tJTZ5j-clm-o\tFHng_o_y60k\n",
        "UZZ9ev5ccHE\tYTwatchdog\t758\tPeople & Blogs\t268\t261\t4.76\t41\t43\tLzrLNznMOOs\tl9ijDau-AsY\tnrZ2a_b5QQ4\tzV14SIbSYCI\tYawcpe8rsgg\tpC5qQfY5rZQ\tBxl72VRPWmg\tLaaOVaAanjk\tuOjI56NoePU\tN3scoTARi0w\tj1oeQNGxRac\twwak1U7COTw\tRl4IyQewJl4\tocr0fkcSO1I\taInm4jC4pXk\tZyv0SrEfDvQ\t3PLq437v5vw\tRBl8IvTYkvY\t3tFNJ1odLY8\tw19s-O-0pm4\n",
        "Jby8lrlmm1A\tdiscoverer888\t758\tEntertainment\t288\t2532\t0\t0\t71\tWXBtPBXrgpk\tMJZMnDKiIcA\tqKxn90-pKms\tmY_H63vr6mg\taOz_QK7QSWI\ttC2gs8MYdL8\tgdDc9dNW-8A\tvFjfP8doSyI\taVKiGDJWzxg\taz8JvVsWHIs\tzDJ486bz6Ho\tejjjQ1PA34E\tLwPDPPV9COs\tv7x9NV9_MkA\trm64dj1KhTg\tsyQW62N2ZUo\tsLAyvsi_OZA\tIsV4oAtSmZ8\tUP5dlBNB6CU\trafzfkWmQvo\n",
        "5bcDUHwdoFQ\tdiscoverer888\t757\tEntertainment\t535\t6027\t5\t20\t70\tWXBtPBXrgpk\tMJZMnDKiIcA\tqKxn90-pKms\tmY_H63vr6mg\taOz_QK7QSWI\ttC2gs8MYdL8\tgdDc9dNW-8A\tvFjfP8doSyI\taVKiGDJWzxg\taz8JvVsWHIs\tzDJ486bz6Ho\tejjjQ1PA34E\tLwPDPPV9COs\tv7x9NV9_MkA\trm64dj1KhTg\tsyQW62N2ZUo\tsLAyvsi_OZA\trafzfkWmQvo\tUP5dlBNB6CU\tLklG4Kt-eOs\n",
        "kiIczuUCR2Y\tkwaichi\t757\tPeople & Blogs\t671\t299\t4.5\t20\t69\tADR3JsN7SdY\txPKO01sbieg\tXC2kTxN6qZU\tWE7kCEevBKA\tRq4_0Msybn4\tak5tge68bnY\tVUJyJQ0RibA\tOqDW8xspprw\tkie9NT91Oyw\tZiv3717WzXU\tY_iA4xRZEco\tfwYPCoHMoew\t5nGxYWbTLgk\tnLEpsZgQQBs\tPCs-er0UfGY\tRBZ_jWMhqXQ\tSszbmHcpQPs\tU0Pqk1hx3KU\tULM4R0gtM7M\tnm61fBnfrHQ\n",
        "aKsCirN0Ong\tZanzibar19\t757\tComedy\t598\t923\t5\t39\t67\tZnXYOna9Gjk\tXt7JzQ6lnN4\tcbsXQe5A0WE\tJ-d_DdQ8Sts\tMOuSjU4bRJg\t20lzY-vAo54\tkjN5IYu6VIg\tEV2NPwV5OaM\t9htOPfvdPKM\tQS2nHZr6WdU\tN-LTdvFagiQ\trl2KRZMlGCI\tois5XvwW93I\tNwCBJKNUAvg\trQ0PEyS2YNM\tX93ug3Ytogs\tJTNzkeqjKTI\t8mc61MWl3i0\tAvGT2RuoASY\tIZIvd29D5Xg\n",
        "SG7MRSjPu_E\t1butterflykiss\t758\tPeople & Blogs\t771\t329\t4.8\t40\t73\tUH7STD0RdlA\t5IqskRcQz_E\tDxC2pO813mY\tThQsnByQE54\t2f1x_exXiuY\toS6yRkHpaGE\tfNOwBXT1Ucg\tMIqdk0PMAOw\tlQWfD9oKriQ\t2UPYPh2bq3o\tvbA_jrHbvrI\twr86eqs-bCU\tzpBp2pDJW8E\t8WrptAgPCZo\t4sqHy9zExkg\taGR1pFGYIaA\tQhyR7pkFNAE\t0cNnuTVdB2s\t85XHmfTy5Hw\t3VFL-LkLomA\n",
        "PDsMGzGOwv0\tpersianguyagain\t758\tNews & Politics\t668\t491\t3.59\t37\t65\tWCNG3EG85g4\t62lZ5nJmXbw\ttSf9PkywiCw\tIoO8joor6qk\tyWb192gbpQY\t6WKLuuN2S0o\tj0m2pwx9p7c\tTNFJ4mdcGWQ\tZilxWyH9TYY\td8TvZ8Z9K8c\t0kxTRgF3N88\t4Ilep4wWG6E\tAb5Pz3iIvuw\n",
        "knSPXK4xJlA\tAriel3Lindt\t757\tComedy\t418\t662\t4.94\t34\t64\tZ6TW675hzLM\toj4wLtAYhLs\tVnWgB960Zxk\tXPcnWXzDB5w\tbBtz0iZI5Ow\tceahbVE2ygk\txAH7oNpqZh8\tz58UMJKSI7E\tcqr6K0ppy-o\t_Cbssf9OG1I\trHbOY86CEts\tf4I4wI9m_KY\tRBUvQzAPRq4\tcRVc0NpDqvg\tqEJ30rpZw0M\tp-Nf3ig4SSc\tFcs_RnkKOMk\t5d9kg3W8P0c\tKafkv4BdBkI\t-cOmgyVjlOQ\n",
        "0fix3j57Xi8\tdiscoverer888\t757\tEntertainment\t435\t5256\t4.93\t15\t63\tWXBtPBXrgpk\tMJZMnDKiIcA\tqKxn90-pKms\tmY_H63vr6mg\taOz_QK7QSWI\ttC2gs8MYdL8\tgdDc9dNW-8A\tvFjfP8doSyI\taVKiGDJWzxg\taz8JvVsWHIs\tzDJ486bz6Ho\tejjjQ1PA34E\tLwPDPPV9COs\tv7x9NV9_MkA\trm64dj1KhTg\tsyQW62N2ZUo\tsLAyvsi_OZA\tIsV4oAtSmZ8\tUP5dlBNB6CU\trafzfkWmQvo\n",
        "E9eUfQ2vZ9k\tRoccosHouse\t757\tGadgets & Games\t315\t1525\t3.18\t56\t65\tFkmP_O8J9vA\t8Cyagt2yYTM\tUaeMj7b8-vA\tfIwIA1siNVs\ta3HtAWapFWk\tVrKijSZXNHU\tLvqbK27nsEk\t3ixXFH9WLTY\tROUwEK_AmCc\t0xtT1OSPmJ0\tZD0K2LEuoMo\trpgU2pPhOws\t1DKxTWPk4SM\tETV0QdV-rrw\tVp_oQ_-NuVU\t2b-F8QqHFaM\tYlf7d_E2uJw\twMhcRCzEAyk\t95D-iL1iX2U\tnbQ_VuA3gw0\n",
        "2GtUoDyItZo\thardcaseownsyou\t758\tPeople & Blogs\t1689\t465\t4.52\t58\t62\tDNsUkcNnt-Q\tUc3rCV0bIzI\tI76V01CjrAI\tqsIXNZqk1ek\tEuVvKEysQvk\tsapDzvMhrx0\tkVRAB6ztw34\tt7A6sUb3Yik\tmgh7wE2DQFA\tMk-2qgqtwBQ\t-qttkJDiAuc\tbyBQvCXyong\t7GEpZedleBQ\t46_5KuqThGk\t6tV_V2G6TDs\t5_egHOAgezQ\tSEnxgIAnO80\t95KzRvEdBaM\t-6Ng9PTcATI\t4rWbLf2OACU\n",
        "YgHHoQhZZWY\tsomecallmejim\t756\tPets & Animals\t154\t536\t4.65\t23\t61\tWnIzxfUl5rQ\t7jLyQpQrPEA\tOGwz5vggOGI\tv6xrxUj3YII\tfd6yMYa_Mmg\tXPMksDs6n_c\t9ej5fmzWEaM\tLMKt0rC0dMA\tEHBdKpVBgvY\tqlnsZo6ODDM\ttgcmdlo5R1I\t48gE4QgD2a0\tAw6F0SoiY7g\tPfpBEi1yL9M\tUUCfbz_ORxI\tPMYET4OdEL0\tNJqyYfjmHFI\tktBYCT6Or2c\tpa9XCjpclPg\t15o8ZoJAICw\n",
        "8t2_XOawimI\tinsaneshayne\t757\tPeople & Blogs\t348\t283\t4.97\t35\t60\tcnqXfoRLHEU\tXPMksDs6n_c\tmhjf_DMITHM\t2swsRVfVKow\tpEv6NIW6jC8\tqlnsZo6ODDM\tjvM0pn6o5rw\tJDVtSAt8SUE\tsBgqs-i93hA\t88xB-y3mwRE\tKJnH3tk9r0Y\tJCizB1PvGOQ\tEW00XJ3Xsko\t7uWJl7LHHVA\tjZIJ6Asy5-U\tQKhEJGkpmFY\tLZHNfkYp_iQ\tGBDTeki-I0k\t68bhSRypo6I\tZ5ueHiAEL0Y\n",
        "DZ1Kl2ndKSI\trichw4\t758\tComedy\t119\t125\t5\t20\t56\tHoD3ApWz1sQ\tJFbjHoOqyDg\tYg8dQ9AUwsg\tGwUvSrhk6RQ\tO3OcX9wItV4\tMHAolTAZKUI\txHMURyaf_jk\tjznXllq89zk\tnKPocsoOQsY\tB0p_XsIyDtc\t8YxiU2X9QE4\tD4nNtvLZ0cg\tiz6yth2Q4CU\taH_zjN16xTo\tRI0wmnWUXhk\tnwnwGcSazxg\tuxBSeK5v0rA\tPe04R5RFKLU\tSPCY0JuQ-eA\tRsSh35BqZHY\n",
        "c1H2jwK22Ng\tTheDramaTube\t757\tPeople & Blogs\t206\t800\t3.1\t96\t58\tyoedTXrRXiA\tW99HsWUrvto\tWe1h1f4PPwc\tUpB21lI51W4\tG-ZrjNKyMVk\tYAbxTAGzdOg\tf1jocahKXz4\tQCLEBw6Hs7g\tljTudLf7WtA\t3l9TWfIM-hk\tSWkMfhi_Tk8\te_vtA4o5I9E\tsqZ5GeYAsZQ\tewGP1PaZoVk\tYjcJd1yOGJQ\tr-TBESd68ik\tYoV2vqSpiCs\tRd0WOj8CTuk\te2vc0apbvqs\t9U_BvMUw3Hk\n",
        "0Hqfl3e-oWI\tjezuzfreek777\t757\tNews & Politics\t590\t448\t3.45\t42\t57\tf-D2wBvm8Cc\tAnbY063AoIE\tN6HqIAHkVos\ty1mVBP12aQk\tjTgUaMi4rt8\tPsTBPOd-NL8\t3H9p7Su0zHo\tbJf9GfjBqc0\tT_n6k0k7NgE\t8160cANQVtA\tTqfIveO1iIw\tUi8e_QYFct0\tG8wBDAsk2-c\tCFIWQbVTNJc\t1N6BAtcOqSk\tdkt-fRBeoBM\tsRjzcE36cyY\t_6fuLOFf_AI\t-pztIsKxF0M\tszIxW_dbIng\n",
        "xigDVSTJ__4\tannspade\t757\tPeople & Blogs\t70\t334\t4.29\t14\t55\tGKRkL3c_W8Q\tcFUX1XISTIc\tREXzGxsp-Js\tQsXnXOb1e5E\teiE6ECIlbfE\tQXHc2yd-ZBA\tz8XJUkud4tI\t7YWFs_OdThU\t_O_m5vTtXk0\tqyrGh3kD5JQ\tPiYSkuYFDU0\tsVw4DCu2lvo\tWygAnvp8YFQ\tGpQWeLIbGFk\tjcztMxi8j8g\tOe_JNs-M6M0\tlncFcYnnfjw\twHLXDlZcAas\tgUAmYUIurSc\tkce6iYKo0jo\n",
        "wCx1KLKxAWA\tZipster08\t758\tPeople & Blogs\t427\t2\t0\t0\t0\t6ixCce38-v0\tVF9CqglI2ys\tkLTGUfAaHUo\tTSMhjDgjXXc\tFu2K3_fNI6k\tP2An_8W_SnA\tjc7xA4KAfzk\tG5rnZFMe3AQ\thmaUkqcn_70\tR89lvE6N7cM\t2sGpBCA5O6o\tHwBLlUxoVMM\teiBl6Yu7VqQ\tfAQw3N4bt20\t8RpmjAFVMFA\tqhEidRXp0L8\toVO1MFZOh10\tx2dgtg21bIU\tbK_y6OjjGNM\tRM8W_y4ScpQ\n",
        "c4C6Maik5f8\tVandeGroep\t758\tEntertainment\t353\t3243\t3.6\t30\t53\tBZEEaXJar10\t5PLwwv1cgpY\txPYVUtQstEE\t3CW2Nl5vxWk\t_LOpmEtRllQ\tj0GraZT3YaQ\t_Lr8inzNXLM\tmI_NafG_E4A\t1hfsRpuhS2Y\tejbpWv5Jo6w\tYHI1xnsapyA\tyS59iU9JXog\tjvCKv9H1tPQ\teb6fodE9Clc\t_8FHUfo9Y9s\tkioVHy3fqwU\t5n-uSSLV-iY\tf99HGz_HMjM\tXXpU_otPpwc\t0yKjGlWfyZg\n",
        "sUD6b4QPFSU\tLilVietJr\t757\tEntertainment\t325\t903\t4.81\t31\t54\t8btipAUwLHY\ti5jT57_xaME\tQKfyxDyeuAg\t4yMSG2z_R40\t20eFQi5cGbw\tYMKWViO0_40\t7z7R5lOgkTM\tURbgqNC-XUg\t3Hlq3aciD3o\tzxro0z7btTM\trEz6xHZlFmM\trThGgVyQdaQ\tp9hxaFK9zUA\tYSJIOWmHd6U\t3w7nonNKBWE\tRXe2ooy2X8U\t479sEEbSif0\tzM72BCEQBfE\tss3RettHwLg\tojidw1dXTi8\n",
        "0gPWZ6W5okw\tPopstarMagazine\t757\tEntertainment\t15\t5995\t4.5\t28\t53\tLnou6wfYtHU\tGiekT3n85ik\tdcnGre9sEbM\tUEIPBPb_ApM\tNMSniMkgC4A\tD0EA8WE9BDU\tGBvxWoyuyKs\tG-QtuOBy6jk\tI-7NM0vChgA\t48WXhuPOSsM\thcO0m9-oCOg\touDvd84iVgc\tymOtlGjdZHA\tpmoRZoU22cU\tHbLA3faVZ_4\t7dpwe1OvNu0\tX4WUv6-7ADI\tghw9uKCXSXE\tgoTOz81bjTk\tUKyZCmzeKzU\n",
        "oxW8Cg75WyQ\tannspade\t757\tPeople & Blogs\t129\t255\t4.6\t25\t52\tSvwSm_MleQQ\tcBU9pwJ4hTQ\tnLG0WygW8ck\tW5VrzXQi7kg\tLAnzhX1o9PM\tqzbyDMl9pNE\tEpO-8fdzsO0\tXZZJuGFfq1U\thF7g70bKebU\tHUQneR_WWEk\ttbRStIWgX9k\t6KUOxMwFNg8\tb3LJ22JLfH0\t4zPzOI6BT5U\t2gSB22oaOiE\tP_lg61lDHqQ\tcqORZNuX6OU\tcdAUsOl56aE\t3hWAwHz44ts\tUAnfiZmS3dw\n",
        "wtt3nEA6qDw\tbowiechick\t757\tPeople & Blogs\t385\t780\t4.72\t61\t54\tzICrZ-FDK8o\t3IFZExCL7Xs\tOiNgh9weJxk\tAIV9KwONk1k\tAavQL4OpoBA\tPDTvclEVNqY\twjHPbcuzpvA\tOXpKaTWswYQ\te-rlAzcfPGE\tDpYy_Obtab4\tZgkKipR_M5U\tjVSyFrdxYUA\tbCX4ydEAGPk\t1V7hMfRUcdE\tiDbPfEMGztc\tXXSjavfQ0Ws\tZRrWB2vlXaU\t8Ln9jPwP3Fk\tAnK8qnEgsoI\tXFsID19k728\n",
        "-vIoIRxXA6Y\tDiGiTiLsOuL\t753\tPets & Animals\t135\t15634\t4\t308\t244\t4Bj_ydUv-aU\t9BK4AMkLeWE\tK1R7qTTuBsA\tAp9HLk4VHXQ\tgCBZVEzNCQA\t6QEp7TdwzVQ\tVigJwLJ8qeI\tcUmbI5l9RA0\tSrpM87RJtrs\tiKWUnEMexT4\tYPDjLLglzjQ\th7MdW0TDYT0\teu33BzUcvGc\tGiQ7XScS0VE\tPbt3_l0Hr7M\ta-S3K6wXYpg\tdjDKk-GMOjQ\ttPIEd5Vp_ns\t-6QE-2VeWsk\tOSWB4jod3Ts\n",
        "t_9QHCTljtE\tfaintstarlite\t752\tPeople & Blogs\t128\t8512\t4.47\t122\t245\tbnnd9D1CmeQ\tye0KD4OgDcI\tJ5TU5DYJVIY\tq0nTXltxEaI\tTXQ4vJQatrQ\ts8bPPpepX1s\tx2HocHLIl5s\t36onT4KQjns\t-IPLxh3xdgM\tE54r3JLUPs8\tsN1H6cRPzls\th0LpoJ_soiE\tIrmRzDgysCo\t6otMrMGcKAg\tJTEt99tmuxo\tO_GXnowfNDM\td5RAdNWI7EM\t250yIu4pcr0\tQ4Y8WVx7iYs\tt7tmsa3xx5E\n",
        "EOF"
      ],
      "metadata": {
        "id": "I1QDuRNKIgcj"
      },
      "execution_count": 19,
      "outputs": []
    },
    {
      "cell_type": "markdown",
      "source": [
        "Notar que el EOF marca el final del archivo"
      ],
      "metadata": {
        "id": "UayFVKuwKUzX"
      }
    },
    {
      "cell_type": "markdown",
      "source": [
        "## Ejecutar programa"
      ],
      "metadata": {
        "id": "SI2t2rGKKdHJ"
      }
    },
    {
      "cell_type": "code",
      "source": [
        "!spark-submit miPrograma.py miEntrada miSalida"
      ],
      "metadata": {
        "colab": {
          "base_uri": "https://localhost:8080/"
        },
        "id": "Io8iZtnsKSbk",
        "outputId": "c7f9f5fe-ffaa-41f8-a337-d5d38e9e9b46"
      },
      "execution_count": 20,
      "outputs": [
        {
          "output_type": "stream",
          "name": "stdout",
          "text": [
            "24/05/06 10:47:07 INFO SparkContext: Running Spark version 3.5.1\n",
            "24/05/06 10:47:07 INFO SparkContext: OS info Linux, 6.1.58+, amd64\n",
            "24/05/06 10:47:07 INFO SparkContext: Java version 11.0.22\n",
            "24/05/06 10:47:07 WARN NativeCodeLoader: Unable to load native-hadoop library for your platform... using builtin-java classes where applicable\n",
            "24/05/06 10:47:08 INFO ResourceUtils: ==============================================================\n",
            "24/05/06 10:47:08 INFO ResourceUtils: No custom resources configured for spark.driver.\n",
            "24/05/06 10:47:08 INFO ResourceUtils: ==============================================================\n",
            "24/05/06 10:47:08 INFO SparkContext: Submitted application: MaxVisitas\n",
            "24/05/06 10:47:08 INFO ResourceProfile: Default ResourceProfile created, executor resources: Map(cores -> name: cores, amount: 1, script: , vendor: , memory -> name: memory, amount: 1024, script: , vendor: , offHeap -> name: offHeap, amount: 0, script: , vendor: ), task resources: Map(cpus -> name: cpus, amount: 1.0)\n",
            "24/05/06 10:47:08 INFO ResourceProfile: Limiting resource is cpu\n",
            "24/05/06 10:47:08 INFO ResourceProfileManager: Added ResourceProfile id: 0\n",
            "24/05/06 10:47:08 INFO SecurityManager: Changing view acls to: root\n",
            "24/05/06 10:47:08 INFO SecurityManager: Changing modify acls to: root\n",
            "24/05/06 10:47:08 INFO SecurityManager: Changing view acls groups to: \n",
            "24/05/06 10:47:08 INFO SecurityManager: Changing modify acls groups to: \n",
            "24/05/06 10:47:08 INFO SecurityManager: SecurityManager: authentication disabled; ui acls disabled; users with view permissions: root; groups with view permissions: EMPTY; users with modify permissions: root; groups with modify permissions: EMPTY\n",
            "24/05/06 10:47:08 INFO Utils: Successfully started service 'sparkDriver' on port 36043.\n",
            "24/05/06 10:47:08 INFO SparkEnv: Registering MapOutputTracker\n",
            "24/05/06 10:47:08 INFO SparkEnv: Registering BlockManagerMaster\n",
            "24/05/06 10:47:09 INFO BlockManagerMasterEndpoint: Using org.apache.spark.storage.DefaultTopologyMapper for getting topology information\n",
            "24/05/06 10:47:09 INFO BlockManagerMasterEndpoint: BlockManagerMasterEndpoint up\n",
            "24/05/06 10:47:09 INFO SparkEnv: Registering BlockManagerMasterHeartbeat\n",
            "24/05/06 10:47:09 INFO DiskBlockManager: Created local directory at /tmp/blockmgr-a14fa877-2db7-495e-a62e-4d6f0b928ac6\n",
            "24/05/06 10:47:09 INFO MemoryStore: MemoryStore started with capacity 434.4 MiB\n",
            "24/05/06 10:47:09 INFO SparkEnv: Registering OutputCommitCoordinator\n",
            "24/05/06 10:47:09 INFO JettyUtils: Start Jetty 0.0.0.0:4040 for SparkUI\n",
            "24/05/06 10:47:09 WARN Utils: Service 'SparkUI' could not bind on port 4040. Attempting port 4041.\n",
            "24/05/06 10:47:09 INFO Utils: Successfully started service 'SparkUI' on port 4041.\n",
            "24/05/06 10:47:10 INFO Executor: Starting executor ID driver on host 9172c1710ccd\n",
            "24/05/06 10:47:10 INFO Executor: OS info Linux, 6.1.58+, amd64\n",
            "24/05/06 10:47:10 INFO Executor: Java version 11.0.22\n",
            "24/05/06 10:47:10 INFO Executor: Starting executor with user classpath (userClassPathFirst = false): ''\n",
            "24/05/06 10:47:10 INFO Executor: Created or updated repl class loader org.apache.spark.util.MutableURLClassLoader@74749d0 for default.\n",
            "24/05/06 10:47:10 INFO Utils: Successfully started service 'org.apache.spark.network.netty.NettyBlockTransferService' on port 40617.\n",
            "24/05/06 10:47:10 INFO NettyBlockTransferService: Server created on 9172c1710ccd:40617\n",
            "24/05/06 10:47:10 INFO BlockManager: Using org.apache.spark.storage.RandomBlockReplicationPolicy for block replication policy\n",
            "24/05/06 10:47:10 INFO BlockManagerMaster: Registering BlockManager BlockManagerId(driver, 9172c1710ccd, 40617, None)\n",
            "24/05/06 10:47:10 INFO BlockManagerMasterEndpoint: Registering block manager 9172c1710ccd:40617 with 434.4 MiB RAM, BlockManagerId(driver, 9172c1710ccd, 40617, None)\n",
            "24/05/06 10:47:10 INFO BlockManagerMaster: Registered BlockManager BlockManagerId(driver, 9172c1710ccd, 40617, None)\n",
            "24/05/06 10:47:10 INFO BlockManager: Initialized BlockManager: BlockManagerId(driver, 9172c1710ccd, 40617, None)\n",
            "24/05/06 10:47:12 INFO MemoryStore: Block broadcast_0 stored as values in memory (estimated size 221.5 KiB, free 434.2 MiB)\n",
            "24/05/06 10:47:13 INFO MemoryStore: Block broadcast_0_piece0 stored as bytes in memory (estimated size 32.6 KiB, free 434.2 MiB)\n",
            "24/05/06 10:47:13 INFO BlockManagerInfo: Added broadcast_0_piece0 in memory on 9172c1710ccd:40617 (size: 32.6 KiB, free: 434.4 MiB)\n",
            "24/05/06 10:47:13 INFO SparkContext: Created broadcast 0 from textFile at NativeMethodAccessorImpl.java:0\n",
            "24/05/06 10:47:13 INFO FileInputFormat: Total input files to process : 1\n",
            "24/05/06 10:47:13 INFO SparkContext: Starting job: max at /content/miPrograma.py:43\n",
            "24/05/06 10:47:13 INFO DAGScheduler: Registering RDD 3 (reduceByKey at /content/miPrograma.py:40) as input to shuffle 0\n",
            "24/05/06 10:47:13 INFO DAGScheduler: Got job 0 (max at /content/miPrograma.py:43) with 2 output partitions\n",
            "24/05/06 10:47:13 INFO DAGScheduler: Final stage: ResultStage 1 (max at /content/miPrograma.py:43)\n",
            "24/05/06 10:47:13 INFO DAGScheduler: Parents of final stage: List(ShuffleMapStage 0)\n",
            "24/05/06 10:47:13 INFO DAGScheduler: Missing parents: List(ShuffleMapStage 0)\n",
            "24/05/06 10:47:13 INFO DAGScheduler: Submitting ShuffleMapStage 0 (PairwiseRDD[3] at reduceByKey at /content/miPrograma.py:40), which has no missing parents\n",
            "24/05/06 10:47:14 INFO MemoryStore: Block broadcast_1 stored as values in memory (estimated size 12.3 KiB, free 434.1 MiB)\n",
            "24/05/06 10:47:14 INFO MemoryStore: Block broadcast_1_piece0 stored as bytes in memory (estimated size 7.7 KiB, free 434.1 MiB)\n",
            "24/05/06 10:47:14 INFO BlockManagerInfo: Added broadcast_1_piece0 in memory on 9172c1710ccd:40617 (size: 7.7 KiB, free: 434.4 MiB)\n",
            "24/05/06 10:47:14 INFO SparkContext: Created broadcast 1 from broadcast at DAGScheduler.scala:1585\n",
            "24/05/06 10:47:14 INFO DAGScheduler: Submitting 2 missing tasks from ShuffleMapStage 0 (PairwiseRDD[3] at reduceByKey at /content/miPrograma.py:40) (first 15 tasks are for partitions Vector(0, 1))\n",
            "24/05/06 10:47:14 INFO TaskSchedulerImpl: Adding task set 0.0 with 2 tasks resource profile 0\n",
            "24/05/06 10:47:14 INFO TaskSetManager: Starting task 0.0 in stage 0.0 (TID 0) (9172c1710ccd, executor driver, partition 0, PROCESS_LOCAL, 7643 bytes) \n",
            "24/05/06 10:47:14 INFO TaskSetManager: Starting task 1.0 in stage 0.0 (TID 1) (9172c1710ccd, executor driver, partition 1, PROCESS_LOCAL, 7643 bytes) \n",
            "24/05/06 10:47:14 INFO Executor: Running task 0.0 in stage 0.0 (TID 0)\n",
            "24/05/06 10:47:14 INFO Executor: Running task 1.0 in stage 0.0 (TID 1)\n",
            "24/05/06 10:47:14 INFO HadoopRDD: Input split: file:/content/miEntrada:0+21693\n",
            "24/05/06 10:47:14 INFO HadoopRDD: Input split: file:/content/miEntrada:21693+21694\n",
            "24/05/06 10:47:17 INFO PythonRunner: Times: total = 1920, boot = 1337, init = 581, finish = 2\n",
            "24/05/06 10:47:17 INFO PythonRunner: Times: total = 1954, boot = 1368, init = 581, finish = 5\n",
            "24/05/06 10:47:17 INFO Executor: Finished task 0.0 in stage 0.0 (TID 0). 1667 bytes result sent to driver\n",
            "24/05/06 10:47:17 INFO Executor: Finished task 1.0 in stage 0.0 (TID 1). 1667 bytes result sent to driver\n",
            "24/05/06 10:47:17 INFO TaskSetManager: Finished task 0.0 in stage 0.0 (TID 0) in 3548 ms on 9172c1710ccd (executor driver) (1/2)\n",
            "24/05/06 10:47:17 INFO TaskSetManager: Finished task 1.0 in stage 0.0 (TID 1) in 3512 ms on 9172c1710ccd (executor driver) (2/2)\n",
            "24/05/06 10:47:17 INFO TaskSchedulerImpl: Removed TaskSet 0.0, whose tasks have all completed, from pool \n",
            "24/05/06 10:47:17 INFO PythonAccumulatorV2: Connected to AccumulatorServer at host: 127.0.0.1 port: 53855\n",
            "24/05/06 10:47:17 INFO DAGScheduler: ShuffleMapStage 0 (reduceByKey at /content/miPrograma.py:40) finished in 3.862 s\n",
            "24/05/06 10:47:17 INFO DAGScheduler: looking for newly runnable stages\n",
            "24/05/06 10:47:17 INFO DAGScheduler: running: Set()\n",
            "24/05/06 10:47:17 INFO DAGScheduler: waiting: Set(ResultStage 1)\n",
            "24/05/06 10:47:17 INFO DAGScheduler: failed: Set()\n",
            "24/05/06 10:47:17 INFO DAGScheduler: Submitting ResultStage 1 (PythonRDD[6] at max at /content/miPrograma.py:43), which has no missing parents\n",
            "24/05/06 10:47:17 INFO MemoryStore: Block broadcast_2 stored as values in memory (estimated size 10.8 KiB, free 434.1 MiB)\n",
            "24/05/06 10:47:17 INFO MemoryStore: Block broadcast_2_piece0 stored as bytes in memory (estimated size 6.3 KiB, free 434.1 MiB)\n",
            "24/05/06 10:47:17 INFO BlockManagerInfo: Added broadcast_2_piece0 in memory on 9172c1710ccd:40617 (size: 6.3 KiB, free: 434.4 MiB)\n",
            "24/05/06 10:47:17 INFO SparkContext: Created broadcast 2 from broadcast at DAGScheduler.scala:1585\n",
            "24/05/06 10:47:17 INFO DAGScheduler: Submitting 2 missing tasks from ResultStage 1 (PythonRDD[6] at max at /content/miPrograma.py:43) (first 15 tasks are for partitions Vector(0, 1))\n",
            "24/05/06 10:47:17 INFO TaskSchedulerImpl: Adding task set 1.0 with 2 tasks resource profile 0\n",
            "24/05/06 10:47:17 INFO TaskSetManager: Starting task 0.0 in stage 1.0 (TID 2) (9172c1710ccd, executor driver, partition 0, NODE_LOCAL, 7433 bytes) \n",
            "24/05/06 10:47:17 INFO TaskSetManager: Starting task 1.0 in stage 1.0 (TID 3) (9172c1710ccd, executor driver, partition 1, NODE_LOCAL, 7433 bytes) \n",
            "24/05/06 10:47:17 INFO Executor: Running task 0.0 in stage 1.0 (TID 2)\n",
            "24/05/06 10:47:17 INFO Executor: Running task 1.0 in stage 1.0 (TID 3)\n",
            "24/05/06 10:47:18 INFO ShuffleBlockFetcherIterator: Getting 2 (284.0 B) non-empty blocks including 2 (284.0 B) local and 0 (0.0 B) host-local and 0 (0.0 B) push-merged-local and 0 (0.0 B) remote blocks\n",
            "24/05/06 10:47:18 INFO ShuffleBlockFetcherIterator: Getting 2 (414.0 B) non-empty blocks including 2 (414.0 B) local and 0 (0.0 B) host-local and 0 (0.0 B) push-merged-local and 0 (0.0 B) remote blocks\n",
            "24/05/06 10:47:18 INFO ShuffleBlockFetcherIterator: Started 0 remote fetches in 21 ms\n",
            "24/05/06 10:47:18 INFO ShuffleBlockFetcherIterator: Started 0 remote fetches in 33 ms\n",
            "24/05/06 10:47:18 INFO PythonRunner: Times: total = 234, boot = -1525, init = 1759, finish = 0\n",
            "24/05/06 10:47:18 INFO Executor: Finished task 1.0 in stage 1.0 (TID 3). 2111 bytes result sent to driver\n",
            "24/05/06 10:47:18 INFO TaskSetManager: Finished task 1.0 in stage 1.0 (TID 3) in 479 ms on 9172c1710ccd (executor driver) (1/2)\n",
            "24/05/06 10:47:18 INFO PythonRunner: Times: total = 278, boot = -1558, init = 1836, finish = 0\n",
            "24/05/06 10:47:18 INFO Executor: Finished task 0.0 in stage 1.0 (TID 2). 2118 bytes result sent to driver\n",
            "24/05/06 10:47:18 INFO TaskSetManager: Finished task 0.0 in stage 1.0 (TID 2) in 524 ms on 9172c1710ccd (executor driver) (2/2)\n",
            "24/05/06 10:47:18 INFO TaskSchedulerImpl: Removed TaskSet 1.0, whose tasks have all completed, from pool \n",
            "24/05/06 10:47:18 INFO DAGScheduler: ResultStage 1 (max at /content/miPrograma.py:43) finished in 0.567 s\n",
            "24/05/06 10:47:18 INFO DAGScheduler: Job 0 is finished. Cancelling potential speculative or zombie tasks for this job\n",
            "24/05/06 10:47:18 INFO TaskSchedulerImpl: Killing all running tasks in stage 1: Stage finished\n",
            "24/05/06 10:47:18 INFO DAGScheduler: Job 0 finished: max at /content/miPrograma.py:43, took 4.749424 s\n",
            "24/05/06 10:47:18 INFO deprecation: mapred.output.dir is deprecated. Instead, use mapreduce.output.fileoutputformat.outputdir\n",
            "24/05/06 10:47:18 INFO HadoopMapRedCommitProtocol: Using output committer class org.apache.hadoop.mapred.FileOutputCommitter\n",
            "24/05/06 10:47:18 INFO FileOutputCommitter: File Output Committer Algorithm version is 1\n",
            "24/05/06 10:47:18 INFO FileOutputCommitter: FileOutputCommitter skip cleanup _temporary folders under output directory:false, ignore cleanup failures: false\n",
            "24/05/06 10:47:18 INFO SparkContext: Starting job: runJob at SparkHadoopWriter.scala:83\n",
            "24/05/06 10:47:18 INFO DAGScheduler: Got job 1 (runJob at SparkHadoopWriter.scala:83) with 2 output partitions\n",
            "24/05/06 10:47:18 INFO DAGScheduler: Final stage: ResultStage 2 (runJob at SparkHadoopWriter.scala:83)\n",
            "24/05/06 10:47:18 INFO DAGScheduler: Parents of final stage: List()\n",
            "24/05/06 10:47:18 INFO DAGScheduler: Missing parents: List()\n",
            "24/05/06 10:47:18 INFO DAGScheduler: Submitting ResultStage 2 (MapPartitionsRDD[10] at saveAsTextFile at NativeMethodAccessorImpl.java:0), which has no missing parents\n",
            "24/05/06 10:47:18 INFO MemoryStore: Block broadcast_3 stored as values in memory (estimated size 104.2 KiB, free 434.0 MiB)\n",
            "24/05/06 10:47:18 INFO MemoryStore: Block broadcast_3_piece0 stored as bytes in memory (estimated size 38.5 KiB, free 434.0 MiB)\n",
            "24/05/06 10:47:18 INFO BlockManagerInfo: Added broadcast_3_piece0 in memory on 9172c1710ccd:40617 (size: 38.5 KiB, free: 434.3 MiB)\n",
            "24/05/06 10:47:18 INFO SparkContext: Created broadcast 3 from broadcast at DAGScheduler.scala:1585\n",
            "24/05/06 10:47:18 INFO DAGScheduler: Submitting 2 missing tasks from ResultStage 2 (MapPartitionsRDD[10] at saveAsTextFile at NativeMethodAccessorImpl.java:0) (first 15 tasks are for partitions Vector(0, 1))\n",
            "24/05/06 10:47:18 INFO TaskSchedulerImpl: Adding task set 2.0 with 2 tasks resource profile 0\n",
            "24/05/06 10:47:18 INFO TaskSetManager: Starting task 0.0 in stage 2.0 (TID 4) (9172c1710ccd, executor driver, partition 0, PROCESS_LOCAL, 7595 bytes) \n",
            "24/05/06 10:47:18 INFO TaskSetManager: Starting task 1.0 in stage 2.0 (TID 5) (9172c1710ccd, executor driver, partition 1, PROCESS_LOCAL, 7643 bytes) \n",
            "24/05/06 10:47:18 INFO Executor: Running task 0.0 in stage 2.0 (TID 4)\n",
            "24/05/06 10:47:18 INFO Executor: Running task 1.0 in stage 2.0 (TID 5)\n",
            "24/05/06 10:47:18 INFO HadoopMapRedCommitProtocol: Using output committer class org.apache.hadoop.mapred.FileOutputCommitter\n",
            "24/05/06 10:47:18 INFO FileOutputCommitter: File Output Committer Algorithm version is 1\n",
            "24/05/06 10:47:18 INFO FileOutputCommitter: FileOutputCommitter skip cleanup _temporary folders under output directory:false, ignore cleanup failures: false\n",
            "24/05/06 10:47:18 INFO HadoopMapRedCommitProtocol: Using output committer class org.apache.hadoop.mapred.FileOutputCommitter\n",
            "24/05/06 10:47:18 INFO FileOutputCommitter: File Output Committer Algorithm version is 1\n",
            "24/05/06 10:47:18 INFO FileOutputCommitter: FileOutputCommitter skip cleanup _temporary folders under output directory:false, ignore cleanup failures: false\n",
            "24/05/06 10:47:19 INFO PythonRunner: Times: total = 353, boot = -478, init = 831, finish = 0\n",
            "24/05/06 10:47:19 INFO PythonRunner: Times: total = 407, boot = -502, init = 909, finish = 0\n",
            "24/05/06 10:47:19 INFO FileOutputCommitter: Saved output of task 'attempt_202405061047189093703393059585298_0010_m_000000_0' to file:/content/miSalida/_temporary/0/task_202405061047189093703393059585298_0010_m_000000\n",
            "24/05/06 10:47:19 INFO SparkHadoopMapRedUtil: attempt_202405061047189093703393059585298_0010_m_000000_0: Committed. Elapsed time: 5 ms.\n",
            "24/05/06 10:47:19 INFO FileOutputCommitter: Saved output of task 'attempt_202405061047189093703393059585298_0010_m_000001_0' to file:/content/miSalida/_temporary/0/task_202405061047189093703393059585298_0010_m_000001\n",
            "24/05/06 10:47:19 INFO SparkHadoopMapRedUtil: attempt_202405061047189093703393059585298_0010_m_000001_0: Committed. Elapsed time: 22 ms.\n",
            "24/05/06 10:47:19 INFO Executor: Finished task 1.0 in stage 2.0 (TID 5). 1663 bytes result sent to driver\n",
            "24/05/06 10:47:19 INFO TaskSetManager: Finished task 1.0 in stage 2.0 (TID 5) in 595 ms on 9172c1710ccd (executor driver) (1/2)\n",
            "24/05/06 10:47:19 INFO Executor: Finished task 0.0 in stage 2.0 (TID 4). 1577 bytes result sent to driver\n",
            "24/05/06 10:47:19 INFO TaskSetManager: Finished task 0.0 in stage 2.0 (TID 4) in 607 ms on 9172c1710ccd (executor driver) (2/2)\n",
            "24/05/06 10:47:19 INFO TaskSchedulerImpl: Removed TaskSet 2.0, whose tasks have all completed, from pool \n",
            "24/05/06 10:47:19 INFO DAGScheduler: ResultStage 2 (runJob at SparkHadoopWriter.scala:83) finished in 0.668 s\n",
            "24/05/06 10:47:19 INFO DAGScheduler: Job 1 is finished. Cancelling potential speculative or zombie tasks for this job\n",
            "24/05/06 10:47:19 INFO TaskSchedulerImpl: Killing all running tasks in stage 2: Stage finished\n",
            "24/05/06 10:47:19 INFO DAGScheduler: Job 1 finished: runJob at SparkHadoopWriter.scala:83, took 0.685893 s\n",
            "24/05/06 10:47:19 INFO SparkHadoopWriter: Start to commit write Job job_202405061047189093703393059585298_0010.\n",
            "24/05/06 10:47:19 INFO SparkHadoopWriter: Write Job job_202405061047189093703393059585298_0010 committed. Elapsed time: 49 ms.\n",
            "24/05/06 10:47:19 INFO SparkContext: Invoking stop() from shutdown hook\n",
            "24/05/06 10:47:19 INFO SparkContext: SparkContext is stopping with exitCode 0.\n",
            "24/05/06 10:47:19 INFO SparkUI: Stopped Spark web UI at http://9172c1710ccd:4041\n",
            "24/05/06 10:47:19 INFO MapOutputTrackerMasterEndpoint: MapOutputTrackerMasterEndpoint stopped!\n",
            "24/05/06 10:47:19 INFO MemoryStore: MemoryStore cleared\n",
            "24/05/06 10:47:19 INFO BlockManager: BlockManager stopped\n",
            "24/05/06 10:47:19 INFO BlockManagerMaster: BlockManagerMaster stopped\n",
            "24/05/06 10:47:19 INFO OutputCommitCoordinator$OutputCommitCoordinatorEndpoint: OutputCommitCoordinator stopped!\n",
            "24/05/06 10:47:19 INFO SparkContext: Successfully stopped SparkContext\n",
            "24/05/06 10:47:19 INFO ShutdownHookManager: Shutdown hook called\n",
            "24/05/06 10:47:19 INFO ShutdownHookManager: Deleting directory /tmp/spark-22ba66c4-b470-4d93-a442-55d60c8f1a64\n",
            "24/05/06 10:47:19 INFO ShutdownHookManager: Deleting directory /tmp/spark-d113c680-de31-4cf4-9722-03c0dd830d4c\n",
            "24/05/06 10:47:19 INFO ShutdownHookManager: Deleting directory /tmp/spark-d113c680-de31-4cf4-9722-03c0dd830d4c/pyspark-5c71d2fb-3529-48b7-97da-384625f497a8\n"
          ]
        }
      ]
    },
    {
      "cell_type": "markdown",
      "source": [
        "## Comprobar salida"
      ],
      "metadata": {
        "id": "sf4whLva4qV1"
      }
    },
    {
      "cell_type": "markdown",
      "source": [
        "Comprobamos que se ha creado la carpeta ./miSalida con el resultado"
      ],
      "metadata": {
        "id": "kriuXS9x4zo9"
      }
    },
    {
      "cell_type": "code",
      "source": [
        "!ls -l ./miSalida"
      ],
      "metadata": {
        "colab": {
          "base_uri": "https://localhost:8080/"
        },
        "id": "Uo_uBc3F3UzC",
        "outputId": "db29ab90-83d8-4c1b-d4ac-d77f20c19a96"
      },
      "execution_count": 21,
      "outputs": [
        {
          "output_type": "stream",
          "name": "stdout",
          "text": [
            "total 4\n",
            "-rw-r--r-- 1 root root  0 May  6 10:47 part-00000\n",
            "-rw-r--r-- 1 root root 21 May  6 10:47 part-00001\n",
            "-rw-r--r-- 1 root root  0 May  6 10:47 _SUCCESS\n"
          ]
        }
      ]
    },
    {
      "cell_type": "markdown",
      "source": [
        "Abrimos el archivo que contiene la salida"
      ],
      "metadata": {
        "id": "gA1iqmvh4yBd"
      }
    },
    {
      "cell_type": "code",
      "source": [
        "!cat ./miSalida/*"
      ],
      "metadata": {
        "colab": {
          "base_uri": "https://localhost:8080/"
        },
        "id": "a_gWADNU4wl8",
        "outputId": "25a0ed51-c3d9-410d-8302-998fb42abd2c"
      },
      "execution_count": 22,
      "outputs": [
        {
          "output_type": "stream",
          "name": "stdout",
          "text": [
            "Entertainment;371191\n"
          ]
        }
      ]
    },
    {
      "cell_type": "markdown",
      "source": [
        "# Ejecutar programa Spark Streaming"
      ],
      "metadata": {
        "id": "HpOgqtRCkDp0"
      }
    },
    {
      "cell_type": "markdown",
      "source": [
        "## Crear programa"
      ],
      "metadata": {
        "id": "RWQgfFI1o6un"
      }
    },
    {
      "cell_type": "code",
      "source": [
        "%%bash\n",
        "cat << EOF > RobosStreaming.py\n",
        "from pyspark import SparkContext\n",
        "from pyspark.streaming import StreamingContext\n",
        "\n",
        "def actualizar_estado(nuevos_registros, estado_actual):\n",
        "    hogares_con_intrusos = set()\n",
        "    for registro in nuevos_registros:\n",
        "        ciudad, id_hogar = registro\n",
        "        hogares_con_intrusos.add((ciudad, id_hogar))\n",
        "    return hogares_con_intrusos\n",
        "\n",
        "def actualizar_resultados(tiempo, rdd):\n",
        "    if rdd.isEmpty():\n",
        "        print(\"No hay datos en este intervalo de tiempo.\")\n",
        "        return\n",
        "    print(f\"Tiempo: {tiempo}\")\n",
        "    for ciudad, hogares in rdd.collect():\n",
        "        print(f\"{ciudad};{len(hogares)}\")\n",
        "\n",
        "if __name__ == \"__main__\":\n",
        "    sc = SparkContext(appName=\"miPrograma\")\n",
        "    sc.setLogLevel(\"ERROR\")\n",
        "    ssc = StreamingContext(sc, 4)\n",
        "\n",
        "    misDatos = ssc.textFileStream(\"misDatosEnStreaming\")\n",
        "\n",
        "    # Parsear y filtrar los datos para identificar hogares con intrusos\n",
        "    intrusiones = misDatos.map(lambda linea: linea.split(\";\")) \\\n",
        "                        .filter(lambda campos: campos[3] == \"1\" and campos[4] == \"1\") \\\n",
        "                        .map(lambda campos: (campos[0], campos[1]))\n",
        "\n",
        "    # Actualizar el estado con los nuevos datos de intrusiones\n",
        "    estado_inicial = set()\n",
        "    estado_intrusiones = intrusiones.updateStateByKey(actualizar_estado, initialRDD=sc.parallelize(estado_inicial))\n",
        "\n",
        "    # Actualizar los resultados cada 10 segundos\n",
        "    estado_intrusiones.foreachRDD(actualizar_resultados)\n",
        "\n",
        "    # Iniciar el contexto de Streaming\n",
        "    ssc.start()\n",
        "    ssc.awaitTermination()\n",
        "\n",
        "EOF"
      ],
      "metadata": {
        "id": "BVkxuoZPl-JE"
      },
      "execution_count": 51,
      "outputs": []
    },
    {
      "cell_type": "markdown",
      "source": [
        "IMPORTANTE: no podemos leer desde un socket en Google Colab, entonces lo que hacemos es crear el programa leyendo de disco. Si el programa exige leer de un socket, entonce sólo hay que descomentar la línea y funcionará bien (aunque no funcionará en Colab)."
      ],
      "metadata": {
        "id": "bYe4pif6pjpz"
      }
    },
    {
      "cell_type": "markdown",
      "source": [
        "## Crear datos"
      ],
      "metadata": {
        "id": "3UJC0DDro9dv"
      }
    },
    {
      "cell_type": "markdown",
      "source": [
        "IMPORTANTE: los datos se empezarán a generar a los 15 segundos. Primero los datos que hay antes del primer \"sleep 5\" luego se esperará 5 segundos y se generarán los que hay a continuación hasta el siguiente \"sleep 5\". Y así sucesivamente.\n",
        "\n",
        "Nota: nada más ejecutar la celda de crear datos, hay que ejecutar el programa. Los primeros 15 segundos es para que de tiempo al programa a lanzarse"
      ],
      "metadata": {
        "id": "VuC7xOtjo-9h"
      }
    },
    {
      "cell_type": "code",
      "source": [
        "%%script bash --bg\n",
        "\n",
        "sleep 30\n",
        "\n",
        "rm -r misDatosEnStreaming\n",
        "mkdir misDatosEnStreaming\n",
        "\n",
        "cat << EOF > misDatosEnStreaming/1\n",
        "Ourense;1033;9;1;0\n",
        "Lugo;6219;7;1;0\n",
        "Jaén;7090;20;0;0\n",
        "Tarragona;7297;9;0;1\n",
        "Guadalajara;501;1;1;0\n",
        "Jaén;3548;14;0;1\n",
        "EOF\n",
        "\n",
        "sleep 5\n",
        "\n",
        "cat << EOF > misDatosEnStreaming/2\n",
        "Valladolid;7174;16;0;1\n",
        "Ceuta;3584;15;1;1\n",
        "Navarra;1638;6;0;0\n",
        "Baleares;5450;17;0;0\n",
        "Granada;4655;19;0;0\n",
        "Palencia;565;16;1;0\n",
        "EOF\n",
        "\n",
        "\n",
        "sleep 5\n",
        "\n",
        "cat << EOF > misDatosEnStreaming/3\n",
        "La Rioja;2834;12;0;0\n",
        "Ávila;7191;17;1;0\n",
        "Melilla;6443;12;0;0\n",
        "Lugo;712;10;0;0\n",
        "Segovia;2791;6;0;1\n",
        "Vizcaya;3268;18;0;1\n",
        "Málaga;5633;19;1;0\n",
        "Sevilla;8978;20;0;1\n",
        "Zamora;8396;5;0;0\n",
        "Las Palmas;919;16;1;0\n",
        "Málaga;6773;16;1;0\n",
        "Álava;8822;18;0;0\n",
        "EOF\n",
        "\n",
        "\n",
        "sleep 5\n",
        "\n",
        "cat << EOF > misDatosEnStreaming/4\n",
        "Lleida;9828;1;1;0\n",
        "Navarra;9575;6;1;0\n",
        "Alicante;1154;3;1;0\n",
        "Valladolid;4607;8;1;1\n",
        "Huelva;4756;3;1;1\n",
        "Melilla;2754;9;0;0\n",
        "Lleida;5275;16;0;1\n",
        "Granada;6333;11;0;1\n",
        "Badajoz;4152;17;1;0\n",
        "Albacete;3692;1;0;1\n",
        "Toledo;2625;15;0;0\n",
        "Murcia;3614;17;0;1\n",
        "La Coruña;9434;11;0;0\n",
        "Almería;4892;5;1;1\n",
        "EOF\n",
        "\n",
        "\n",
        "\n",
        "sleep 5\n",
        "\n",
        "cat << EOF > misDatosEnStreaming/5\n",
        "Asturias;1252;10;1;0\n",
        "La Rioja;9255;9;1;1\n",
        "Palencia;3565;19;0;1\n",
        "Jaén;3283;12;1;1\n",
        "Palencia;3180;16;1;0\n",
        "Girona;8259;16;1;1\n",
        "Girona;296;6;1;1\n",
        "Guipúzcoa;7032;7;1;0\n",
        "Jaén;8972;12;0;0\n",
        "Vizcaya;8724;8;1;0\n",
        "Ávila;2179;6;1;0\n",
        "Cuenca;5443;20;0;1\n",
        "EOF"
      ],
      "metadata": {
        "id": "I43Tm2TIK8nx"
      },
      "execution_count": 52,
      "outputs": []
    },
    {
      "cell_type": "markdown",
      "source": [
        "## Ejecutar programa"
      ],
      "metadata": {
        "id": "9s6dDWM2pcrc"
      }
    },
    {
      "cell_type": "markdown",
      "source": [
        "Para finalizar el programa, pulsar en para la celda"
      ],
      "metadata": {
        "id": "sCrzAfNYpftv"
      }
    },
    {
      "cell_type": "code",
      "source": [
        "! spark-submit RobosStreaming.py"
      ],
      "metadata": {
        "colab": {
          "base_uri": "https://localhost:8080/"
        },
        "id": "zY3cOVO-mSZb",
        "outputId": "1f82c63b-1cdc-488a-cc11-7ffc63173be4"
      },
      "execution_count": 53,
      "outputs": [
        {
          "output_type": "stream",
          "name": "stdout",
          "text": [
            "24/05/06 12:02:40 INFO SparkContext: Running Spark version 3.5.1\n",
            "24/05/06 12:02:40 INFO SparkContext: OS info Linux, 6.1.58+, amd64\n",
            "24/05/06 12:02:40 INFO SparkContext: Java version 11.0.22\n",
            "24/05/06 12:02:40 WARN NativeCodeLoader: Unable to load native-hadoop library for your platform... using builtin-java classes where applicable\n",
            "24/05/06 12:02:41 INFO ResourceUtils: ==============================================================\n",
            "24/05/06 12:02:41 INFO ResourceUtils: No custom resources configured for spark.driver.\n",
            "24/05/06 12:02:41 INFO ResourceUtils: ==============================================================\n",
            "24/05/06 12:02:41 INFO SparkContext: Submitted application: miPrograma\n",
            "24/05/06 12:02:41 INFO ResourceProfile: Default ResourceProfile created, executor resources: Map(cores -> name: cores, amount: 1, script: , vendor: , memory -> name: memory, amount: 1024, script: , vendor: , offHeap -> name: offHeap, amount: 0, script: , vendor: ), task resources: Map(cpus -> name: cpus, amount: 1.0)\n",
            "24/05/06 12:02:41 INFO ResourceProfile: Limiting resource is cpu\n",
            "24/05/06 12:02:41 INFO ResourceProfileManager: Added ResourceProfile id: 0\n",
            "24/05/06 12:02:41 INFO SecurityManager: Changing view acls to: root\n",
            "24/05/06 12:02:41 INFO SecurityManager: Changing modify acls to: root\n",
            "24/05/06 12:02:41 INFO SecurityManager: Changing view acls groups to: \n",
            "24/05/06 12:02:41 INFO SecurityManager: Changing modify acls groups to: \n",
            "24/05/06 12:02:41 INFO SecurityManager: SecurityManager: authentication disabled; ui acls disabled; users with view permissions: root; groups with view permissions: EMPTY; users with modify permissions: root; groups with modify permissions: EMPTY\n",
            "24/05/06 12:02:41 INFO Utils: Successfully started service 'sparkDriver' on port 39225.\n",
            "24/05/06 12:02:41 INFO SparkEnv: Registering MapOutputTracker\n",
            "24/05/06 12:02:41 INFO SparkEnv: Registering BlockManagerMaster\n",
            "24/05/06 12:02:42 INFO BlockManagerMasterEndpoint: Using org.apache.spark.storage.DefaultTopologyMapper for getting topology information\n",
            "24/05/06 12:02:42 INFO BlockManagerMasterEndpoint: BlockManagerMasterEndpoint up\n",
            "24/05/06 12:02:42 INFO SparkEnv: Registering BlockManagerMasterHeartbeat\n",
            "24/05/06 12:02:42 INFO DiskBlockManager: Created local directory at /tmp/blockmgr-069b9462-0618-485e-9c5f-4fcbfca8c318\n",
            "24/05/06 12:02:42 INFO MemoryStore: MemoryStore started with capacity 434.4 MiB\n",
            "24/05/06 12:02:42 INFO SparkEnv: Registering OutputCommitCoordinator\n",
            "24/05/06 12:02:42 INFO JettyUtils: Start Jetty 0.0.0.0:4040 for SparkUI\n",
            "24/05/06 12:02:42 WARN Utils: Service 'SparkUI' could not bind on port 4040. Attempting port 4041.\n",
            "24/05/06 12:02:42 INFO Utils: Successfully started service 'SparkUI' on port 4041.\n",
            "24/05/06 12:02:43 INFO Executor: Starting executor ID driver on host 9172c1710ccd\n",
            "24/05/06 12:02:43 INFO Executor: OS info Linux, 6.1.58+, amd64\n",
            "24/05/06 12:02:43 INFO Executor: Java version 11.0.22\n",
            "24/05/06 12:02:43 INFO Executor: Starting executor with user classpath (userClassPathFirst = false): ''\n",
            "24/05/06 12:02:43 INFO Executor: Created or updated repl class loader org.apache.spark.util.MutableURLClassLoader@73ba1bdd for default.\n",
            "24/05/06 12:02:43 INFO Utils: Successfully started service 'org.apache.spark.network.netty.NettyBlockTransferService' on port 38255.\n",
            "24/05/06 12:02:43 INFO NettyBlockTransferService: Server created on 9172c1710ccd:38255\n",
            "24/05/06 12:02:43 INFO BlockManager: Using org.apache.spark.storage.RandomBlockReplicationPolicy for block replication policy\n",
            "24/05/06 12:02:43 INFO BlockManagerMaster: Registering BlockManager BlockManagerId(driver, 9172c1710ccd, 38255, None)\n",
            "24/05/06 12:02:43 INFO BlockManagerMasterEndpoint: Registering block manager 9172c1710ccd:38255 with 434.4 MiB RAM, BlockManagerId(driver, 9172c1710ccd, 38255, None)\n",
            "24/05/06 12:02:43 INFO BlockManagerMaster: Registered BlockManager BlockManagerId(driver, 9172c1710ccd, 38255, None)\n",
            "24/05/06 12:02:43 INFO BlockManager: Initialized BlockManager: BlockManagerId(driver, 9172c1710ccd, 38255, None)\n",
            "/usr/local/spark-3.5.1-bin-hadoop3/python/lib/pyspark.zip/pyspark/streaming/context.py:72: FutureWarning: DStream is deprecated as of Spark 3.4.0. Migrate to Structured Streaming.\n",
            "24/05/06 12:02:44 ERROR StreamingContext: Error starting the context, marking it as stopped\n",
            "java.lang.IllegalArgumentException: requirement failed: The checkpoint directory has not been set. Please set it by StreamingContext.checkpoint().\n",
            "\tat scala.Predef$.require(Predef.scala:281)\n",
            "\tat org.apache.spark.streaming.dstream.DStream.validateAtStart(DStream.scala:246)\n",
            "\tat org.apache.spark.streaming.dstream.DStream.$anonfun$validateAtStart$8(DStream.scala:277)\n",
            "\tat org.apache.spark.streaming.dstream.DStream.$anonfun$validateAtStart$8$adapted(DStream.scala:277)\n",
            "\tat scala.collection.immutable.List.foreach(List.scala:431)\n",
            "\tat org.apache.spark.streaming.dstream.DStream.validateAtStart(DStream.scala:277)\n",
            "\tat org.apache.spark.streaming.DStreamGraph.$anonfun$start$4(DStreamGraph.scala:52)\n",
            "\tat org.apache.spark.streaming.DStreamGraph.$anonfun$start$4$adapted(DStreamGraph.scala:52)\n",
            "\tat scala.collection.mutable.ArraySeq.foreach(ArraySeq.scala:75)\n",
            "\tat org.apache.spark.streaming.DStreamGraph.start(DStreamGraph.scala:52)\n",
            "\tat org.apache.spark.streaming.scheduler.JobGenerator.startFirstTime(JobGenerator.scala:197)\n",
            "\tat org.apache.spark.streaming.scheduler.JobGenerator.start(JobGenerator.scala:102)\n",
            "\tat org.apache.spark.streaming.scheduler.JobScheduler.start(JobScheduler.scala:102)\n",
            "\tat org.apache.spark.streaming.StreamingContext.$anonfun$start$1(StreamingContext.scala:596)\n",
            "\tat scala.runtime.java8.JFunction0$mcV$sp.apply(JFunction0$mcV$sp.java:23)\n",
            "\tat ... run in separate thread using org.apache.spark.util.ThreadUtils ... ()\n",
            "\tat org.apache.spark.streaming.StreamingContext.liftedTree1$1(StreamingContext.scala:591)\n",
            "\tat org.apache.spark.streaming.StreamingContext.start(StreamingContext.scala:583)\n",
            "\tat org.apache.spark.streaming.api.java.JavaStreamingContext.start(JavaStreamingContext.scala:563)\n",
            "\tat java.base/jdk.internal.reflect.NativeMethodAccessorImpl.invoke0(Native Method)\n",
            "\tat java.base/jdk.internal.reflect.NativeMethodAccessorImpl.invoke(NativeMethodAccessorImpl.java:62)\n",
            "\tat java.base/jdk.internal.reflect.DelegatingMethodAccessorImpl.invoke(DelegatingMethodAccessorImpl.java:43)\n",
            "\tat java.base/java.lang.reflect.Method.invoke(Method.java:566)\n",
            "\tat py4j.reflection.MethodInvoker.invoke(MethodInvoker.java:244)\n",
            "\tat py4j.reflection.ReflectionEngine.invoke(ReflectionEngine.java:374)\n",
            "\tat py4j.Gateway.invoke(Gateway.java:282)\n",
            "\tat py4j.commands.AbstractCommand.invokeMethod(AbstractCommand.java:132)\n",
            "\tat py4j.commands.CallCommand.execute(CallCommand.java:79)\n",
            "\tat py4j.ClientServerConnection.waitForCommands(ClientServerConnection.java:182)\n",
            "\tat py4j.ClientServerConnection.run(ClientServerConnection.java:106)\n",
            "\tat java.base/java.lang.Thread.run(Thread.java:829)\n",
            "Traceback (most recent call last):\n",
            "  File \"/content/RobosStreaming.py\", line 37, in <module>\n",
            "    ssc.start()\n",
            "  File \"/usr/local/spark-3.5.1-bin-hadoop3/python/lib/pyspark.zip/pyspark/streaming/context.py\", line 226, in start\n",
            "  File \"/usr/local/spark-3.5.1-bin-hadoop3/python/lib/py4j-0.10.9.7-src.zip/py4j/java_gateway.py\", line 1322, in __call__\n",
            "  File \"/usr/local/spark-3.5.1-bin-hadoop3/python/lib/py4j-0.10.9.7-src.zip/py4j/protocol.py\", line 326, in get_return_value\n",
            "py4j.protocol.Py4JJavaError: An error occurred while calling o23.start.\n",
            ": java.lang.IllegalArgumentException: requirement failed: The checkpoint directory has not been set. Please set it by StreamingContext.checkpoint().\n",
            "\tat scala.Predef$.require(Predef.scala:281)\n",
            "\tat org.apache.spark.streaming.dstream.DStream.validateAtStart(DStream.scala:246)\n",
            "\tat org.apache.spark.streaming.dstream.DStream.$anonfun$validateAtStart$8(DStream.scala:277)\n",
            "\tat org.apache.spark.streaming.dstream.DStream.$anonfun$validateAtStart$8$adapted(DStream.scala:277)\n",
            "\tat scala.collection.immutable.List.foreach(List.scala:431)\n",
            "\tat org.apache.spark.streaming.dstream.DStream.validateAtStart(DStream.scala:277)\n",
            "\tat org.apache.spark.streaming.DStreamGraph.$anonfun$start$4(DStreamGraph.scala:52)\n",
            "\tat org.apache.spark.streaming.DStreamGraph.$anonfun$start$4$adapted(DStreamGraph.scala:52)\n",
            "\tat scala.collection.mutable.ArraySeq.foreach(ArraySeq.scala:75)\n",
            "\tat org.apache.spark.streaming.DStreamGraph.start(DStreamGraph.scala:52)\n",
            "\tat org.apache.spark.streaming.scheduler.JobGenerator.startFirstTime(JobGenerator.scala:197)\n",
            "\tat org.apache.spark.streaming.scheduler.JobGenerator.start(JobGenerator.scala:102)\n",
            "\tat org.apache.spark.streaming.scheduler.JobScheduler.start(JobScheduler.scala:102)\n",
            "\tat org.apache.spark.streaming.StreamingContext.$anonfun$start$1(StreamingContext.scala:596)\n",
            "\tat scala.runtime.java8.JFunction0$mcV$sp.apply(JFunction0$mcV$sp.java:23)\n",
            "\tat ... run in separate thread using org.apache.spark.util.ThreadUtils ... ()\n",
            "\tat org.apache.spark.streaming.StreamingContext.liftedTree1$1(StreamingContext.scala:591)\n",
            "\tat org.apache.spark.streaming.StreamingContext.start(StreamingContext.scala:583)\n",
            "\tat org.apache.spark.streaming.api.java.JavaStreamingContext.start(JavaStreamingContext.scala:563)\n",
            "\tat java.base/jdk.internal.reflect.NativeMethodAccessorImpl.invoke0(Native Method)\n",
            "\tat java.base/jdk.internal.reflect.NativeMethodAccessorImpl.invoke(NativeMethodAccessorImpl.java:62)\n",
            "\tat java.base/jdk.internal.reflect.DelegatingMethodAccessorImpl.invoke(DelegatingMethodAccessorImpl.java:43)\n",
            "\tat java.base/java.lang.reflect.Method.invoke(Method.java:566)\n",
            "\tat py4j.reflection.MethodInvoker.invoke(MethodInvoker.java:244)\n",
            "\tat py4j.reflection.ReflectionEngine.invoke(ReflectionEngine.java:374)\n",
            "\tat py4j.Gateway.invoke(Gateway.java:282)\n",
            "\tat py4j.commands.AbstractCommand.invokeMethod(AbstractCommand.java:132)\n",
            "\tat py4j.commands.CallCommand.execute(CallCommand.java:79)\n",
            "\tat py4j.ClientServerConnection.waitForCommands(ClientServerConnection.java:182)\n",
            "\tat py4j.ClientServerConnection.run(ClientServerConnection.java:106)\n",
            "\tat java.base/java.lang.Thread.run(Thread.java:829)\n",
            "\n"
          ]
        }
      ]
    },
    {
      "cell_type": "markdown",
      "source": [
        "# Ejecutar programa Structured Streaming"
      ],
      "metadata": {
        "id": "N8-HH89vqdWm"
      }
    },
    {
      "cell_type": "markdown",
      "source": [
        "## Crear programa"
      ],
      "metadata": {
        "id": "9gZ7mwFvrZm1"
      }
    },
    {
      "cell_type": "code",
      "source": [
        "%%bash\n",
        "cat << EOF > mayusculas_structured_streaming.py\n",
        "from pyspark.sql import SparkSession\n",
        "from pyspark.sql.functions import udf\n",
        "\n",
        "#Creamos una funcion que dado un registro lo convierta mayusculas\n",
        "@udf\n",
        "def mayusculas(record):\n",
        "    if record is not None:\n",
        "        return record.upper()\n",
        "\n",
        "if __name__ == \"__main__\":\n",
        "\tspark = SparkSession.builder.appName(\"mayuscuclas_structured\").getOrCreate()\n",
        "\tspark.sparkContext.setLogLevel(\"ERROR\")\n",
        "\n",
        "\t#Leemos los datos\n",
        "\tlineas = spark.readStream.format(\"text\").load(\"misDatosEnStreaming\")\n",
        "\t'''\n",
        "\tlineas = spark \\\n",
        "\t\t    .readStream \\\n",
        "\t\t    .format(\"socket\") \\\n",
        "\t\t    .option(\"host\", \"localhost\") \\\n",
        "\t\t    .option(\"port\", 9999) \\\n",
        "\t\t    .load()\n",
        "\t'''\n",
        "\t#Cambiamos el nombre de la unica columna que tenemos\n",
        "\tlineas = lineas.withColumnRenamed(\"value\", \"colMinusculas\")\n",
        "\n",
        "\t#Creamos una nueva columna que convierte a mayusculas\n",
        "\tlineas_mayusculas = lineas.withColumn(\"colMaysuculas\", mayusculas(lineas.colMinusculas))\n",
        "\n",
        "\t#Creamos la query indicando que nos saque por consola el resultado\n",
        "\tquery = lineas_mayusculas \\\n",
        "\t    .writeStream \\\n",
        "\t    .format(\"console\") \\\n",
        "\t    .start()\n",
        "\n",
        "\t#Ejecutamos la query\n",
        "\tquery.awaitTermination()\n",
        "EOF"
      ],
      "metadata": {
        "id": "B0gAM6xYnN98"
      },
      "execution_count": null,
      "outputs": []
    },
    {
      "cell_type": "markdown",
      "source": [
        "IMPORTANTE: no podemos leer desde un socket en Google Colab, entonces lo que hacemos es crear el programa leyendo de disco. Si el programa exige leer de un socket, entonce sólo hay que descomentar la línea y funcionará bien (aunque no funcionará en Colab)."
      ],
      "metadata": {
        "id": "r2318aJTrK60"
      }
    },
    {
      "cell_type": "markdown",
      "source": [
        "## Crear datos"
      ],
      "metadata": {
        "id": "B2xhNfcTrK62"
      }
    },
    {
      "cell_type": "markdown",
      "source": [
        "IMPORTANTE: los datos se empezarán a generar a los 15 segundos. Primero los datos que hay antes del primer \"sleep 5\" luego se esperará 5 segundos y se generarán los que hay a continuación hasta el siguiente \"sleep 5\". Y así sucesivamente.\n",
        "\n",
        "Nota: nada más ejecutar la celda de crear datos, hay que ejecutar el programa. Los primeros 15 segundos es para que de tiempo al programa a lanzarse"
      ],
      "metadata": {
        "id": "1mzMnPDhrK63"
      }
    },
    {
      "cell_type": "code",
      "source": [
        "%%script bash --bg\n",
        "\n",
        "sleep 15\n",
        "\n",
        "rm -r misDatosEnStreaming\n",
        "mkdir misDatosEnStreaming\n",
        "\n",
        "\n",
        "cat << EOF > misDatosEnStreaming/1\n",
        "Estos son los primeros datos que llegan en Streaming\n",
        "Esta es la segunda fila\n",
        "EOF\n",
        "\n",
        "sleep 5\n",
        "\n",
        "cat << EOF > misDatosEnStreaming/2\n",
        "Despues de 5 seg, llegan estos datos\n",
        "Mas datos\n",
        "EOF\n",
        "\n",
        "\n",
        "sleep 5\n",
        "\n",
        "cat << EOF > misDatosEnStreaming/3\n",
        "Terceros datos que llegan\n",
        "Ultima fila\n",
        "EOF"
      ],
      "metadata": {
        "id": "LmuPOIcMrK64"
      },
      "execution_count": null,
      "outputs": []
    },
    {
      "cell_type": "markdown",
      "source": [
        "## Ejecutar programa"
      ],
      "metadata": {
        "id": "rYCD4XVIrK65"
      }
    },
    {
      "cell_type": "markdown",
      "source": [
        "Para finalizar el programa, pulsar en para la celda"
      ],
      "metadata": {
        "id": "o149p-b6rK66"
      }
    },
    {
      "cell_type": "code",
      "source": [
        "! spark-submit mayusculas_structured_streaming.py"
      ],
      "metadata": {
        "colab": {
          "base_uri": "https://localhost:8080/"
        },
        "id": "a2NgMNvOrMr1",
        "outputId": "41c09abe-a12b-43ab-c291-589ed319c951"
      },
      "execution_count": null,
      "outputs": [
        {
          "output_type": "stream",
          "name": "stdout",
          "text": [
            "24/02/29 16:32:55 INFO SparkContext: Running Spark version 3.5.1\n",
            "24/02/29 16:32:55 INFO SparkContext: OS info Linux, 6.1.58+, amd64\n",
            "24/02/29 16:32:55 INFO SparkContext: Java version 11.0.22\n",
            "24/02/29 16:32:55 WARN NativeCodeLoader: Unable to load native-hadoop library for your platform... using builtin-java classes where applicable\n",
            "24/02/29 16:32:55 INFO ResourceUtils: ==============================================================\n",
            "24/02/29 16:32:55 INFO ResourceUtils: No custom resources configured for spark.driver.\n",
            "24/02/29 16:32:55 INFO ResourceUtils: ==============================================================\n",
            "24/02/29 16:32:55 INFO SparkContext: Submitted application: mayuscuclas_structured\n",
            "24/02/29 16:32:55 INFO ResourceProfile: Default ResourceProfile created, executor resources: Map(cores -> name: cores, amount: 1, script: , vendor: , memory -> name: memory, amount: 1024, script: , vendor: , offHeap -> name: offHeap, amount: 0, script: , vendor: ), task resources: Map(cpus -> name: cpus, amount: 1.0)\n",
            "24/02/29 16:32:55 INFO ResourceProfile: Limiting resource is cpu\n",
            "24/02/29 16:32:55 INFO ResourceProfileManager: Added ResourceProfile id: 0\n",
            "24/02/29 16:32:55 INFO SecurityManager: Changing view acls to: root\n",
            "24/02/29 16:32:55 INFO SecurityManager: Changing modify acls to: root\n",
            "24/02/29 16:32:55 INFO SecurityManager: Changing view acls groups to: \n",
            "24/02/29 16:32:55 INFO SecurityManager: Changing modify acls groups to: \n",
            "24/02/29 16:32:55 INFO SecurityManager: SecurityManager: authentication disabled; ui acls disabled; users with view permissions: root; groups with view permissions: EMPTY; users with modify permissions: root; groups with modify permissions: EMPTY\n",
            "24/02/29 16:32:56 INFO Utils: Successfully started service 'sparkDriver' on port 40313.\n",
            "24/02/29 16:32:56 INFO SparkEnv: Registering MapOutputTracker\n",
            "24/02/29 16:32:56 INFO SparkEnv: Registering BlockManagerMaster\n",
            "24/02/29 16:32:56 INFO BlockManagerMasterEndpoint: Using org.apache.spark.storage.DefaultTopologyMapper for getting topology information\n",
            "24/02/29 16:32:56 INFO BlockManagerMasterEndpoint: BlockManagerMasterEndpoint up\n",
            "24/02/29 16:32:56 INFO SparkEnv: Registering BlockManagerMasterHeartbeat\n",
            "24/02/29 16:32:56 INFO DiskBlockManager: Created local directory at /tmp/blockmgr-53b32b8e-2adf-4080-b52a-860e3bcd7393\n",
            "24/02/29 16:32:56 INFO MemoryStore: MemoryStore started with capacity 434.4 MiB\n",
            "24/02/29 16:32:56 INFO SparkEnv: Registering OutputCommitCoordinator\n",
            "24/02/29 16:32:57 INFO JettyUtils: Start Jetty 0.0.0.0:4040 for SparkUI\n",
            "24/02/29 16:32:57 INFO Utils: Successfully started service 'SparkUI' on port 4040.\n",
            "24/02/29 16:32:57 INFO Executor: Starting executor ID driver on host a63ea53c4471\n",
            "24/02/29 16:32:57 INFO Executor: OS info Linux, 6.1.58+, amd64\n",
            "24/02/29 16:32:57 INFO Executor: Java version 11.0.22\n",
            "24/02/29 16:32:57 INFO Executor: Starting executor with user classpath (userClassPathFirst = false): ''\n",
            "24/02/29 16:32:57 INFO Executor: Created or updated repl class loader org.apache.spark.util.MutableURLClassLoader@4b086ba5 for default.\n",
            "24/02/29 16:32:57 INFO Utils: Successfully started service 'org.apache.spark.network.netty.NettyBlockTransferService' on port 34325.\n",
            "24/02/29 16:32:57 INFO NettyBlockTransferService: Server created on a63ea53c4471:34325\n",
            "24/02/29 16:32:57 INFO BlockManager: Using org.apache.spark.storage.RandomBlockReplicationPolicy for block replication policy\n",
            "24/02/29 16:32:57 INFO BlockManagerMaster: Registering BlockManager BlockManagerId(driver, a63ea53c4471, 34325, None)\n",
            "24/02/29 16:32:57 INFO BlockManagerMasterEndpoint: Registering block manager a63ea53c4471:34325 with 434.4 MiB RAM, BlockManagerId(driver, a63ea53c4471, 34325, None)\n",
            "24/02/29 16:32:57 INFO BlockManagerMaster: Registered BlockManager BlockManagerId(driver, a63ea53c4471, 34325, None)\n",
            "24/02/29 16:32:57 INFO BlockManager: Initialized BlockManager: BlockManagerId(driver, a63ea53c4471, 34325, None)\n",
            "-------------------------------------------\n",
            "Batch: 0\n",
            "-------------------------------------------\n",
            "+--------------------+--------------------+\n",
            "|       colMinusculas|       colMaysuculas|\n",
            "+--------------------+--------------------+\n",
            "|Estos son los pri...|ESTOS SON LOS PRI...|\n",
            "|Esta es la segund...|ESTA ES LA SEGUND...|\n",
            "+--------------------+--------------------+\n",
            "\n",
            "-------------------------------------------\n",
            "Batch: 1\n",
            "-------------------------------------------\n",
            "+--------------------+--------------------+\n",
            "|       colMinusculas|       colMaysuculas|\n",
            "+--------------------+--------------------+\n",
            "|Despues de 5 seg,...|DESPUES DE 5 SEG,...|\n",
            "|           Mas datos|           MAS DATOS|\n",
            "+--------------------+--------------------+\n",
            "\n",
            "-------------------------------------------\n",
            "Batch: 2\n",
            "-------------------------------------------\n",
            "+--------------------+--------------------+\n",
            "|       colMinusculas|       colMaysuculas|\n",
            "+--------------------+--------------------+\n",
            "|Terceros datos qu...|TERCEROS DATOS QU...|\n",
            "|         Ultima fila|         ULTIMA FILA|\n",
            "+--------------------+--------------------+\n",
            "\n",
            "ERROR:root:Exception while sending command.\n",
            "Traceback (most recent call last):\n",
            "  File \"/usr/local/spark-3.5.1-bin-hadoop3/python/lib/py4j-0.10.9.7-src.zip/py4j/clientserver.py\", line 511, in send_command\n",
            "    answer = smart_decode(self.stream.readline()[:-1])\n",
            "RuntimeError: reentrant call inside <_io.BufferedReader name=3>\n",
            "\n",
            "During handling of the above exception, another exception occurred:\n",
            "\n",
            "Traceback (most recent call last):\n",
            "  File \"/usr/local/spark-3.5.1-bin-hadoop3/python/lib/py4j-0.10.9.7-src.zip/py4j/java_gateway.py\", line 1038, in send_command\n",
            "    response = connection.send_command(command)\n",
            "  File \"/usr/local/spark-3.5.1-bin-hadoop3/python/lib/py4j-0.10.9.7-src.zip/py4j/clientserver.py\", line 539, in send_command\n",
            "    raise Py4JNetworkError(\n",
            "py4j.protocol.Py4JNetworkError: Error while sending or receiving\n",
            "ERROR:root:Exception while sending command.\n",
            "Traceback (most recent call last):\n",
            "  File \"/usr/local/spark-3.5.1-bin-hadoop3/python/lib/py4j-0.10.9.7-src.zip/py4j/clientserver.py\", line 511, in send_command\n",
            "    answer = smart_decode(self.stream.readline()[:-1])\n",
            "  File \"/usr/lib/python3.10/socket.py\", line 705, in readinto\n",
            "    return self._sock.recv_into(b)\n",
            "  File \"/usr/local/spark-3.5.1-bin-hadoop3/python/lib/pyspark.zip/pyspark/context.py\", line 381, in signal_handler\n",
            "    self.cancelAllJobs()\n",
            "  File \"/usr/local/spark-3.5.1-bin-hadoop3/python/lib/pyspark.zip/pyspark/context.py\", line 2446, in cancelAllJobs\n",
            "    self._jsc.sc().cancelAllJobs()\n",
            "  File \"/usr/local/spark-3.5.1-bin-hadoop3/python/lib/py4j-0.10.9.7-src.zip/py4j/java_gateway.py\", line 1322, in __call__\n",
            "    return_value = get_return_value(\n",
            "  File \"/usr/local/spark-3.5.1-bin-hadoop3/python/lib/pyspark.zip/pyspark/errors/exceptions/captured.py\", line 179, in deco\n",
            "    return f(*a, **kw)\n",
            "  File \"/usr/local/spark-3.5.1-bin-hadoop3/python/lib/py4j-0.10.9.7-src.zip/py4j/protocol.py\", line 334, in get_return_value\n",
            "    raise Py4JError(\n",
            "py4j.protocol.Py4JError: An error occurred while calling o12.sc\n",
            "\n",
            "During handling of the above exception, another exception occurred:\n",
            "\n",
            "Traceback (most recent call last):\n",
            "  File \"/usr/local/spark-3.5.1-bin-hadoop3/python/lib/py4j-0.10.9.7-src.zip/py4j/java_gateway.py\", line 1038, in send_command\n",
            "    response = connection.send_command(command)\n",
            "  File \"/usr/local/spark-3.5.1-bin-hadoop3/python/lib/py4j-0.10.9.7-src.zip/py4j/clientserver.py\", line 539, in send_command\n",
            "    raise Py4JNetworkError(\n",
            "py4j.protocol.Py4JNetworkError: Error while sending or receiving\n",
            "Traceback (most recent call last):\n",
            "  File \"/content/mayusculas_structured_streaming.py\", line 29, in <module>\n",
            "    query.awaitTermination()\n",
            "  File \"/usr/local/spark-3.5.1-bin-hadoop3/python/lib/pyspark.zip/pyspark/sql/streaming/query.py\", line 221, in awaitTermination\n",
            "  File \"/usr/local/spark-3.5.1-bin-hadoop3/python/lib/py4j-0.10.9.7-src.zip/py4j/java_gateway.py\", line 1322, in __call__\n",
            "  File \"/usr/local/spark-3.5.1-bin-hadoop3/python/lib/pyspark.zip/pyspark/errors/exceptions/captured.py\", line 179, in deco\n",
            "  File \"/usr/local/spark-3.5.1-bin-hadoop3/python/lib/py4j-0.10.9.7-src.zip/py4j/protocol.py\", line 334, in get_return_value\n",
            "py4j.protocol.Py4JError: An error occurred while calling o47.awaitTermination\n"
          ]
        }
      ]
    },
    {
      "cell_type": "code",
      "source": [],
      "metadata": {
        "id": "Tssil5OEsvvu"
      },
      "execution_count": null,
      "outputs": []
    }
  ]
}