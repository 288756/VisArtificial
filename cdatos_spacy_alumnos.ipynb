{
  "nbformat": 4,
  "nbformat_minor": 0,
  "metadata": {
    "colab": {
      "provenance": [],
      "collapsed_sections": [
        "A02IF8ue7G50",
        "buu_IQyZCA2J"
      ],
      "include_colab_link": true
    },
    "kernelspec": {
      "name": "python3",
      "display_name": "Python 3"
    },
    "language_info": {
      "name": "python"
    }
  },
  "cells": [
    {
      "cell_type": "markdown",
      "metadata": {
        "id": "view-in-github",
        "colab_type": "text"
      },
      "source": [
        "<a href=\"https://colab.research.google.com/github/288756/VisArtificial/blob/master/cdatos_spacy_alumnos.ipynb\" target=\"_parent\"><img src=\"https://colab.research.google.com/assets/colab-badge.svg\" alt=\"Open In Colab\"/></a>"
      ]
    },
    {
      "cell_type": "markdown",
      "source": [
        "# Configuración del entorno\n"
      ],
      "metadata": {
        "id": "1C1zC-suzMAw"
      }
    },
    {
      "cell_type": "markdown",
      "source": [
        "# Carga de datos\n",
        "\n",
        "Carga el primer libro en una variable `str`."
      ],
      "metadata": {
        "id": "085A9uWQ0kz-"
      }
    },
    {
      "cell_type": "code",
      "source": [
        "!file /content/hp1"
      ],
      "metadata": {
        "colab": {
          "base_uri": "https://localhost:8080/"
        },
        "id": "W8QE8KIy4ZSZ",
        "outputId": "f512873f-3051-41f2-a819-27dd587576d6"
      },
      "execution_count": 13,
      "outputs": [
        {
          "output_type": "stream",
          "name": "stdout",
          "text": [
            "/content/hp1: Unicode text, UTF-8 text, with very long lines (995), with CRLF line terminators\n"
          ]
        }
      ]
    },
    {
      "cell_type": "code",
      "source": [
        "corpus = \"\"\n",
        "ruta_archivo = \"/content/hp1\"\n",
        "\n",
        "with open(ruta_archivo, \"r\", encoding=\"utf8\") as archivo:\n",
        "  for i in range(15):\n",
        "    archivo.readline()\n",
        "  corpus = archivo.read().replace(\"\\x97\", \"-\")\n",
        "\n",
        "print(corpus[3000:])"
      ],
      "metadata": {
        "id": "buDV2TMzxHhU"
      },
      "execution_count": null,
      "outputs": []
    },
    {
      "cell_type": "markdown",
      "source": [
        "## Extracción de sentencias\n",
        "\n",
        "Crea una lista de `str`, donde cada elemento se corresponda con una frase del libro."
      ],
      "metadata": {
        "id": "9yRyxfKR0meO"
      }
    },
    {
      "cell_type": "code",
      "source": [
        "# Importa spaCy\n",
        "import spacy\n",
        "!python -m spacy download es_core_news_md"
      ],
      "metadata": {
        "id": "uvM2te1htGHH"
      },
      "execution_count": null,
      "outputs": []
    },
    {
      "cell_type": "code",
      "source": [
        "# Crea un objeto nlp vacío para procesar español\n",
        "nlp = spacy.load(\"es_core_news_md\")"
      ],
      "metadata": {
        "id": "kbOthbc-vsoI"
      },
      "execution_count": 22,
      "outputs": []
    },
    {
      "cell_type": "code",
      "source": [
        "doc = nlp(\"Como Juan es fan de Harry Potter, quiere hacer un procesador de textos usando SpaCy que reconozca cosas como, por ejemplo, hechizos\")"
      ],
      "metadata": {
        "id": "-XIObviZv3tw"
      },
      "execution_count": 31,
      "outputs": []
    },
    {
      "cell_type": "code",
      "source": [
        "from spacy import displacy\n",
        "displacy.render(doc, style=\"ent\")"
      ],
      "metadata": {
        "colab": {
          "base_uri": "https://localhost:8080/",
          "height": 52
        },
        "id": "u92RafXVwQCm",
        "outputId": "015cca2c-d8b6-4d7e-9e2a-a0b9b0d5612b"
      },
      "execution_count": 32,
      "outputs": [
        {
          "output_type": "display_data",
          "data": {
            "text/plain": [
              "<IPython.core.display.HTML object>"
            ],
            "text/html": [
              "<span class=\"tex2jax_ignore\"><div class=\"entities\" style=\"line-height: 2.5; direction: ltr\">Como \n",
              "<mark class=\"entity\" style=\"background: #ddd; padding: 0.45em 0.6em; margin: 0 0.25em; line-height: 1; border-radius: 0.35em;\">\n",
              "    Juan\n",
              "    <span style=\"font-size: 0.8em; font-weight: bold; line-height: 1; border-radius: 0.35em; vertical-align: middle; margin-left: 0.5rem\">PER</span>\n",
              "</mark>\n",
              " es fan de \n",
              "<mark class=\"entity\" style=\"background: #ddd; padding: 0.45em 0.6em; margin: 0 0.25em; line-height: 1; border-radius: 0.35em;\">\n",
              "    Harry Potter\n",
              "    <span style=\"font-size: 0.8em; font-weight: bold; line-height: 1; border-radius: 0.35em; vertical-align: middle; margin-left: 0.5rem\">MISC</span>\n",
              "</mark>\n",
              ", quiere hacer un procesador de textos usando \n",
              "<mark class=\"entity\" style=\"background: #7aecec; padding: 0.45em 0.6em; margin: 0 0.25em; line-height: 1; border-radius: 0.35em;\">\n",
              "    SpaCy\n",
              "    <span style=\"font-size: 0.8em; font-weight: bold; line-height: 1; border-radius: 0.35em; vertical-align: middle; margin-left: 0.5rem\">ORG</span>\n",
              "</mark>\n",
              " que reconozca cosas como, por ejemplo, hechizos</div></span>"
            ]
          },
          "metadata": {}
        }
      ]
    },
    {
      "cell_type": "code",
      "source": [
        "\n",
        "texto = \"Imaginemos que este es el texto del libro. Y nosotros queremos dividirlo en frases. Porque vamos a considerar que cada frase es un documento.\"\n",
        "doc = nlp(texto)"
      ],
      "metadata": {
        "id": "Dce8eDEs44_i"
      },
      "execution_count": 15,
      "outputs": []
    },
    {
      "cell_type": "code",
      "source": [],
      "metadata": {
        "colab": {
          "base_uri": "https://localhost:8080/",
          "height": 211
        },
        "id": "0gsFGeQ95nT9",
        "outputId": "b7d2a28f-6275-4c2a-84d5-a5132bee8787"
      },
      "execution_count": 16,
      "outputs": [
        {
          "output_type": "error",
          "ename": "ValueError",
          "evalue": "[E030] Sentence boundaries unset. You can add the 'sentencizer' component to the pipeline with: `nlp.add_pipe('sentencizer')`. Alternatively, add the dependency parser or sentence recognizer, or set sentence boundaries by setting `doc[i].is_sent_start`.",
          "traceback": [
            "\u001b[0;31m---------------------------------------------------------------------------\u001b[0m",
            "\u001b[0;31mValueError\u001b[0m                                Traceback (most recent call last)",
            "\u001b[0;32m<ipython-input-16-08181f19761c>\u001b[0m in \u001b[0;36m<cell line: 1>\u001b[0;34m()\u001b[0m\n\u001b[0;32m----> 1\u001b[0;31m \u001b[0;32mfor\u001b[0m \u001b[0mi\u001b[0m\u001b[0;34m,\u001b[0m \u001b[0msent\u001b[0m \u001b[0;32min\u001b[0m \u001b[0menumerate\u001b[0m\u001b[0;34m(\u001b[0m\u001b[0mdoc\u001b[0m\u001b[0;34m.\u001b[0m\u001b[0msents\u001b[0m\u001b[0;34m)\u001b[0m\u001b[0;34m:\u001b[0m\u001b[0;34m\u001b[0m\u001b[0;34m\u001b[0m\u001b[0m\n\u001b[0m\u001b[1;32m      2\u001b[0m   \u001b[0mprint\u001b[0m\u001b[0;34m(\u001b[0m\u001b[0;34mf\"{i} -- {sent}\"\u001b[0m\u001b[0;34m)\u001b[0m\u001b[0;34m\u001b[0m\u001b[0;34m\u001b[0m\u001b[0m\n",
            "\u001b[0;32m/usr/local/lib/python3.10/dist-packages/spacy/tokens/doc.pyx\u001b[0m in \u001b[0;36msents\u001b[0;34m()\u001b[0m\n",
            "\u001b[0;31mValueError\u001b[0m: [E030] Sentence boundaries unset. You can add the 'sentencizer' component to the pipeline with: `nlp.add_pipe('sentencizer')`. Alternatively, add the dependency parser or sentence recognizer, or set sentence boundaries by setting `doc[i].is_sent_start`."
          ]
        }
      ]
    },
    {
      "cell_type": "code",
      "source": [
        "doc = nlp(corpus)\n",
        "sentencias = list(doc.sents)\n",
        "print(len(sentencias))"
      ],
      "metadata": {
        "colab": {
          "base_uri": "https://localhost:8080/"
        },
        "id": "-X6hWPWbzvyZ",
        "outputId": "64d3e6e5-fcc2-43fb-a4e1-03c23404650c"
      },
      "execution_count": 37,
      "outputs": [
        {
          "output_type": "stream",
          "name": "stdout",
          "text": [
            "6469\n"
          ]
        }
      ]
    },
    {
      "cell_type": "code",
      "source": [
        "for i, sent in enumerate(sentencias[20:100]):\n",
        "  print(f\"{i} -- {sent}\")"
      ],
      "metadata": {
        "colab": {
          "base_uri": "https://localhost:8080/"
        },
        "id": "guQww0PM0CeD",
        "outputId": "3d9471ba-f091-4ee7-9e7f-9b6858680d37"
      },
      "execution_count": 38,
      "outputs": [
        {
          "output_type": "stream",
          "name": "stdout",
          "text": [
            "0 -- Al llegar a la esquina percibió el primer indicio de que sucedía algo raro: un gato estaba mirando un plano de la ciudad.\n",
            "1 -- Durante un segundo, el señor Dursley no se dio cuenta de lo que había visto, pero luego volvió la cabeza para mirar otra vez.\n",
            "2 -- Sí había un gato atigrado en la esquina de Privet Drive, pero no vio ningún plano.\n",
            "3 -- ¿En qué había estado pensando?\n",
            "4 -- Debía de haber sido una ilusión óptica.\n",
            "5 -- El señor Dursley parpadeó y contempló al gato.\n",
            "6 -- Éste le devolvió la mirada.\n",
            "7 -- Mientras el señor Dursley daba la vuelta a la esquina y subía por la calle, observó al gato por el espejo retrovisor: en aquel momento el felino estaba leyendo el rótulo que decía «Privet Drive» (no podía ser, los gatos no saben leer los rótulos ni los planos).\n",
            "8 -- El señor Dursley meneó la cabeza y alejó al gato de sus pensamientos.\n",
            "9 -- Mientras iba a la ciudad en coche no pensó más que en los pedidos de taladros que esperaba conseguir aquel día.\n",
            "\n",
            "10 -- Pero en las afueras ocurrió algo que apartó los taladros de su mente.\n",
            "11 -- Mientras esperaba en el habitual embotellamiento matutino, no pudo dejar de advertir una gran cantidad de gente vestida de forma extraña.\n",
            "12 -- Individuos con capa.\n",
            "13 -- El señor Dursley no soportaba a la gente que llevaba ropa ridícula.\n",
            "14 -- ¡Ah, los conjuntos que llevaban los jóvenes! Supuso que debía de ser una moda nueva.\n",
            "15 -- Tamborileó con los dedos sobre el volante y su mirada se posó en unos extraños que estaban cerca de él.\n",
            "16 -- Cuchicheaban entre sí, muy excitados.\n",
            "17 -- El señor Dursley se enfureció al darse cuenta de que dos de los desconocidos no eran jóvenes.\n",
            "18 -- Vamos, uno era incluso mayor que él, ¡y vestía una capa verde esmeralda! ¡Qué valor!\n",
            "19 -- Pero entonces se le ocurrió que debía de ser alguna tontería publicitaria; era evidente que aquella gente hacía una colecta para algo.\n",
            "20 -- Sí, tenía que ser eso.\n",
            "21 -- El tráfico avanzó y, unos minutos más tarde, el señor Dursley llegó al aparcamiento de Grunnings, pensando nuevamente en los taladros.\n",
            "\n",
            "22 -- El señor Dursley siempre se sentaba de espaldas a la ventana, en su oficina del noveno piso.\n",
            "23 -- Si no lo hubiera hecho así, aquella mañana le habría costado concentrarse en los taladros.\n",
            "24 -- No vio las lechuzas que volaban en pleno día, aunque en la calle sí que las veían y las señalaban con la boca abierta, mientras las aves desfilaban una tras otra.\n",
            "25 -- La mayoría de aquellas personas no había visto una lechuza ni siquiera de noche.\n",
            "26 -- Sin embargo, el señor Dursley tuvo una mañana perfectamente normal, sin lechuzas.\n",
            "27 -- Gritó a cinco personas.\n",
            "28 -- Hizo llamadas telefónicas importantes y volvió a gritar.\n",
            "29 -- Estuvo de muy buen humor hasta la hora de la comida, cuando decidió estirar las piernas y dirigirse a la panadería que estaba en la acera de enfrente.\n",
            "\n",
            "30 -- Había olvidado a la gente con capa hasta que pasó cerca de un grupo que estaba al lado de la panadería.\n",
            "31 -- Al pasar los miró enfadado.\n",
            "32 -- No sabía por qué, pero le ponían nervioso.\n",
            "33 -- Aquel grupo también susurraba con agitación y no llevaba ni una hucha.\n",
            "34 -- Cuando regresaba con un donut gigante en una bolsa de papel, alcanzó a oír unas pocas palabras de su conversación.\n",
            "\n",
            "35 -- -Los Potter, eso es, eso es lo que he oído...\n",
            "-Sí, su hijo, Harry...\n",
            "\n",
            "36 -- El señor Dursley se quedó petrificado.\n",
            "37 -- El temor lo invadió.\n",
            "38 -- Se volvió hacia los que murmuraban, como si quisiera decirles algo, pero se contuvo.\n",
            "\n",
            "39 -- Se apresuró a cruzar la calle y echó a correr hasta su oficina.\n",
            "40 -- Dijo a gritos a su secretaria que no quería que le molestaran, cogió el teléfono y, cuando casi había terminado de marcar los números de su casa, cambió de idea.\n",
            "41 -- Dejó el aparato y se atusó los bigotes mientras pensaba...\n",
            "42 -- No, se estaba comportando como un estúpido.\n",
            "43 -- Potter no era un apellido tan especial.\n",
            "44 -- Estaba seguro de que había muchísimas personas que se llamaban Potter y que tenían un hijo llamado Harry.\n",
            "45 -- Y pensándolo mejor, ni siquiera estaba seguro de que su sobrino se llamara Harry.\n",
            "46 -- Nunca había visto al niño.\n",
            "47 -- Podría llamarse Harvey.\n",
            "48 -- O Harold.\n",
            "49 -- No tenía sentido preocupar a la señora Dursley, siempre se trastornaba mucho ante cualquier mención de su hermana.\n",
            "50 -- Y no podía reprochárselo.\n",
            "51 -- ¡Si él hubiera tenido una hermana así...! Pero de todos modos, aquella gente de la capa...\n",
            "\n",
            "52 -- Aquella tarde le costó concentrarse en los taladros, y cuando dejó el edificio, a las cinco en punto, estaba todavía tan preocupado que, sin darse cuenta, chocó con un hombre que estaba en la puerta.\n",
            "\n",
            "53 -- -Perdón -gruñó, mientras el diminuto viejo se tambaleaba y casi caía al suelo.\n",
            "54 -- Segundos después, el señor Dursley se dio cuenta de que el hombre llevaba una capa violeta.\n",
            "55 -- No parecía disgustado por el empujón.\n",
            "56 -- Al contrario, su rostro se iluminó con una amplia sonrisa, mientras decía con una voz tan chillona que llamaba la atención de los que pasaban:\n",
            "-¡No se disculpe, mi querido señor, porque hoy nada puede molestarme! ¡Hay que alegrarse, porque Quien-usted-sabe finalmente se ha ido! ¡Hasta los muggles como usted deberían celebrar este feliz día!\n",
            "Y el anciano abrazó al señor Dursley y se alejó.\n",
            "\n",
            "57 -- El señor Dursley se quedó completamente helado.\n",
            "58 -- Lo había abrazado un desconocido.\n",
            "59 -- Y por si fuera poco le había llamado muggle, no importaba lo que eso fuera.\n",
            "60 -- Estaba desconcertado.\n",
            "61 -- Se apresuró a subir a su coche y a dirigirse hacia su casa, deseando que todo fueran imaginaciones suyas (algo que nunca había deseado antes, porque no aprobaba la imaginación).\n",
            "\n",
            "62 -- Cuando entró en el camino del número 4, lo primero que vio (y eso no mejoró su humor) fue el gato atigrado que se había encontrado por la mañana.\n",
            "63 -- En aquel momento estaba sentado en la pared de su jardín.\n",
            "64 -- Estaba seguro de que era el mismo, pues tenía unas líneas idénticas alrededor de los ojos.\n",
            "\n",
            "65 -- -¡Fuera! -dijo el señor Dursley en voz alta.\n",
            "\n",
            "66 -- El gato no se movió.\n",
            "67 -- Sólo le dirigió una mirada severa.\n",
            "68 -- El señor Dursley se preguntó si aquélla era una conducta normal en un gato.\n",
            "69 -- Trató de calmarse y entró en la casa.\n",
            "70 -- Todavía seguía decidido a no decirle nada a su esposa.\n",
            "\n",
            "71 -- La señora Dursley había tenido un día bueno y normal.\n",
            "72 -- Mientras comían, le informó de los problemas de la señora Puerta Contigua con su hija, y le contó que Dudley había aprendido una nueva frase («¡no lo haré!»).\n",
            "73 -- El señor Dursley trató de comportarse con normalidad.\n",
            "74 -- Una vez que acostaron a Dudley, fue al salón a tiempo para ver el informativo de la noche.\n",
            "\n",
            "75 -- -Y por último, observadores de pájaros de todas partes han informado de que hoy las lechuzas de la nación han tenido una conducta poco habitual.\n",
            "76 -- Pese a que las lechuzas habitualmente cazan durante la noche y es muy difícil verlas a la luz del día, se han producido cientos de avisos sobre el vuelo de estas aves en todas direcciones, desde la salida del sol.\n",
            "77 -- Los expertos son incapaces de explicar la causa por la que las lechuzas han cambiado sus horarios de sueño.\n",
            "78 -- -El locutor se permitió una mueca irónica-.\n",
            "79 -- Muy misterioso.\n"
          ]
        }
      ]
    },
    {
      "cell_type": "code",
      "source": [
        "type(sentencias[30])"
      ],
      "metadata": {
        "colab": {
          "base_uri": "https://localhost:8080/"
        },
        "id": "WEs5O1g70QmA",
        "outputId": "bc10d7e7-d4e5-4218-b3f9-72a4c9780aaf"
      },
      "execution_count": 40,
      "outputs": [
        {
          "output_type": "execute_result",
          "data": {
            "text/plain": [
              "spacy.tokens.span.Span"
            ]
          },
          "metadata": {},
          "execution_count": 40
        }
      ]
    },
    {
      "cell_type": "markdown",
      "source": [
        "# ¿Qué personaje es el más nombrado?\n",
        "\n",
        "Cuenta cuántas veces se nombra a Harry, Ron y Hermione de forma individual."
      ],
      "metadata": {
        "id": "ZqRhg4nd8K8x"
      }
    },
    {
      "cell_type": "code",
      "source": [
        "personajes = {\n",
        "    \"Harry\": \"#008000\", # Verde esmeralda\n",
        "    \"Ron\": \"#ff4500\", # Naranja rojizo\n",
        "    \"Hermione\": \"#4b0082\", # Índigo\n",
        "}"
      ],
      "metadata": {
        "id": "4CJfTRdD8aLf"
      },
      "execution_count": 7,
      "outputs": []
    },
    {
      "cell_type": "code",
      "source": [
        "from os.path import split\n",
        "from collections import Counter\n",
        "contador_personajes = Counter(palabra for sentencia in sentencias for palabra in sentencia.text.split() if palabra in personajes)\n",
        "contador_personajes"
      ],
      "metadata": {
        "colab": {
          "base_uri": "https://localhost:8080/"
        },
        "id": "pivnqD9I0w4s",
        "outputId": "ee46b97b-60b8-4187-c152-33dd1472339d"
      },
      "execution_count": 49,
      "outputs": [
        {
          "output_type": "execute_result",
          "data": {
            "text/plain": [
              "Counter({'Harry': 898, 'Ron': 216, 'Hermione': 159})"
            ]
          },
          "metadata": {},
          "execution_count": 49
        }
      ]
    },
    {
      "cell_type": "code",
      "source": [
        "import matplotlib.pyplot as plt\n",
        "\n",
        "# Etiquetas y valores para el gráfico\n",
        "etiquetas = list(contador_personajes.keys())\n",
        "valores = list(contador_personajes.values())\n",
        "\n",
        "# Crear el gráfico de barras\n",
        "plt.bar(etiquetas, valores, color=[personajes[personaje] for personaje in etiquetas])\n",
        "\n",
        "# Añadir título y etiquetas a los ejes\n",
        "plt.title(\"Apariciones de cada personaje principal\")\n",
        "plt.xlabel(\"Casa\")\n",
        "plt.ylabel(\"Cantidad de apariciones\")\n",
        "\n",
        "# Mostrar el gráfico\n",
        "plt.show()"
      ],
      "metadata": {
        "colab": {
          "base_uri": "https://localhost:8080/",
          "height": 472
        },
        "id": "zK3vIuxi9Dls",
        "outputId": "8d39548f-1a8c-4eab-e882-f5824fe6ab34"
      },
      "execution_count": 50,
      "outputs": [
        {
          "output_type": "display_data",
          "data": {
            "text/plain": [
              "<Figure size 640x480 with 1 Axes>"
            ],
            "image/png": "[encoded data removed]"
          },
          "metadata": {}
        }
      ]
    },
    {
      "cell_type": "markdown",
      "source": [
        "## Adjetivos más utilizados"
      ],
      "metadata": {
        "id": "x-zVrXUR9P4G"
      }
    },
    {
      "cell_type": "code",
      "source": [
        "adjetivos = [token.text for token in doc if token.pos_ == \"ADJ\"]\n",
        "\n",
        "conteo_adjetivos = Counter(adjetivos)\n",
        "conteo_adjetivos.most_common(10)"
      ],
      "metadata": {
        "colab": {
          "base_uri": "https://localhost:8080/"
        },
        "id": "Zw2uknI114mf",
        "outputId": "eb81739a-6d56-4879-d69d-9d10e1e46475"
      },
      "execution_count": 51,
      "outputs": [
        {
          "output_type": "execute_result",
          "data": {
            "text/plain": [
              "[('gran', 78),\n",
              " ('mejor', 71),\n",
              " ('primer', 42),\n",
              " ('siguiente', 42),\n",
              " ('primera', 40),\n",
              " ('nuevo', 35),\n",
              " ('seguro', 30),\n",
              " ('grande', 29),\n",
              " ('pequeño', 27),\n",
              " ('verde', 25)]"
            ]
          },
          "metadata": {},
          "execution_count": 51
        }
      ]
    },
    {
      "cell_type": "markdown",
      "source": [
        "## Adjetivos más utilizados con cada personaje"
      ],
      "metadata": {
        "id": "ioKRF4c8-pxn"
      }
    },
    {
      "cell_type": "markdown",
      "source": [
        "## Adjetivos más utilizados con cada personaje"
      ],
      "metadata": {
        "id": "Zxoro7oeB7-Z"
      }
    },
    {
      "cell_type": "markdown",
      "source": [
        "# Fragmentación de textos"
      ],
      "metadata": {
        "id": "MEw9O6t9LdAC"
      }
    },
    {
      "cell_type": "code",
      "source": [
        "text = \"\"\"Este es un texto con capítulos.\n",
        "\n",
        "Capítulo 1: La introducción del libro... esto sería el título.\n",
        "\n",
        "Este es el contenido del primer capítulo. Se trata de un texto que quiero que sea un poco largo para poder probar cosas de la asignatura que estamos cursando en uniovi para detectar entidades en textos.\n",
        "\n",
        "Capítulo 2: El desarrollo\n",
        "\n",
        "Y este es el contenido del segundo capítulo. Podemos referenciar al \"Capítulo 1\" porque su contenido fue interesante. Este la es más corto\"\"\"\n"
      ],
      "metadata": {
        "id": "vMLSrf18PZ9P"
      },
      "execution_count": null,
      "outputs": []
    },
    {
      "cell_type": "code",
      "source": [
        "text = \"\"\"Este es un texto con capítulos.\n",
        "\n",
        "1\n",
        "\n",
        "El título del capítulo\n",
        "\n",
        "Este es el contenido del capitulo que estamos intentando analizar. Su contenido será almacenado posteriormente así que estoy escribiendo una frase larga para poder analizarlo.\n",
        "\n",
        "Capítulo 1: Escribo esto como si fuera un capítulo pero no lo es.\n",
        "\n",
        "2\n",
        "\n",
        "El título del segundo capítulo\n",
        "\n",
        "De nuevo, este es el contenido del capitulo que estamos intentando analizar. Su contenido será almacenado posteriormente así que estoy escribiendo una frase larga para poder analizarlo.\n",
        "\n",
        "22\n",
        "\n",
        "Otro capítulo\n",
        "\n",
        "Este capítulo tiene un número con más de un dígito así que a ver si funciona.\n",
        "\"\"\"\n"
      ],
      "metadata": {
        "id": "4Fc1UcOUNX-M"
      },
      "execution_count": null,
      "outputs": []
    },
    {
      "cell_type": "markdown",
      "source": [
        "# Entrenamiento de modelo para pronosticar hechizos"
      ],
      "metadata": {
        "id": "V9U8wU0VVzye"
      }
    },
    {
      "cell_type": "code",
      "source": [],
      "metadata": {
        "id": "0ArJcTlQV_ZO"
      },
      "execution_count": null,
      "outputs": []
    },
    {
      "cell_type": "markdown",
      "source": [
        "# Trabajo autónomo"
      ],
      "metadata": {
        "id": "TXHuG_Tz93t_"
      }
    },
    {
      "cell_type": "markdown",
      "source": [
        "## ¿Qué casa es la más nombrada?"
      ],
      "metadata": {
        "id": "A02IF8ue7G50"
      }
    },
    {
      "cell_type": "code",
      "source": [
        "casas = {\n",
        "    \"Gryffindor\": \"#b81b1b\",\n",
        "    \"Hufflepuff\": \"#ffcf40\",\n",
        "    \"Ravenclaw\": \"#0070b8\",\n",
        "    \"Slytherin\": \"#008000\",\n",
        "}"
      ],
      "metadata": {
        "id": "pmm6NZWb7O5y"
      },
      "execution_count": null,
      "outputs": []
    },
    {
      "cell_type": "markdown",
      "source": [
        "## ¿En qué frases aparece Revenclaw?"
      ],
      "metadata": {
        "id": "buu_IQyZCA2J"
      }
    },
    {
      "cell_type": "code",
      "source": [],
      "metadata": {
        "id": "QYgsfrvxKMff"
      },
      "execution_count": null,
      "outputs": []
    },
    {
      "cell_type": "markdown",
      "source": [
        "## Obtén los adjetivos que tienen una casa como raíz de la frase\n",
        "\n"
      ],
      "metadata": {
        "id": "QIJqcWNj98y8"
      }
    },
    {
      "cell_type": "code",
      "source": [],
      "metadata": {
        "id": "MWKpRiFSPmDe"
      },
      "execution_count": null,
      "outputs": []
    },
    {
      "cell_type": "markdown",
      "source": [
        "## Obtén las frases en las que aparece cada casa"
      ],
      "metadata": {
        "id": "LhGJGyv59_u_"
      }
    },
    {
      "cell_type": "code",
      "source": [],
      "metadata": {
        "id": "eG4057sALGoH"
      },
      "execution_count": null,
      "outputs": []
    },
    {
      "cell_type": "markdown",
      "source": [
        "## Busca los sustantivos más utilizados en el texto"
      ],
      "metadata": {
        "id": "mHtS2ITvKjrE"
      }
    },
    {
      "cell_type": "code",
      "source": [],
      "metadata": {
        "id": "3B3X4k8bLGUB"
      },
      "execution_count": null,
      "outputs": []
    },
    {
      "cell_type": "markdown",
      "source": [
        "## Divide el libro por capítulos"
      ],
      "metadata": {
        "id": "bcroY5rUKopz"
      }
    },
    {
      "cell_type": "code",
      "source": [],
      "metadata": {
        "id": "uDroEnmfLGAN"
      },
      "execution_count": null,
      "outputs": []
    },
    {
      "cell_type": "markdown",
      "source": [
        "## Entrena un modelo para detectar las entidades relativas a animales y criaturas fantásticas que aprecen en en libro"
      ],
      "metadata": {
        "id": "glAS9miZK10y"
      }
    },
    {
      "cell_type": "code",
      "source": [],
      "metadata": {
        "id": "XEFfF0pqK1Nm"
      },
      "execution_count": null,
      "outputs": []
    },
    {
      "cell_type": "markdown",
      "source": [
        "## [PA] Ejercicio de participación activa\n",
        "\n",
        "Plantea una pregunta que requiera utilizar SpaCy, del estilo de las que has resuelto hasta ahora, y presenta la solución.\n",
        "\n",
        "Para realizar esta presentación, tienes que (obviamente) realizar el código pero **no puedes presentar código**. Lo que harás será 1) plantear una pregunta 2) describir cómo lo has hecho haciendo referencia a los pasos y los tipos de los objetos involucrados 3) presentar los resultados en forma de gráfico, diccionario, lista..."
      ],
      "metadata": {
        "id": "SJGwc-Uw-Fzg"
      }
    },
    {
      "cell_type": "markdown",
      "source": [
        "# Enlace con libros:\n",
        "\n",
        "https://github.com/busiris2014/7506Condor1C2014/tree/master/datos2011/trunk/libros"
      ],
      "metadata": {
        "id": "7QzjT-pDNv4s"
      }
    }
  ]
}