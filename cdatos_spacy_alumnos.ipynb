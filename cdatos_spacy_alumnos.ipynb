{
  "nbformat": 4,
  "nbformat_minor": 0,
  "metadata": {
    "colab": {
      "provenance": [],
      "collapsed_sections": [
        "A02IF8ue7G50",
        "buu_IQyZCA2J"
      ],
      "include_colab_link": true
    },
    "kernelspec": {
      "name": "python3",
      "display_name": "Python 3"
    },
    "language_info": {
      "name": "python"
    }
  },
  "cells": [
    {
      "cell_type": "markdown",
      "metadata": {
        "id": "view-in-github",
        "colab_type": "text"
      },
      "source": [
        "<a href=\"https://colab.research.google.com/github/288756/VisArtificial/blob/master/cdatos_spacy_alumnos.ipynb\" target=\"_parent\"><img src=\"https://colab.research.google.com/assets/colab-badge.svg\" alt=\"Open In Colab\"/></a>"
      ]
    },
    {
      "cell_type": "markdown",
      "source": [
        "# Configuración del entorno\n"
      ],
      "metadata": {
        "id": "1C1zC-suzMAw"
      }
    },
    {
      "cell_type": "markdown",
      "source": [
        "# Carga de datos\n",
        "\n",
        "Carga el primer libro en una variable `str`."
      ],
      "metadata": {
        "id": "085A9uWQ0kz-"
      }
    },
    {
      "cell_type": "code",
      "source": [
        "!file /content/hp1"
      ],
      "metadata": {
        "colab": {
          "base_uri": "https://localhost:8080/"
        },
        "id": "W8QE8KIy4ZSZ",
        "outputId": "f512873f-3051-41f2-a819-27dd587576d6"
      },
      "execution_count": 13,
      "outputs": [
        {
          "output_type": "stream",
          "name": "stdout",
          "text": [
            "/content/hp1: Unicode text, UTF-8 text, with very long lines (995), with CRLF line terminators\n"
          ]
        }
      ]
    },
    {
      "cell_type": "code",
      "source": [
        "corpus = \"\"\n",
        "ruta_archivo = \"/content/hp1\"\n",
        "\n",
        "with open(ruta_archivo, \"r\", encoding=\"utf8\") as archivo:\n",
        "  for i in range(15):\n",
        "    archivo.readline()\n",
        "  corpus = archivo.read().replace(\"\\x97\", \"-\")\n",
        "\n",
        "print(corpus[3000:])"
      ],
      "metadata": {
        "id": "buDV2TMzxHhU"
      },
      "execution_count": null,
      "outputs": []
    },
    {
      "cell_type": "markdown",
      "source": [
        "## Extracción de sentencias\n",
        "\n",
        "Crea una lista de `str`, donde cada elemento se corresponda con una frase del libro."
      ],
      "metadata": {
        "id": "9yRyxfKR0meO"
      }
    },
    {
      "cell_type": "code",
      "source": [
        "# Importa spaCy\n",
        "import spacy\n",
        "!python -m spacy download es_core_news_md"
      ],
      "metadata": {
        "id": "uvM2te1htGHH"
      },
      "execution_count": null,
      "outputs": []
    },
    {
      "cell_type": "code",
      "source": [
        "# Crea un objeto nlp vacío para procesar español\n",
        "nlp = spacy.load(\"es_core_news_md\")"
      ],
      "metadata": {
        "id": "kbOthbc-vsoI"
      },
      "execution_count": 22,
      "outputs": []
    },
    {
      "cell_type": "code",
      "source": [
        "doc = nlp(\"Como Juan es fan de Harry Potter, quiere hacer un procesador de textos usando SpaCy que reconozca cosas como, por ejemplo, hechizos\")"
      ],
      "metadata": {
        "id": "-XIObviZv3tw"
      },
      "execution_count": 31,
      "outputs": []
    },
    {
      "cell_type": "code",
      "source": [
        "from spacy import displacy\n",
        "displacy.render(doc, style=\"ent\")"
      ],
      "metadata": {
        "colab": {
          "base_uri": "https://localhost:8080/",
          "height": 52
        },
        "id": "u92RafXVwQCm",
        "outputId": "015cca2c-d8b6-4d7e-9e2a-a0b9b0d5612b"
      },
      "execution_count": 32,
      "outputs": [
        {
          "output_type": "display_data",
          "data": {
            "text/plain": [
              "<IPython.core.display.HTML object>"
            ],
            "text/html": [
              "<span class=\"tex2jax_ignore\"><div class=\"entities\" style=\"line-height: 2.5; direction: ltr\">Como \n",
              "<mark class=\"entity\" style=\"background: #ddd; padding: 0.45em 0.6em; margin: 0 0.25em; line-height: 1; border-radius: 0.35em;\">\n",
              "    Juan\n",
              "    <span style=\"font-size: 0.8em; font-weight: bold; line-height: 1; border-radius: 0.35em; vertical-align: middle; margin-left: 0.5rem\">PER</span>\n",
              "</mark>\n",
              " es fan de \n",
              "<mark class=\"entity\" style=\"background: #ddd; padding: 0.45em 0.6em; margin: 0 0.25em; line-height: 1; border-radius: 0.35em;\">\n",
              "    Harry Potter\n",
              "    <span style=\"font-size: 0.8em; font-weight: bold; line-height: 1; border-radius: 0.35em; vertical-align: middle; margin-left: 0.5rem\">MISC</span>\n",
              "</mark>\n",
              ", quiere hacer un procesador de textos usando \n",
              "<mark class=\"entity\" style=\"background: #7aecec; padding: 0.45em 0.6em; margin: 0 0.25em; line-height: 1; border-radius: 0.35em;\">\n",
              "    SpaCy\n",
              "    <span style=\"font-size: 0.8em; font-weight: bold; line-height: 1; border-radius: 0.35em; vertical-align: middle; margin-left: 0.5rem\">ORG</span>\n",
              "</mark>\n",
              " que reconozca cosas como, por ejemplo, hechizos</div></span>"
            ]
          },
          "metadata": {}
        }
      ]
    },
    {
      "cell_type": "code",
      "source": [
        "\n",
        "texto = \"Imaginemos que este es el texto del libro. Y nosotros queremos dividirlo en frases. Porque vamos a considerar que cada frase es un documento.\"\n",
        "doc = nlp(texto)"
      ],
      "metadata": {
        "id": "Dce8eDEs44_i"
      },
      "execution_count": 15,
      "outputs": []
    },
    {
      "cell_type": "code",
      "source": [],
      "metadata": {
        "colab": {
          "base_uri": "https://localhost:8080/",
          "height": 211
        },
        "id": "0gsFGeQ95nT9",
        "outputId": "b7d2a28f-6275-4c2a-84d5-a5132bee8787"
      },
      "execution_count": 16,
      "outputs": [
        {
          "output_type": "error",
          "ename": "ValueError",
          "evalue": "[E030] Sentence boundaries unset. You can add the 'sentencizer' component to the pipeline with: `nlp.add_pipe('sentencizer')`. Alternatively, add the dependency parser or sentence recognizer, or set sentence boundaries by setting `doc[i].is_sent_start`.",
          "traceback": [
            "\u001b[0;31m---------------------------------------------------------------------------\u001b[0m",
            "\u001b[0;31mValueError\u001b[0m                                Traceback (most recent call last)",
            "\u001b[0;32m<ipython-input-16-08181f19761c>\u001b[0m in \u001b[0;36m<cell line: 1>\u001b[0;34m()\u001b[0m\n\u001b[0;32m----> 1\u001b[0;31m \u001b[0;32mfor\u001b[0m \u001b[0mi\u001b[0m\u001b[0;34m,\u001b[0m \u001b[0msent\u001b[0m \u001b[0;32min\u001b[0m \u001b[0menumerate\u001b[0m\u001b[0;34m(\u001b[0m\u001b[0mdoc\u001b[0m\u001b[0;34m.\u001b[0m\u001b[0msents\u001b[0m\u001b[0;34m)\u001b[0m\u001b[0;34m:\u001b[0m\u001b[0;34m\u001b[0m\u001b[0;34m\u001b[0m\u001b[0m\n\u001b[0m\u001b[1;32m      2\u001b[0m   \u001b[0mprint\u001b[0m\u001b[0;34m(\u001b[0m\u001b[0;34mf\"{i} -- {sent}\"\u001b[0m\u001b[0;34m)\u001b[0m\u001b[0;34m\u001b[0m\u001b[0;34m\u001b[0m\u001b[0m\n",
            "\u001b[0;32m/usr/local/lib/python3.10/dist-packages/spacy/tokens/doc.pyx\u001b[0m in \u001b[0;36msents\u001b[0;34m()\u001b[0m\n",
            "\u001b[0;31mValueError\u001b[0m: [E030] Sentence boundaries unset. You can add the 'sentencizer' component to the pipeline with: `nlp.add_pipe('sentencizer')`. Alternatively, add the dependency parser or sentence recognizer, or set sentence boundaries by setting `doc[i].is_sent_start`."
          ]
        }
      ]
    },
    {
      "cell_type": "code",
      "source": [
        "doc = nlp(corpus)\n",
        "sentencias = list(doc.sents)\n",
        "print(len(sentencias))"
      ],
      "metadata": {
        "colab": {
          "base_uri": "https://localhost:8080/"
        },
        "id": "-X6hWPWbzvyZ",
        "outputId": "64d3e6e5-fcc2-43fb-a4e1-03c23404650c"
      },
      "execution_count": 37,
      "outputs": [
        {
          "output_type": "stream",
          "name": "stdout",
          "text": [
            "6469\n"
          ]
        }
      ]
    },
    {
      "cell_type": "code",
      "source": [
        "for i, sent in enumerate(sentencias[20:100]):\n",
        "  print(f\"{i} -- {sent}\")"
      ],
      "metadata": {
        "colab": {
          "base_uri": "https://localhost:8080/"
        },
        "id": "guQww0PM0CeD",
        "outputId": "3d9471ba-f091-4ee7-9e7f-9b6858680d37"
      },
      "execution_count": 38,
      "outputs": [
        {
          "output_type": "stream",
          "name": "stdout",
          "text": [
            "0 -- Al llegar a la esquina percibió el primer indicio de que sucedía algo raro: un gato estaba mirando un plano de la ciudad.\n",
            "1 -- Durante un segundo, el señor Dursley no se dio cuenta de lo que había visto, pero luego volvió la cabeza para mirar otra vez.\n",
            "2 -- Sí había un gato atigrado en la esquina de Privet Drive, pero no vio ningún plano.\n",
            "3 -- ¿En qué había estado pensando?\n",
            "4 -- Debía de haber sido una ilusión óptica.\n",
            "5 -- El señor Dursley parpadeó y contempló al gato.\n",
            "6 -- Éste le devolvió la mirada.\n",
            "7 -- Mientras el señor Dursley daba la vuelta a la esquina y subía por la calle, observó al gato por el espejo retrovisor: en aquel momento el felino estaba leyendo el rótulo que decía «Privet Drive» (no podía ser, los gatos no saben leer los rótulos ni los planos).\n",
            "8 -- El señor Dursley meneó la cabeza y alejó al gato de sus pensamientos.\n",
            "9 -- Mientras iba a la ciudad en coche no pensó más que en los pedidos de taladros que esperaba conseguir aquel día.\n",
            "\n",
            "10 -- Pero en las afueras ocurrió algo que apartó los taladros de su mente.\n",
            "11 -- Mientras esperaba en el habitual embotellamiento matutino, no pudo dejar de advertir una gran cantidad de gente vestida de forma extraña.\n",
            "12 -- Individuos con capa.\n",
            "13 -- El señor Dursley no soportaba a la gente que llevaba ropa ridícula.\n",
            "14 -- ¡Ah, los conjuntos que llevaban los jóvenes! Supuso que debía de ser una moda nueva.\n",
            "15 -- Tamborileó con los dedos sobre el volante y su mirada se posó en unos extraños que estaban cerca de él.\n",
            "16 -- Cuchicheaban entre sí, muy excitados.\n",
            "17 -- El señor Dursley se enfureció al darse cuenta de que dos de los desconocidos no eran jóvenes.\n",
            "18 -- Vamos, uno era incluso mayor que él, ¡y vestía una capa verde esmeralda! ¡Qué valor!\n",
            "19 -- Pero entonces se le ocurrió que debía de ser alguna tontería publicitaria; era evidente que aquella gente hacía una colecta para algo.\n",
            "20 -- Sí, tenía que ser eso.\n",
            "21 -- El tráfico avanzó y, unos minutos más tarde, el señor Dursley llegó al aparcamiento de Grunnings, pensando nuevamente en los taladros.\n",
            "\n",
            "22 -- El señor Dursley siempre se sentaba de espaldas a la ventana, en su oficina del noveno piso.\n",
            "23 -- Si no lo hubiera hecho así, aquella mañana le habría costado concentrarse en los taladros.\n",
            "24 -- No vio las lechuzas que volaban en pleno día, aunque en la calle sí que las veían y las señalaban con la boca abierta, mientras las aves desfilaban una tras otra.\n",
            "25 -- La mayoría de aquellas personas no había visto una lechuza ni siquiera de noche.\n",
            "26 -- Sin embargo, el señor Dursley tuvo una mañana perfectamente normal, sin lechuzas.\n",
            "27 -- Gritó a cinco personas.\n",
            "28 -- Hizo llamadas telefónicas importantes y volvió a gritar.\n",
            "29 -- Estuvo de muy buen humor hasta la hora de la comida, cuando decidió estirar las piernas y dirigirse a la panadería que estaba en la acera de enfrente.\n",
            "\n",
            "30 -- Había olvidado a la gente con capa hasta que pasó cerca de un grupo que estaba al lado de la panadería.\n",
            "31 -- Al pasar los miró enfadado.\n",
            "32 -- No sabía por qué, pero le ponían nervioso.\n",
            "33 -- Aquel grupo también susurraba con agitación y no llevaba ni una hucha.\n",
            "34 -- Cuando regresaba con un donut gigante en una bolsa de papel, alcanzó a oír unas pocas palabras de su conversación.\n",
            "\n",
            "35 -- -Los Potter, eso es, eso es lo que he oído...\n",
            "-Sí, su hijo, Harry...\n",
            "\n",
            "36 -- El señor Dursley se quedó petrificado.\n",
            "37 -- El temor lo invadió.\n",
            "38 -- Se volvió hacia los que murmuraban, como si quisiera decirles algo, pero se contuvo.\n",
            "\n",
            "39 -- Se apresuró a cruzar la calle y echó a correr hasta su oficina.\n",
            "40 -- Dijo a gritos a su secretaria que no quería que le molestaran, cogió el teléfono y, cuando casi había terminado de marcar los números de su casa, cambió de idea.\n",
            "41 -- Dejó el aparato y se atusó los bigotes mientras pensaba...\n",
            "42 -- No, se estaba comportando como un estúpido.\n",
            "43 -- Potter no era un apellido tan especial.\n",
            "44 -- Estaba seguro de que había muchísimas personas que se llamaban Potter y que tenían un hijo llamado Harry.\n",
            "45 -- Y pensándolo mejor, ni siquiera estaba seguro de que su sobrino se llamara Harry.\n",
            "46 -- Nunca había visto al niño.\n",
            "47 -- Podría llamarse Harvey.\n",
            "48 -- O Harold.\n",
            "49 -- No tenía sentido preocupar a la señora Dursley, siempre se trastornaba mucho ante cualquier mención de su hermana.\n",
            "50 -- Y no podía reprochárselo.\n",
            "51 -- ¡Si él hubiera tenido una hermana así...! Pero de todos modos, aquella gente de la capa...\n",
            "\n",
            "52 -- Aquella tarde le costó concentrarse en los taladros, y cuando dejó el edificio, a las cinco en punto, estaba todavía tan preocupado que, sin darse cuenta, chocó con un hombre que estaba en la puerta.\n",
            "\n",
            "53 -- -Perdón -gruñó, mientras el diminuto viejo se tambaleaba y casi caía al suelo.\n",
            "54 -- Segundos después, el señor Dursley se dio cuenta de que el hombre llevaba una capa violeta.\n",
            "55 -- No parecía disgustado por el empujón.\n",
            "56 -- Al contrario, su rostro se iluminó con una amplia sonrisa, mientras decía con una voz tan chillona que llamaba la atención de los que pasaban:\n",
            "-¡No se disculpe, mi querido señor, porque hoy nada puede molestarme! ¡Hay que alegrarse, porque Quien-usted-sabe finalmente se ha ido! ¡Hasta los muggles como usted deberían celebrar este feliz día!\n",
            "Y el anciano abrazó al señor Dursley y se alejó.\n",
            "\n",
            "57 -- El señor Dursley se quedó completamente helado.\n",
            "58 -- Lo había abrazado un desconocido.\n",
            "59 -- Y por si fuera poco le había llamado muggle, no importaba lo que eso fuera.\n",
            "60 -- Estaba desconcertado.\n",
            "61 -- Se apresuró a subir a su coche y a dirigirse hacia su casa, deseando que todo fueran imaginaciones suyas (algo que nunca había deseado antes, porque no aprobaba la imaginación).\n",
            "\n",
            "62 -- Cuando entró en el camino del número 4, lo primero que vio (y eso no mejoró su humor) fue el gato atigrado que se había encontrado por la mañana.\n",
            "63 -- En aquel momento estaba sentado en la pared de su jardín.\n",
            "64 -- Estaba seguro de que era el mismo, pues tenía unas líneas idénticas alrededor de los ojos.\n",
            "\n",
            "65 -- -¡Fuera! -dijo el señor Dursley en voz alta.\n",
            "\n",
            "66 -- El gato no se movió.\n",
            "67 -- Sólo le dirigió una mirada severa.\n",
            "68 -- El señor Dursley se preguntó si aquélla era una conducta normal en un gato.\n",
            "69 -- Trató de calmarse y entró en la casa.\n",
            "70 -- Todavía seguía decidido a no decirle nada a su esposa.\n",
            "\n",
            "71 -- La señora Dursley había tenido un día bueno y normal.\n",
            "72 -- Mientras comían, le informó de los problemas de la señora Puerta Contigua con su hija, y le contó que Dudley había aprendido una nueva frase («¡no lo haré!»).\n",
            "73 -- El señor Dursley trató de comportarse con normalidad.\n",
            "74 -- Una vez que acostaron a Dudley, fue al salón a tiempo para ver el informativo de la noche.\n",
            "\n",
            "75 -- -Y por último, observadores de pájaros de todas partes han informado de que hoy las lechuzas de la nación han tenido una conducta poco habitual.\n",
            "76 -- Pese a que las lechuzas habitualmente cazan durante la noche y es muy difícil verlas a la luz del día, se han producido cientos de avisos sobre el vuelo de estas aves en todas direcciones, desde la salida del sol.\n",
            "77 -- Los expertos son incapaces de explicar la causa por la que las lechuzas han cambiado sus horarios de sueño.\n",
            "78 -- -El locutor se permitió una mueca irónica-.\n",
            "79 -- Muy misterioso.\n"
          ]
        }
      ]
    },
    {
      "cell_type": "code",
      "source": [
        "type(sentencias[30])"
      ],
      "metadata": {
        "colab": {
          "base_uri": "https://localhost:8080/"
        },
        "id": "WEs5O1g70QmA",
        "outputId": "bc10d7e7-d4e5-4218-b3f9-72a4c9780aaf"
      },
      "execution_count": 40,
      "outputs": [
        {
          "output_type": "execute_result",
          "data": {
            "text/plain": [
              "spacy.tokens.span.Span"
            ]
          },
          "metadata": {},
          "execution_count": 40
        }
      ]
    },
    {
      "cell_type": "markdown",
      "source": [
        "# ¿Qué personaje es el más nombrado?\n",
        "\n",
        "Cuenta cuántas veces se nombra a Harry, Ron y Hermione de forma individual."
      ],
      "metadata": {
        "id": "ZqRhg4nd8K8x"
      }
    },
    {
      "cell_type": "code",
      "source": [
        "personajes = {\n",
        "    \"Harry\": \"#008000\", # Verde esmeralda\n",
        "    \"Ron\": \"#ff4500\", # Naranja rojizo\n",
        "    \"Hermione\": \"#4b0082\", # Índigo\n",
        "}"
      ],
      "metadata": {
        "id": "4CJfTRdD8aLf"
      },
      "execution_count": 7,
      "outputs": []
    },
    {
      "cell_type": "code",
      "source": [
        "from os.path import split\n",
        "from collections import Counter\n",
        "contador_personajes = Counter(palabra for sentencia in sentencias for palabra in sentencia.text.split() if palabra in personajes)\n",
        "contador_personajes"
      ],
      "metadata": {
        "colab": {
          "base_uri": "https://localhost:8080/"
        },
        "id": "pivnqD9I0w4s",
        "outputId": "ee46b97b-60b8-4187-c152-33dd1472339d"
      },
      "execution_count": 49,
      "outputs": [
        {
          "output_type": "execute_result",
          "data": {
            "text/plain": [
              "Counter({'Harry': 898, 'Ron': 216, 'Hermione': 159})"
            ]
          },
          "metadata": {},
          "execution_count": 49
        }
      ]
    },
    {
      "cell_type": "code",
      "source": [
        "import matplotlib.pyplot as plt\n",
        "\n",
        "# Etiquetas y valores para el gráfico\n",
        "etiquetas = list(contador_personajes.keys())\n",
        "valores = list(contador_personajes.values())\n",
        "\n",
        "# Crear el gráfico de barras\n",
        "plt.bar(etiquetas, valores, color=[personajes[personaje] for personaje in etiquetas])\n",
        "\n",
        "# Añadir título y etiquetas a los ejes\n",
        "plt.title(\"Apariciones de cada personaje principal\")\n",
        "plt.xlabel(\"Casa\")\n",
        "plt.ylabel(\"Cantidad de apariciones\")\n",
        "\n",
        "# Mostrar el gráfico\n",
        "plt.show()"
      ],
      "metadata": {
        "colab": {
          "base_uri": "https://localhost:8080/",
          "height": 472
        },
        "id": "zK3vIuxi9Dls",
        "outputId": "8d39548f-1a8c-4eab-e882-f5824fe6ab34"
      },
      "execution_count": 50,
      "outputs": [
        {
          "output_type": "display_data",
          "data": {
            "text/plain": [
              "<Figure size 640x480 with 1 Axes>"
            ],
            "image/png": "[encoded data removed]"
          },
          "metadata": {}
        }
      ]
    },
    {
      "cell_type": "markdown",
      "source": [
        "## Adjetivos más utilizados"
      ],
      "metadata": {
        "id": "x-zVrXUR9P4G"
      }
    },
    {
      "cell_type": "code",
      "source": [
        "adjetivos = [token.text for token in doc if token.pos_ == \"ADJ\"]\n",
        "\n",
        "conteo_adjetivos = Counter(adjetivos)\n",
        "conteo_adjetivos.most_common(10)"
      ],
      "metadata": {
        "colab": {
          "base_uri": "https://localhost:8080/"
        },
        "id": "Zw2uknI114mf",
        "outputId": "eb81739a-6d56-4879-d69d-9d10e1e46475"
      },
      "execution_count": 51,
      "outputs": [
        {
          "output_type": "execute_result",
          "data": {
            "text/plain": [
              "[('gran', 78),\n",
              " ('mejor', 71),\n",
              " ('primer', 42),\n",
              " ('siguiente', 42),\n",
              " ('primera', 40),\n",
              " ('nuevo', 35),\n",
              " ('seguro', 30),\n",
              " ('grande', 29),\n",
              " ('pequeño', 27),\n",
              " ('verde', 25)]"
            ]
          },
          "metadata": {},
          "execution_count": 51
        }
      ]
    },
    {
      "cell_type": "markdown",
      "source": [
        "## Adjetivos más utilizados con cada personaje"
      ],
      "metadata": {
        "id": "ioKRF4c8-pxn"
      }
    },
    {
      "cell_type": "code",
      "source": [
        "from spacy.matcher import PhraseMatcher\n",
        "from spacy.tokens import Span\n",
        "\n",
        "personajes_principales = [\"Harry\", \"Ron\", \"Hermione\"]\n",
        "personajes_principales_patrones = nlp.pipe(personajes_principales)\n",
        "\n",
        "matcher = PhraseMatcher(nlp.vocab)\n",
        "matcher.add(\"PROTA\", None, *personajes_principales_patrones)\n",
        "\n",
        "def funcion_detecta_prota(doc):\n",
        "  # Aplicar el matcher al doc\n",
        "  matches = matcher(doc)\n",
        "  # Para cada coincidencia ceo un objeto span y en el doc principal identifico\n",
        "  # que esa coincidencia es una entidad de tipo \"PROTAGONISTA\"\n",
        "  spans = [Span(doc, start, end, \"PROTAGONISTA\") for match_id, start, end in matches]\n",
        "  doc.ents = spans\n",
        "  return doc\n",
        "print(doc.ents)"
      ],
      "metadata": {
        "colab": {
          "base_uri": "https://localhost:8080/"
        },
        "id": "UXpavCPO3Mt7",
        "outputId": "47325bd0-1665-47b2-a14d-16f4f12a7599"
      },
      "execution_count": 59,
      "outputs": [
        {
          "output_type": "stream",
          "name": "stdout",
          "text": [
            "(Harry Potter and the, Stone\n",
            "\n",
            ", Alicia Dellepiane\n",
            "\n",
            "\n",
            "Copyright © J.K. Rowling, Copyright © Emecé Editores, El Copyright, Marca Registrada, Harry Potter, Warner Bros, Emecé Editores España, S.A.\n",
            "Mallorca, Barcelona, Tel, Depósito legal: B-36.730-2000\n",
            "\n",
            "1ª edición, Printed in Spain, Jessica, Anne, Di, El señor y la señora Dursley, Privet Drive, Dursley, Grunnings, Era un hombre corpulento y rollizo, La señora Dursley, Los Dursley, Dudley, Dursley, Potter.\n",
            ", La señora Potter, Dursley, Dursley, Dursley, Dursley, Potter, Sabían, Potter, El niño, Potter, Dudley, Dursley, El señor Dursley, Dursley, Dudley, Dursley, Dursley, Dudley, Tunante, Dursley, Se metió en su coche, Dursley, Sí había un gato atigrado, Privet Drive, El señor Dursley, Éste, Mientras el señor Dursley, Privet Drive, El señor Dursley, Individuos, El señor Dursley, ¡Ah, Tamborileó, Cuchicheaban, El señor Dursley, Vamos, Sí, El tráfico avanzó, Dursley, Grunnings, Dursley, No vio las lechuzas, La mayoría de aquellas personas, Sin embargo, el señor Dursley, Gritó, Había, Al pasar los miró enfadado, No sabía por qué,, Aquel grupo también susurraba con agitación, -Los Potter, Harry, Dursley, El temor lo invadió, Potter, Potter, Harry, Harry, Podría llamarse Harvey, O Harold., No tenía sentido preocupar a la señora Dursley, Segundos, Dursley, No parecía disgustado por el empujón, Al contrario, Dursley, Dursley, Lo había abrazado un desconocido, Dursley, El gato, Sólo, El señor Dursley, Todavía, Dursley, Puerta Contigua, Dudley, El señor Dursley, Una vez que acostaron a, Dudley, Los expertos son incapaces de explicar la causa, Muy misterioso, Jim McGuffin, Jim, Ted, Telespectadores, Kent, Yorkshire, Dundee, Noche de las Hogueras, Dursley, Gran Bretaña?, Potter, Aquello, Tenía que decirle algo a su esposa, Dursley, Dursley-, Lechuzas, Dursley, Dursley, El señor Dursley, Potter, Dudley, Dursley, Howard, Un nombre vulgar y horrible, Dursley, Dursley, Dursley, El gato todavía, Miraba, Privet Drive, Potter?, Dursley, La señora Dursley, Dursley, Potter, Dursley, Los Potter, Petunia, Petunia, Dursley, Privet Drive, La verdad, La cola del gato, Privet Drive, Era alto, Llevaba, Sus ojos azules, Tenía una nariz muy larga, El nombre de aquel hombre, Albus Dumbledore, Albus Dumbledore, Por alguna razón, Rió, Parecía, Lo abrió, lo sostuvo alto, La luz más cercana de la calle, Doce veces, Apagador, Si alguien hubiera mirado por la ventana, Dursley, Dumbledore, Apagador, No lo miró, McGonagall, La mujer también, Su cabello negro, Parecía, McGonagall, McGonagall, Dursley-, Lo he oído., Bandadas, Tenían, Estrellas fugaces, Kent, Dedalus Diggle, Dumbledore, McGonagall-, Pero ésa no es una razón, La gente se ha vuelto completamente descuidada, Dumbledore, Quien-usted-sabe, Dumbledore, Dumbledore-, McGonagall, Voldemort, McGonagall, Dumbledore, Todo se volverá muy confuso, Voldemort, McGonagall, Pero usted, Todos saben que usted, Quien-usted... Oh, Voldemort, calma Dumbledore-, Voldemort, No me he ruborizado tanto, Pomfrey, McGonagall, Sabe, Parecía, McGonagall, Dumbledore, Dumbledore, Dumbledore, Voldemort, Godric, Potter., Lily, James Potter, Dumbledore, La profesora McGonagall, James, No quiero creerlo... Oh, Dumbledore, McGonagall, Dicen, Potter, Harry, Pero no pudo., No pudo matar a ese niño, Nadie sabe por qué, ni cómo, Voldemort, Dumbledore, McGonagall-, Después de todo lo que hizo... de toda la gente que mató... ¿, Harry, Dumbledore-, McGonagall, Dumbledore, Era un reloj muy raro, Tenía doce manecillas, Pero para Dumbledore, McGonagall-, Y yo me imagino que usted, Harry, Dumbledore, Los he estado, No, Harry Potter, Dumbledore, Les escribí una carta, McGonagall, Dumbledore, Harry!, Harry Potter, Escribirán, Harry, Dumbledore, McGonagall, Pero ¿cómo va a llegar el niño, Dumbledore, Harry, Hagrid, Hagrid, Dumbledore, McGonagall-, Pero no me, Era dos veces más alto, Cabello, Dumbledore-, Por fin., Dumbledore, El joven Sirius Black, Lo he traído, señor, La casa, Se quedó dormido mientras volábamos sobre, Bristol, Dumbledore, McGonagall, Entre ellas se veía un niño pequeño, Bajo, McGonagall, Dumbledore-, Dumbledore, Las cicatrices, metro de Londres, Bueno, Hagrid, Dumbledore, Dursley, Hagrid, Harry, Hagrid, McGonagall-, ¡Vas, Hagrid, Pero no puedo soportarlo, Lily, James muertos, Harry, Hagrid, McGonagall, Hagrid, Dumbledore, Harry, Los hombros de Hagrid, La profesora McGonagall, La luz titilante que los ojos, Dumbledore, Dumbledore-, No tenemos nada que hacer aquí., Hagrid, Voy a devolver, Sirius, Buenas noches, McGonagall, Dumbledore, Hagrid, Con un estrépito, McGonagall, Dumbledore, La profesora McGonagall, Dumbledore, Apagador de plata, Privet Drive, Harry, Dio media vuelta, Privet Drive, La calle permanecía silenciosa bajo un cielo de color tinta, Aquél, Harry Potter, Una mano pequeña, Dursley, Ni que iba a pasar las próximas semanas pinchado, Dudley, Harry Potter... el niño, Dursley, Privet Drive, El sol, Dursley, Dursley, Sólo las fotos de la repisa de la chimenea, Diez años antes, Dudley Dursley, Harry Potter, Su tía Petunia, Harry, Su tía, Harry, El niño, Había, Había una moto, Tenía la curiosa sensación, Harry, Quiero, Duddy, Harry, Dudley, Harry, Encontró, Harry, La mesa, Dudley, Parecía, La razón exacta por la, Dudley, Harry, Dudley, El saco de boxeo favorito, Dudley, Harry, Harry, Harry, Además, Dudley, Harry, Dudley, La única cosa, Harry, La, Petunia, Dursley, Tío Vernon, Harry, saludo matinal, tío Vernon, Harry, A Harry, Harry, Dudley, Dudley, tío Vernon, Tenía una cara grande y rosada, Tía Petunia, Dudley, Harry, Dudley, Harry, Entretanto, Dudley, Su cara se ensombreció, Marge, Mira, Dudley, Harry, Dudley, Tía Petunia, Dudley, Parecía, Petunia, Tío Vernon, Bravo, Dudley!, Petunia, Harry, tío Vernon, Dudley, Petunia, Vernon, La señora Figg, No puede cuidarlo., Harry, La boca de Dudley, Harry, Dudley, Cada año, Harry, Figg, Harry, Toda la casa, repollo, Figg, Petunia, Harry, Harry, Figg, Tibbles, Snowy, Señor Paws, Tufty, Marge, tío Vernon, Vernon, Dursley, Harry, Yvonne, Mallorca, Petunia, Harry, Dudley\n",
            "Tía Petunia, Harry, Petunia-, Dudley, Dudley, mamá, Dudley, Harry, Justo, Dios, Dudley, Piers Polkiss, Piers, Era el que, Dudley, Dudley, Media, Harry, Dursley, Piers, Dudley, A sus tíos, Vernon, Harry, Harry-, Te estoy avisando ahora, Navidad, Harry-, De verdad...\n",
            "Pero tío Vernon, Nadie, Harry, Dursley, Petunia, Harry, Dudley, Harry, Sin embargo, Petunia, Dudley, Cuanto, Harry, Tía Petunia, Harry, El grupo de Dudley, Harry, Los Dursley, Harry, tío Vernon, Harry, Dudley, Piers, Figg, tío Vernon, Petunia, Le gustaba quejarse de muchas cosas, Harry, Harry, Harry, Aquella, Harry, Estaba volando.\n",
            ", Tío Vernon, Harry, Dudley, Piers, Harry-, Dursley, Harry, Parecían, Los Dursley, Dudley, Piers, Harry, Harry, Dudley, Harry, Tuvo cuidado de andar un poco alejado de los, Dursley, Dudley, Piers, Dudley, tío Vernon, Harry, Más tarde, Harry, Estaba oscuro, Detrás de los vidrios, Dudley, Piers, Dudley, Podía, tío Vernon, Dudley, Tío Vernon, Dudley, Tío Vernon, Dudley, Harry, Era peor, Petunia, Lenta, Harry, Guiñó, Harry, Nadie, Miró, Vernon, Dudley, Harry, Harry, Harry, Harry, Boa Constrictor, Brasil, Harry, Brasil, Harry, SERPIENTE! ¡NO VAN A CREER LO QUE ESTÁ HACIENDO!\n",
            ", Dudley, Harry, Cogido por sorpresa, Harry, Lo que sucedió a continuación, Piers, Dudley, Harry, La descomunal serpiente, Las personas, Harry, Adónde, Petunia, Piers, Dudley, Harry, tío Vernon, Dudley, Piers, Pero lo peor, Harry, Piers, ¿Verdad, Harry?\n",
            ", Tío Vernon, Piers, Harry, Tía Petunia, Harry, No sabía qué hora, Dursley, Dursley, No podía recordar haber estado, Aquello, Harry, Dursley, Pero a veces pensaba, Eran, Un hombrecito con un sombrero violeta, Petunia, Dudley Después, Petunia, Una mujer anciana, Un hombre calvo, Lo más raro de toda aquella, Harry, Harry, Todos, Dudley, extraño Harry Potter, Dudley, Harry, Dudley, Figg, Privet Drive, Harry, Dudley, Piers, Dennis, Malcolm, Gordon, Dudley, Dudley, Harry, Harry, Dudley, Smelting, Piers Polkiss, Harry, Stonewall, Dudley, Stonewall, Harry-, ¿Quieres, Harry-, Los pobres inodoros, Dudley, Petunia, Dudley, Londres, Smelting, Harry, Figg, Aquello, La señora Figg, Harry, Dudley, Los muchachos de Smelting, Debían, Dudley, tío Vernon, Tía Petunia, Dudley, Harry, Creyó, Harry, Parecía, Se acercó a mirar, El cubo estaba lleno de, Petunia, La mujer frunció los labios, Harry, Harry, No sabía que, Petunia-, Estoy, Dudley, Harry, Stonewall, Dudley, tío Vernon, Harry, Tío Vernon, Dudley, Todos, Dudley, Vernon, Harry, Harry, Dudley, Dudley, Harry, Había tres cartas, Marge, tío Vernon, isla de Wight, Harry, Harry, Nadie, Ni siquiera, Sin embargo, Señor H. Potter\n",
            "Alacena Debajo de la, Escalera\n",
            "Privet Drive, Little Whinging\n",
            "Surrey\n",
            "\n",
            "El sobre era grueso y pesado, No tenía sello, Harry, H.\n",
            "-¡Date prisa, tío Vernon, Harry, Entregó, tío Vernon, Tío Vernon, Petunia-, Al parecer comió algo en mal estado, Dudley-, ¡Papá, Harry, Harry, tío Vernon, Harry, Vernon, Su rostro pasó del rojo al verde, Pe... Petunia!, Dudley, tío Vernon, Tía Petunia, Dios mío..., Harry, Dudley, Dudley, Golpeó, Smelting, Harry, tío Vernon, Harry, MI CARTA, Dudley, tío Vernon, Harry, Dudley, Harry, Dudley, Ganó Dudley, Harry, Petunia, tío Vernon, Vernon, Harry, Vernon, No, Petunia! ¿No, tío Vernon, Harry, Harry, Vernon, tío Vernon, La quemé.\n",
            ", Harry, Vernon, Respiró, Harry, Tu tía y yo, Pensamos, Dudley, Harry, Lleva tus cosas, La casa de los, Dursley, Vernon, Petunia, Marge, Vernon, Dudley, Harry, Allí casi todo estaba roto, La filmadora estaba sobre un carro de combate, Dudley, Dudley, Dudley, Dudley, El resto de las estanterías, Dudley, Échalo, Harry, El día anterior, Pero en aquel momento, Dudley, Había gritado, Smelting, Harry, Tío Vernon, Petunia, tío Vernon, Harry, Dudley, Entonces, Señor H. Potter, El Dormitorio Más Pequeño, Privet Drive, tío Vernon, Harry, Allí, Harry, Después de un minuto, tío Vernon, Harry, Harry, Dudley, Harry, Alguien, El reloj despertador, Harry, Dursley, Esperaría, Privet Drive, El corazón le latía aceleradamente mientras, Harry, Había, Harry, Tío Vernon, Harry, Gritó, Harry, Harry, Vernon, Harry, tío Vernon, tío Vernon, Petunia, Vernon, Petunia, Vernon, Petunia, Harry, Como no las podían echar en el buzón, Tío Vernon, Después de quemar todas las cartas, De puntillas entre los tulipanes, Veinticuatro, Harry, Petunia, Mientras tío Vernon, Petunia, Dudley, Harry, tío Vernon, Hoy no llegarán las malditas cartas, Al momento siguiente, Los Dursley, Harry, Tío Vernon, Harry, Cuando tía Petunia, Dudley, tío Vernon, Podían, Vernon, Quiero, Nos vamos., Coged, Parecía, Diez minutos, Dudley, Ni siquiera tía Petunia, De vez en cuando, tío Vernon, Al llegar la noche Dudley, Tenía hambre, Tío Vernon, Dudley, Harry, Dudley, Harry, Tengo, Señor H. Potter\n",
            "Habitación, Cokeworth\n",
            "\n",
            "Harry, tío Vernon, La mujer los miró asombrada, Vernon, Petunia, Vernon, Qué, Los llevó al centro del bosque, Lo mismo sucedió en medio de un campo arado, Dudley, Petunia, Tío Vernon, Gruesas, Dudley, Mi programa favorito, Quiero ir a algún lugar, Lunes., Harry, Dudley, Harry, Claro, Dursley, Vernon, Tío Vernon, Petunia, ¡Vamos! ¡Todos fuera!\n",
            ", Tío Vernon, Una cosa era segura, tío Vernon, Vernon-, El mar congelado, Después de lo que pareció una eternidad, tío Vernon, Sólo, La comida de tío Vernon, Harry, La espuma de las altas olas, Tía Petunia, Dudley, Ella y tío Vernon, Harry, Harry, Los ronquidos de Dudley, El reloj luminoso, Dudley, Harry, Esperaba, Dursley, Cinco minutos, Harry, Esperó, Cuatro minutos, Tal vez la casa de Privet Drive, Tres minutos para la hora, Treinta segundos, Dudley, Harry, Alguien, BUM, Dudley, tío Vernon, Llevaba, Luego...\n",
            "¡UN GOLPE VIOLENTO!\n",
            ", El ruido de la tormenta, No, Dudley, Dudley, Vernon, Harry!, Harry, Tío Vernon, señor!, Dursley, Se estiró, arrebató, tío Vernon, Tío Vernon, Harry, Dursley-, Tengo, Tal vez lo he aplastado un poco, Harry, En el interior, Feliz Cumpleaños, Harry, Harry, Rubeus Hagrid, Guardián de las Llaves, Terrenos de Hogwarts, Harry, Se inclinó ante la chimenea, Los demás no podían ver, Harry, Nadie, Dudley, Tío Vernon, Dudley, Dursley, Harry, Por último, Hagrid, Hogwarts, Ya lo sabrás todo sobre Hogwarts, Harry\n",
            "Hagrid, Harry, Hagrid, Dursley, Sabía, Hogwarts, Harry, Los Dursley, Dursley-, Harry, Después de todo, Puedo hacer cuentas, Hagrid, Tu mundo., Mi mundo, El mundo de tus padres, Hagrid, Tío Vernon, Hagrid, Harry, Quiero decir, Tú eres famoso.\n",
            ", tío Vernon, Vernon Dursley, Hagrid, Cuando éste habló, Dumbledore, Dumbledore, Dursley, Harry, Vernon, Tía Petunia, Hagrid-, Harry, Sólo podía oírse el mar, Harry, Hagrid, Con unos padres como los tuyos, Harry, Señor H. Potter, El Suelo de la Cabaña, Roca, El Mar, HOGWARTS DE MAGIA, Director: Albus Dumbledore, Merlín, Primera Clase, Gran Hechicero, Jefe de Magos, Jefe Supremo, Confederación Internacional de Magos, Querido señor Potter, Colegio Hogwarts de Magia, Por favor, Minerva McGonagall, Directora, Harry, Después de unos minutos, Hagrid, De otro bolsillo, Con la lengua entre los dientes, Harry, Querido señor Dumbledore, Harry, Lo llevo mañana a comprar sus cosas, Espero que usted esté bien, Hagrid\n",
            "\n",
            "Hagrid, Después, teléfono, Harry, Hagrid, Pero en aquel momento tío Vernon, Hagrid, Harry, Hagrid-, Vernon-, Harry-, Petunia-, Lily, Lily, Parecía, Potter en el colegio, Harry, Tan pronto como recuperó la voz, Hagrid, Dursley, Lily, James Potter, Harry Potter, Harry, Hagrid, De, Dumbledore, Ah, Harry, No puedes ir a Hogwarts, Dursley, Nadie, Harry, Vaya, Mira, Tan malo como te puedas imaginar., Peor., Peor, Hagrid, Harry, Está bien... Voldemort, No me lo hagas repetir, De todos modos, Eran días negros, Harry, Sucedían, Horrible, Uno de los pocos lugares seguros, Hogwarts, Dumbledore, No se atrevía a apoderarse del colegio, Hogwarts, Supongo que el misterio, Dumbledore, Lado Oscuro, Lo que todos saben, día de Halloween, Él, Hagrid, Pero es tan triste, frente?, Sucedió, Harry, Nadie, McKinnons, Bones, Prewetts, Pero sobreviviste.\n",
            ", Harry, Hagrid, Hagrid, Dumbledore, Vernon, Harry, Casi, Dursley, Tío Vernon, Miraba, Hagrid, Hagrid, Apuntando, tío Vernon, Dursley, tío Vernon, Se aplastó contra la pared, Hagrid, Harry, Vol, Quién-usted-sabe, Harry Desapareció, Se desvaneció., La misma noche, Eso te hizo aún más famoso, Ése, Otros, La gente que estaba de su lado, No creen que pudieran volver a hacerlo, Que está demasiado débil, Porque algo relacionado contigo, Harry, Hagrid, Harry, Harry, Dudley, Petunia, tío Vernon, Dudley, No creo que yo pueda ser un mago, Hagrid, Harry, Harry, Dudley, Dudley, Harry, Hagrid, Hagrid-, Conque Harry Potter, Hogwarts, Pero tío Vernon, Stonewall, Ya he leído esas cartas, Hagrid-, Lily, James Potter, Hogwarts! Está loco., Siete años allí, Estará, Hogwarts, Albus Dumbled, PAGAR PARA, tío Vernon, Hagrid, INSULTE-A-ALBUS-DUMBLEDORE-EN-MI-PRESENCIA, Dudley, Dudley, Harry, Tío Vernon, Empujó, Dudley, Hagrid, Hagrid, Quise, Miró, Harry, Hogwarts, Yo... bien, Conseguí, Harry, Hogwarts, Me rompieron la varita, Dumbledore, Hagrid, Harry, No te preocupes, Diagon\n",
            "\n",
            "\n",
            "Harry, Soñé, Hagrid, Petunia, Harry, Pero todavía no abrió los ojos, Había, Toc, Toc, Toc, Harry-, Ya me levanto, Hagrid, La cabaña, Hagrid, Harry, La lechuza, Hagrid, Entonces la lechuza, Hagrid, Harry, Harry, Aquí hay una lechuza, Hagrid, Busca, Hagrid, Harry, extraño, Hagrid, Harry, Harry, Hagrid, Harry, Londres, Harry, Acababa de pensar, Hagrid, tío Vernon anoche, Hagrid, Gringotts, El banco de los magos, Come una salchicha, -¿Los magos, Gringotts, Lo dirigen los gnomos, Harry, Harry, Gringotts, Hogwarts, Gringotts, Dumbledore, Asuntos de Hogwarts, Buscarte, Gringotts, Harry, Hagrid, El cielo estaba, El bote, Vernon, Harry, Hagrid, No debo utilizar la magia, Harry, Hagrid, Hagrid, Harry, Si yo... apresuro las cosas un poquito, Hogwarts?, Harry, Hagrid, Gringotts?, Harry, Hagrid, Gringotts, Londres, Te morirías de hambre, Harry, Hagrid, El Profeta, Harry, Vernon, Ministerio de Magia, Hagrid, Ministerio de Magia?, Harry, Hagrid-, Querían, Dumbledore, Hogwarts, Cornelius Fudge, Así que envía lechuzas, Dumbledore, Ministerio de Magia, Harry, No, Hagrid, Hagrid, Harry, Hagrid, Harry?, Harry, Gringotts, Hagrid-, Salía, Londres, Hagrid, Harry, Hagrid, Harry?, Harry, Hagrid-, Harry, HOGWARTS DE MAGIA, Miranda Goshawk, Bathilda Bagshot, Adalbert Waffling, Emeric Switch, Phyllida Spore, Arsenius Jigger, Newt Scamander, Fuerzas Oscuras, Una guía para la autoprotección, Quentin Trimble, RESTO, SE RECUERDA A LOS, Londres, Harry, Hagrid, Harry, Londres, Hagrid, Hagrid, Lo único que Harry, Era una calle normal, Dursley, Harry, Dursley, Hagrid, Harry, Hagrid, El Caldero Chorreante, Hagrid, Harry, La gente, Sus ojos iban de la gran librería, Caldero Chorreante, Harry, Hagrid, Hagrid, Unas, Un hombre pequeño, El suave murmullo de las charlas, Todos, Hagrid, Lo saludaban con la mano, Hagrid, Tom, Hogwarts, Hagrid, Harry, Harry-, Caldero Chorreante, Harry Potter, Harry, Harry, Harry, Todos lo miraban., La anciana de la pipa, Hagrid, Harry, Caldero Chorreante, Harry, Harry, Harry, Mi nombre es Diggle, Dedalus Diggle, Harry, Dedalus Diggle, Usted, Dedalus Diggle, Harry, Doris Crockford, Tenía un tic en el ojo, Quirrell, Hagrid-, Harry, Quirrell, Hogwarts, Quirrell, Harry-, Quirrell, Artes O-Oscuras, Quirrell, P-Potter, Estás, Quirrell, Al fin, Hagrid, Vamos, Harry, Doris Crockford, Harry, Hagrid, Hagrid, Harry, Hasta el profesor Quirrell, Pobre hombre., Una mente brillante, Dicen, la Selva Negra, Harry, Hagrid, Un paso atrás, Harry, Un segundo más tarde, Hagrid, Hagrid-, Diagon, Sonrió, Harry Entraron, Harry, Calderos - Todos los Tamaños, Cobre, Peltre, Plata, Hagrid-, Harry, Movía, Una mujer regordeta, Color pardo, castaño, Harry, Mirad -oyó, Harry, Nimbus, Harry, Escaparates repletos de bazos de murciélagos y ojos de anguilas, la luna, Hagrid, Delante, Hagrid, El gnomo, Harry, Tenía un rostro moreno, Harry, Ladrón, Hagrid, Un centenar de gnomos, Las puertas de salida del vestíbulo, Hagrid, Harry, Hagrid, Harry Potter, Hagrid, Éste frunció la nariz, Harry, Hagrid, El gnomo la examinó de cerca, Dumbledore, Hagrid, El gnomo, Hagrid-, Griphook!\n",
            "Griphook, Hagrid, Harry, Griphook, Harry, Hagrid-, Un asunto de Hogwarts, Dumbledore, Griphook, Harry, Estaban, Griphook, Subieron, Hagrid, Harry, El veloz carro, Griphook, Harry, Iban, Harry, Hagrid, Hagrid-, Hagrid, Griphook, Una oleada de humo verde, Cuando se aclaró, Harry, Dentro, Montones, Montañas, tuyo, Hagrid, Todo de Harry, Los Dursley, Harry?, Londres, Hagrid, Harry, Diecisiete, knuts, Bueno, Griphook-, Ahora, Griphook, El aire se volvió, Llegaron, Harry, Hagrid, La cámara setecientos, Griphook, Tocó, Gringotts, Harry, Griphook, Harry, Entonces, Hagrid, A Harry, Hagrid, Gringotts, Harry, No necesitaba saber cuántos galeones, Dudley, Hagrid, Madame Malkin, Oye, Harry, Caldero Chorreante?, Gringotts, Harry, Madame Malkin, Madame Malkin, Harry, Tengo, Madame Malkin, Harry, Hogwarts?, Harry, Tenía voz de aburrido, Luego voy a arrastrarlos a mirar escobas de carrera, No sé por qué los de primer año, Creo que voy a fastidiar a mi padre, Harry, Dudley, Harry, Harry, Papá, Harry, Slytherin, Hufflepuff?, Harry, Hagrid, Harry, Hagrid, Harry, Trabaja, Hogwarts, Harry, He oído decir, Trata, Harry, -¿Eso, No tenía ganas de hablar de ese tema, Hogwarts, Harry, Madame Malkin, Harry, Hogwarts, Harry, Hagrid, Hagrid, Harry, Harry, Cuando salieron de la tienda, Harry, Harry, Le, Hagrid, Madame Malkin, Caldero Chorreante, Deporte de magos, Slytherin, Hufflepuff, Todos, Hufflepuff, Hufflepuff, Harry, Hufflepuff, Slytherin, Hagrid, Las brujas y los magos, Slytherin, Hogwarts?, Hagrid, Compraron, libros de Harry, Flourish y Blotts, Dudley, Hagrid, Harry, Hechizos, Pérdida de Cabello, Piernas de Mantequilla, Lengua Atada, Vindictus Viridian, Dudley, Hagrid-, Hagrid, Harry, Raíces secas y polvos brillantes llenaban las paredes, Hagrid, Harry, Hagrid, Harry, Harry, Te diré, No un sapo, Te voy a regalar una lechuza, Todos los chicos quieren tener una lechuza, Son muy útiles, Veinte minutos más tarde, Emporio de la Lechuza, Harry, Quirrell, Hagrid, Dursley, Ahora, Ollivander, Una varita mágica, Harry, Sobre la puerta, Ollivander, Era un lugar pequeño, Hagrid, Harry, Por alguna razón, El polvo y el silencio, Harry, Hagrid, Harry, verte, Harry Potter, Tienes, Veintiséis, Una preciosa varita para encantamientos, El señor Ollivander, Harry, El muchacho deseó, Aquellos ojos plateados, Veintiocho centímetros y medio, Flexible, Un poquito más poderosa, Bueno, Ollivander, Harry, Harry, Ollivander, Harry, Treinta y cuatro centímetros y cuarto, Una varita poderosa, Bueno, Harry, Hagrid, -¡Rubeus! ¡Rubeus Hagrid! Me alegro de verlo, Roble, Hagrid, Pero supongo que la partieron, Ollivander, Hagrid, Sin embargo, Hagrid, Harry, Ollivander, Hagrid-, Bueno, Harry, Harry, Eso es., Harry, Ollivander, Harry, Utilizamos, No hay dos varitas Ollivander iguales, Harry, El señor Ollivander, Bien,, Harry Prueba, Madera, Veintitrés centímetros., Bonita y flexible, Cógela, Harry, Ollivander, Diecisiete centímetros y cuarto, Muy elástica., Harry, Ollivander, Ébano y pelo de unicornio, Elástica, Vamos, inténtalo, Harry, Ollivander, Las varitas ya probadas, Ollivander, Me pregunto..., Harry, Sintió, Levantó, Hagrid, Ollivander, Bien, bien, bien..., Realmente qué curioso...\n",
            "Puso la varita de Harry, Harry-, Pero ¿qué es tan curioso?\n",
            ", Ollivander, Harry, Harry Potter., Harry, Ajá., La varita escoge al mago, Harry Potter, El-que-no-debe-ser-nombrado, Terribles, Harry, Ollivander, Pagó siete galeones de oro, Ollivander, Harry, Hagrid, Diagon, Caldero Chorreante, Harry, Harry, Paddington, Harry, Hagrid, Harry, Harry, De alguna manera, Harry?, Hagrid, Harry, Había, Toda esa gente del Caldero Chorreante, Quirrell, Ollivander, ¿Cómo, No sé qué sucedió cuando, Vol..., Hagrid, Detrás de la barba enmarañada, Harry, Aprenderás muy rápido., Todos, Hogwarts, Sencillamente, Has estado, Pero vas a pasarlo muy bien en Hogwarts, Hagrid, Harry, Dursley, Hogwarts, El uno de septiembre, Kings Cross, Está todo en el billete, Dursley, Harry, Harry, Hagrid, Se levantó del asiento, Hagrid, El último mes de Harry, Dursley, Dudley, Petunia, Vernon, Mitad, Harry, Harry, Hedwig, Una historia de la magia, Los libros del colegio, Por la noche, Hedwig, Era una suerte que tía Petunia, Hedwig, Harry, King Cross, Así que bajó al salón, Se aclaró la garganta, Dudley, Tío Vernon, King Cross, Hogwarts, Tío Vernon, Harry, tío Vernon, Harry, Harry, Sacó del bolsillo el billete, Hagrid, Tengo, Vernon-, No hay ningún andén nueve y tres cuartos, Vernon-, Totalmente, Ya lo verás, Muy bien, te llevaremos a, King Cross, De todos modos, Londres, Londres, Harry, Dudley, Vernon-, Smeltings, Harry, Se levantó y se puso los tejanos, Miró, Hogwarts, Hedwig, Dursley, Dos horas más tarde, Harry, Dursley, Petunia, Dudley, Harry, King Cross, Tío Vernon, Harry, Harry, tío Vernon, Andén, Había, Vernon, Harry, Dursley, Los tres, Harry, Hedwig, El guarda, Hogwarts, Harry, Harry, Sin saber qué hacer, Harry, Al final, Según el gran reloj, Hogwarts, Hagrid, Diagon, Harry, La que hablaba era una mujer regordeta, Harry, Harry, Mamá, Ginny Ahora, Muy bien,, Percy, Harry, Pero justo cuando el muchacho, Fred, George, George, George, Fred, Debió, Pero ¿cómo lo había hecho?, Harry, Primer año en, Hogwarts, Ron, Era alto, flacucho y pecoso, Harry-, Lo que pasa es que... es que no se cómo...\n",
            "-¿Como entrar en el andén?, Harry, Lo único que tienes, No te detengas, Lo mejor es ir deprisa, Ve, Ron, Harry, Empujó, Parecía, La gente que, Se inclinó sobre el carrito, Un rótulo decía: «Expreso de Hogwarts, Harry, Andén Nueve y Tres Cuartos, Las lechuzas, Harry, Neville, Lee, Harry, Primero, Hedwig, Harry, Fred, Harry, Harry, Harry, Eres tú, ¿no?, Harry, Harry, Potter, coro, Harry-, Quiero decir, Harry, Harry, Harry, La madre acababa de sacar un pañuelo, Ronnie, Ron, Percy, Ya se había puesto la ondulante túnica negra, Hogwarts, Harry, Estoy, Percy?, Tendrías, Una vez...\n",
            "-O dos...\n",
            "-Un minuto, Percy, Percy, Muy bien, cariño, Envíame una lechuza, Besó, Percy, Gracias, Ron, Ronnie, Ron, Era casi tan alto, tren?\n",
            "Harry, -¡Harry Potter!\n",
            "Harry, Ginny, Fred, Vi, Fred, Como si necesitara que le recuerden, Ginny, Hogwarts, Harry, Harry, Las casas, Harry, No sabía lo que iba a pasar, Harry-., Todos los demás vagones están llenos, Harry, Lanzó una mirada, Harry, Harry, Ron, Lee Jordan, Ron, Fred, George Weasley, Ron, Harry, Ron, Los gemelos, Harry Potter?, Ron, Harry, Fred, George, Ron-, frente de Harry, Harry, Ron, Harry-, Ron, Ron, Contempló, Harry, Harry, Ron, Ron, Ron-, mamá, Weasley, Diagon, Mi tía, Me hubiera gustado tener tres hermanos magos, Ron, Soy el sexto, Hogwarts, Podrías, Bill y Charlie, Bill, Charlie, Ahora, Percy, Fred, George, Todos esperan que me vaya, Además, Bill, Charles, Percy\n",
            "Ron, Scabbers, A Percy, Scabbers, Ron, Parecía, Harry, Después de todo, Ron, Dudley, Eso pareció animar a Ron., Hagrid, Voldemort, Ron, Harry, Ron, Yo creí, Harry-, Tengo, Seguro, Harry, Ron, Harry, Dursley, Pero la mujer no tenía, Mars, Grageas Bertie Bott de Todos los Sabores, Harry, Como no deseaba perderse nada, Ron, Harry, Harry, Ron, Separó, Harry, Sírvete, Ron-., Harry, Era una agradable sensación, Ron, Harry, Ron, No son ranas de verdad, A mí me falta Agripa, Yo tengo como quinientos, Agripa, Ptolomeo, Harry, Debajo, Albus Dumbledore, Dumbledore!, Harry, Dumbledore, Agripa... Gracias, Harry, Albus Dumbledore, Hogwarts, Como el más grande mago, Dumbledore, Grindelwald, Nicolás Flamel, El profesor Dumbledore, Harry, Dumbledore, Ron-, Vaya, Morgana, Los ojos de Ron, desenvolvieran, Harry-, Pero oye, en el mundo de los muggles, -¿Eso, Harry, Dumbledore, Ron, Harry, Dumbledore, Morgana, Ramón Llull, Salomón, Circe, Paracelso, Merlín, Cliodna, Ron-, Ya sabes, George, Ron, Harry, Ron, Habían, Harry, Parecía, Harry, Bueno, Aunque en realidad he traído a Scabbers, La rata, Ron, Ron, Ayer, Te lo voy a enseñar, Revolvió, De todos modos... Acababa de coger la varita, Había, La muchacha ya llevaba la túnica de Hogwarts, Neville, Tenía voz de mandona, Ron, Ron, Rayo de sol, Scabbers, Bueno, Nadie en mi familia, Ya me he aprendido todos los libros de memoria, Hermione Granger, Harry, Ron, Ron Weasley, Ron, Potter -dijo Harry, Hermione-, Lo sé todo sobre ti, Historia de la magia moderna, Defensa contra las Artes Oscuras, Grandes eventos mágicos del siglo XX, Harry, Hermione-, ¿Sabéis, Estuve, Gryffindor, Oí, Dumbledore, Ravenclaw, Neville, Y vosotros dos deberíais, Ron, Arrojó su varita al baúl-, Qué hechizo más estúpido, George, Seguro, Harry, Ron, Mamá, No sé qué van a decir, No creo que Ravenclaw, Slytherin, -¿Esa, Vol, Ron, Scabbers, Harry, Ron, Harry, Rumania, Bill, África, Gringotts, Gringotts?, El Profeta, Harry, No los han atrapado., Mi padre, Gringotts, Harry, Había, Suponía, Voldemort, Ron, Harry, Oh, Le, Neville, Hermione Granger, Harry, Madame Malkin, Harry, Diagon, Por todo el tren están diciendo que Harry Potter, Así que eres tú, ¿no?\n",
            "-Sí -respondió Harry, Situados, Crabbe, Goyle, Harry, Malfoy, Draco Malfoy\n",
            "Ron, Draco, Malfoy, Mi padre me, Weasley, Harry, Potter., Yo puedo ayudarte, Harry, Harry, Draco Malfoy, Potter, Ellos, Tú, gentuza, Weasley, Hagrid, Harry, Ron, El rostro de Ron, Malfoy, Harry, Crabbe, Goyle, Ron, Goyle, Ron, El pelirrojo saltó, Goyle, Scabbers, Goyle, Crabbe, Malfoy, Goyle, Scabbers, Hermione Granger, Ron, Scabbers, Ron, Harry, Miró, Malfoy?\n",
            ", Harry, Diagon, Ron, Dijeron, Mi padre no se lo cree, Dice, Malfoy, Lado Oscuro, Hermione-, Acabo de ir a la locomotora, No os, Ron, Vine, Hermione, A propósito, Ron, Harry, Podía, El tren parecía aminorar la marcha, Ron, La de Ron, Hogwarts, Por favor, estómago de Harry, Ron, Todos, Harry, Harry, Harry, Hagrid, Mirad, Resbalando, Hagrid, Harry, Nadie, Neville, Hogwarts, Hagrid, lago negro, Hagrid, Harry, Ron, Neville, Hermione, Hagrid, Venga! ¡ADELANTE!\n",
            "Y la pequeña, Todos estaban en silencio, risco, Hagrid, Todos agacharon la cabeza, Fueron, Hagrid, Neville, Hagrid, Subieron, Hagrid, Una bruja alta, Tenía un rostro muy severo, Harry, McGonagall, Hagrid, Hagrid, Yo los llevaré, El vestíbulo de entrada, Dursley, Las paredes de piedra, Gringotts, McGonagall, Harry, McGonagall, Hogwarts, McGonagall-, El banquete de comienzo de año, Gran Comedor, La Selección, Hogwarts, Gryffindor, Hufflepuff, Ravenclaw, Slytherin, Hogwarts, Al finalizar el año, copa de la casa, os arregléis, Los ojos de la profesora, Neville, Ron, Con nerviosismo, Harry, McGonagall-, Por favor, Salió de la habitación, Harry, Ron, Fred, El corazón de Harry, Miró, Nadie, Hermione Granger, Harry, Dursley, Mantuvo los ojos, McGonagall, Resopló, Unos veinte fantasmas, De un color blanco perla, Por lo visto, El que parecía un monje gordo y pequeño, Fraile, Peeves, Nadie, Fraile Gordo, Estáis, Hufflepuff-continuó el Fraile-, Mi antigua casa, La Ceremonia de Selección, McGonagall, Harry, Ron, Salieron de la habitación, Gran Comedor, Harry, extraño, Estaba iluminado por miles y miles de velas, En las mesas, La profesora McGonagall, Los cientos de rostros que los miraban parecían pálidas linternas bajo la luz brillante de las velas, Situados, Para evitar todas las miradas, Harry, Oyó, Hermione, Hogwarts, Gran Comedor, Harry, McGonagall, Encima, El sombrero estaba remendado, Tía Petunia, Harry, Harry, Entonces el sombrero, Una rasgadura cerca del borde, Pero yo soy el Sombrero Seleccionador de Hogwarts, Sombrero Seleccionador, Gryffindor, Gryffindor, Hufflepuff, Hufflepuff, Ravenclaw, Slytherin, pruébame! ¡No tengas miedo!\n",
            "¡, Éste se inclinó hacia las cuatro mesas, Ron, Harry-, Voy a matar, Fred, Harry, Sí, probarse el sombrero, El sombrero, Harry, Si el sombrero, McGonagall, Abbott, Hannah!\n",
            "Una niña de rostro rosado, Un momento de pausa, La mesa de la derecha, Hannah, Hufflepuff, Harry, Fraile Gordo, Susan!\n",
            "-¡HUFFLEPUFF!, Susan, Hannah, Terry, Varios Ravenclaws, Terry, Brocklehurst, Mandy, Ravenclaw, Brown, Lavender, Gryffindor, Harry, Ron, Bulstrode, Millicent, Slytherin, Harry, Slytherin, Recordó, Siempre había sido el último en ser elegido, Dudley, Justin, Harry, Seamus, Harry, Gryffindor, Hermione, Hermione, Ron, Harry, McGonagall, Neville Longbottom, El sombrero, Cuando finalmente gritó: ¡GRYFFINDOR!, Neville, MacDougal, Morag, Malfoy, Malfoy, Crabbe, Goyle, Moon... Nott... Parkinson, Patil y Patil..., Perks, Sally-Anne, Harry!\n",
            "Mientras Harry, Potter?, Harry Potter?, Harry, Al momento siguiente, Esperó, Difícil, Lleno de valor, Hay talento, oh vaya, Harry, Slytherin, Slytherin, Slytherin, Slytherin, No hay dudas, GRYFFINDOR!\n",
            "Harry, Gryffindor, Slytherin, Percy, Weasley, Potter!, Potter!, Harry, Éste, Podía, Mesa Alta, Hagrid, Harry, Mesa Alta, Albus Dumbledore, Harry, El cabello plateado, Dumbledore, Harry, Quirrell, Caldero Chorreante, A Turpin, Lisa, Ravenclaw, Ron, Tenía una palidez verdosa, Harry, Un segundo más tarde, GRYFFINDOR!\n",
            "Harry, Ron, Ron, Percy Weasley, Harry, Zabini, Blaise, Slytherin, La profesora McGonagall, Sombrero Seleccionador, Harry, Acababa, Los pasteles le parecían, Albus Dumbledore, Miraba, ¡Bienvenidos, Hogwarts!, ¡Papanatas! ¡Llorones! ¡Baratijas! ¡Pellizco!..., Todos, Harry, Percy, Percy, Harry?\n",
            "Harry, Los platos, Dursley, Harry, Dudley, Harry, Harry, Todo estaba delicioso, Harry, Creo que no me he presentado, ¿verdad?, Sir Nicholas, Mimsy-Porpington, Fantasma Residente de la Torre de Gryffindor, Ron-, Mi hermano me lo contó., ¡Usted, Nick Casi Decapitado, Sir Nicholas, Mimsy, Seamus Finnigan, Decapitado, Sir Nicholas, Teda, Pareció complacido ante las caras de asombro, Gryffindors! Espero, Gryffindor, Slytherin, El Barón Sanguinario, Slytherin, Harry, Slytherin, Malfoy, Harry, Seamus, Nick Casi Decapitado, Un momento más tarde, Trozos de helados de todos los gustos, Harry, Seamus-, Mi padre es muggle, Mamá, Neville, Ron, Neville-, Mi tío abuelo Algie, Blackpool, El tío abuelo Algie, Enid, Pero yo reboté, Todos, Mi abuela estaba tan feliz, Creían, El tío abuelo Algie, Harry, Percy Weasley, Hermione, Transformaciones, Harry, Mesa Alta, Hagrid, La profesora McGonagall, Dumbledore, El profesor Quirrell, El profesor de nariz ganchuda, Quirrell, Harry, Harry, Percy\n",
            "-N-nada.\n",
            ", Harry, Quirrell, Percy, Quirrell, Snape, Su materia, Pociones, Todo el mundo sabe, Quirrell, Snape, Artes Oscuras, Harry, Snape, Dumbledore, Todo el salón, Tengo, Dumbledore, Weasley, Filch, Los que estén interesados, señora Hooch, Harry, -¿Lo, Percy, Percy, Dumbledore-, Por ejemplo, colegio!, Dumbledore, Harry, Dumbledore, Dumbledor-, Hogwarts, Hogwarts, Hogwarts, Al final, Weasley, Dumbledore, Gryffindor, Percy, Gran Comedor, Las piernas de Harry, Percy, Subieron, Harry, Percy, Percy, Peeves, Barón Sanguinario, Todos, Peeves, Barón, Percy\n",
            "Peeves, Neville, Lo oyeron alejarse con un zumbido, Peeves -dijo Percy, El Barón Sanguinario, Ya llegamos.\n",
            ", Percy, Todos, Neville, Gryffindor, Percy, Al final de una escalera de caracol, Demasiado, Ron, Harry, ¡Fuera, Scabbers! Te, Harry, Ron, Harry, extraño, Quirrell, Slytherin, Harry, Slytherin, Harry, Malfoy, Malfoy, Snape, Harry, Al día siguiente, Harry, Los alumnos que esperaban fuera de las aulas, Harry, Hogwarts, Después, Las personas de los retratos, Harry, Nick Casi Decapitado, Gryffindors, Peeves el Duende, TENGO TU, Peeves, Argus Filch, Harry, Ron, Filch, No les creyó, Quirrell, Filch, Señora Norris, Filch, Patrullaba, Filch, Filch, Weasley, Todos los estudiantes lo detestaban, Señora Norris, Había, Harry, Tres veces por semana, Herbología, Sprout, Historia de la Magia, El profesor Binns, Binns, Elmerico el Malvado, Ulrico el Chiflado, Flitwick, Encantamientos, Al comenzar la primera clase, Harry, McGonagall, Harry, Estricta, Hogwarts, Cualquiera, Todos estaban muy impresionados, Después de hacer una cantidad de complicadas anotaciones, Al final de la clase, Hermione Granger, La profesora McGonagall, Defensa Contra las Artes Oscuras, Quirrell, Su aula, Rumania, Su turbante, Por un lado, Seamus Finnigan, Quirrell, Weasley insistían, Quirrell, Harry, Había, Ron, Harry, Ron, Por fin, Gran Comedor, Harry, Ron, Dobles, Slytherin, Ron-, Snape, Jefe de la Casa Slytherin, Dicen, Ahora, McGonagall, Harry, McGonagall, Gryffindor, Justo, Harry, Gran Comedor, Hedwig, Algunas veces volaba para mordisquearle una oreja, Harry, Envíame, Hedwig, Hagrid\n",
            "\n",
            "Harry, Ron, Hedwig, Hagrid, Harry, Pociones, Harry, Snape, Pero al final de la primera clase de Pociones, No era sólo que a, Snape, Harry, Pociones, Hacía, Snape, Flitwick, Flitwick, Harry, Harry Potter., Draco Malfoy, Crabbe, Goyle, Snape, Sus ojos, Hagrid, Eran fríos y vacíos, Hablaba, McGonagall, Snape, Aquí, No espero que lleguéis a entender la belleza de un caldero, Harry, Ron, Hermione Granger, Snape-, Harry, Ron, La mano de Hermione, Harry, Snape, Hermione, Potter., Hermione, Harry, Malfoy, Potter?\n",
            ", Harry, Sí había mirado sus libros en casa de los, Dursley, Snape, Mil hierbas, Snape, Hermione, Potter, Hermione, Harry, Hermione, Harry, Seamus, Snape, Hermione-, Potter; asfódelo, Filtro de Muertos en Vida, Bueno, Por encima del ruido, Snape, casa Gryffindor, Potter.\n",
            ", Gryffindors, Pociones, Snape, Se paseó con su larga capa negra, Malfoy, Malfoy, Neville, Seamus, Neville, Snape, Supongo, Snape, Seamus, Harry, Ron, Neville, Harry Potter., Gryffindor, Harry, Ron, He oído decir, Snape, Harry, Había, Gryffindor, Snape, Snape, Fred, George, Hagrid, Hagrid, Una ballesta y un par de botas de goma, Harry, Hagrid, Fang, La gran cara peluda, Hagrid, Atrás, Fang, Del techo colgaban jamones y faisanes, Hagrid, Fang, Ron, Hagrid, Fang, Ron, Harry, Hagrid, Weasley, Hagrid, Harry, Ron, Hagrid, Fang, Harry, Harry, Ron, Hagrid, Filch, Señora Norris, Fang, Filch, Harry, Hagrid, Snape, Hagrid, Ron, Harry, Snape, -¡Tonterías, Hagrid-, Harry, Hagrid, Charlie, Hagrid, Harry, Hagrid, Ron, Hagrid, Charles, Harry, Era de El Profeta, RECIENTE, GRINGOTTS, Gringotts, Los gnomos, Gringotts, La cámara, Gringotts, Harry, Ron, Gringotts, Harry-, Gringotts, Hagrid, Gruñó, Harry, Hagrid, Harry, Ron, Harry, Hagrid, Hagrid, Snape, Harry, Dudley, Draco Malfoy, Sin embargo, los de primer año de, Gryffindor, Slytherin, Pociones, Gryffindor, Las lecciones de vuelo, Gryffindor, Slytherin, Harry-, Justo, Hacer, Malfoy, Malfoy, La verdad, Malfoy, Pero no era el único, Seamus Finnigan, Ron, Charles, Todos los que procedían de familias de magos, Ron, Dean Thomas, Ron, Harry, Ron, Dean, West Ham, Neville, Harry, Neville, Hermione Granger, Neville, Eso era algo que no se, Quidditch a través de los tiempos, Neville, Hermione, Harry, Hagrid, Malfoy, La lechuza de, Malfoy, Slytherin, Neville, Lo abrió excitado, Recordadora, La abuela sabe, Mirad, Recordadora, Neville, Draco Malfoy, Gryffindor, Recordadora, Harry, Ron, Malfoy, McGonagall, Recordadora, Malfoy, Recordadora, Crabbe, Goyle, Harry, Ron, Gryffindors, Era un día claro y ventoso., La hierba, Slytherins, Harry, Fred, George Weasley, la señora Hooch, Era baja, Vamos, Harry, Era vieja, Hooch-, La escoba de, Harry, La de Hermione Granger, Neville, Harry, Neville, la señora Hooch, Harry, Ron, Malfoy, Preparados, Pero Neville, Neville, Cuatro metros, Harry, BUM, Un ruido horrible, Neville, Su escoba, La señora Hooch, Neville, Harry-, Vamos, Dejad las escobas, Hogwarts, Vamos, Neville, la señora Hooch, Malfoy, Slytherins, Malfoy!, Parvati Patil, Longbottom?, Pansy Parkinson, Slytherin, Nunca pensé que te podían gustar los gorditos llorones, Parvati, -¡Mirad!, Malfoy, Longbottom, Recordadora, Malfoy, Harry, Todos, Malfoy, Longbottom, Harry, Malfoy, No había mentido, Potter!\n",
            "Harry, Hermione Granger-, La señora Hooch, Nos vas a meter en un lío, Harry, Le ardían las orejas, Se montó en su escoba, El aire agitaba su pelo, Era fácil, Empujó, Ron, Malfoy, Harry-, Malfoy, Harry, Malfoy, Malfoy, Harry, Abajo, Crabbe, Goyle, Malfoy, Harry, Malfoy, Giró, Harry, Se inclinó hacia delante, Al momento siguiente, Recordadora, La profesora McGonagall, Hogwarts, McGonagall, Parvati, Malfoy, Weasley, Harry Potter, Harry, Malfoy, Crabbe, Goyle, McGonagall, Lo iban a expulsar, Quería, La profesora McGonagall, Tenía que correr para alcanzarla., Esta vez sí que lo había hecho., No había durado ni dos semanas, Dursley, La profesora McGonagall, Abría, Harry, Dumbledore, Hagrid, Quizá podría ser el ayudante de Hagrid, Ron, Hagrid, McGonagall, Flitwick, Wood, Harry, Wood, Wood, Flitwick, McGonagall, Avanzaron por el pasillo, Wood, Harry, McGonagall, Peeves, Peeves!, Peeves, La profesora McGonagall, Oliver Wood, Wood, Wood, Este chico, Potter?\n",
            ", No tenía una explicación, Wood-, Ni un rasguño, Charlie Weasley, Wood, Potter?, Gryffindor, McGonagall, Wood, Harry, Ligero, Nimbus, Cleansweep 7, Dumbledore, Los cielos, Fuimos, Slytherin, No pude mirar a la cara, Severus Snape, McGonagall, Harry, Potter, Era la hora de la cena, Harry, Ron, McGonagall, Ron, Pero los de primer año, Harry, Tenía muchísima hambre, Wood, Ron, Harry-, Pero no se lo digas a nadie, Wood, Fred, George Weasley, Harry, George, Wood, Nosotros, Somos golpeadores, Fred-, Charlie, Tienes, Harry, Wood, Lee Jordan, Gregory Smarmy, Fred, George, Malfoy, Crabbe, Goyle, Potter?, Harry, Crabbe, Goyle, Mesa Alta, Malfoy-, Un duelo de magos, Sólo varitas, nada de contacto, Ron, Crabbe, Goyle, A medianoche, Malfoy, Ron, Harry, Harry-, Ron, Al ver la expresión de Harry, Lo máximo que podéis hacer, Malfoy, Ninguno sabe suficiente magia, De todos modos, Ron, Hermione Granger, Ron, Hermione, Harry, Malfoy, Ron, Piensa, Gryffindor, La verdad, Harry, Ron, Harry, Estaba acostado, Seamus, Dean, Neville, Ron, Filch, Señora Norris, Harry, Por otra parte, Malfoy, No podía perderla, Ron-, Bajaron, Gryffindor, Todavía, Ya casi habían llegado al retrato, Harry, Hermione Granger, Ron, Hermione-, Percy, Harry, Ron, Empujó, Dama Gorda, Hermione, Ron, Gryffindor, Slytherin, McGonagall, Recordad, Sois, Hermione, Dama Gorda, La Dama Gorda, Hermione, Gryffindor, Ron-., Hermione, Filch, Ron, Harry, He oído algo, Ron, Señora Norris, Era Neville, Estaba enroscado en el suelo, Dios, No podía recordar el nuevo santo y seña, Neville, El santo y seña, Dama Gorda, Harry, La señora Pomfrey, Neville, Neville, No quiero quedarme aquí solo, El Barón Sanguinario, Ron, Hermione, Neville, Maldición de los Demonios, Quirrell, Hermione, Ron, Maldición de los Demonios, Harry, Harry, Filch, Señora Norris, Subieron, Malfoy, Crabbe, Las vitrinas con trofeos, Copas, Fueron, Harry, Malfoy, Los minutos, Ron, Harry, No era Malfoy, Filch, Señora Norris, Aterrorizado, Harry, Filch., Neville, Filch, Harry, Podían, Filch, Súbitamente, Neville, Ron, Harry, Filch, Harry, Encantamientos, Harry, Neville, Hermione, Te... lo... dije, Gryffindor, Ron-, Hermione, Harry-, Te has dado cuenta, Filch, Malfoy, Harry, No habían dado más de una docena de pasos, Era Peeves, Los vio y dejó escapar un grito de alegría, Peeves, Peeves, Malitos, cuellecito, Peeves, Filch, Peeves, Ron, Peeves., CAMA, Peeves-, CAMA, EN, PASILLO DE, ENCANTAMIENTOS, Peeves, Ron, Filch, Peeves, Hermione, Cogió la varita de Harry, Alohomora, Peeves?, Filch-, Rápido, Peeves, Dime, Peeves, Ja, ja!, Peeves, Filch, Harry-, Suéltame, Neville, Neville, Harry, Era un pasillo, El pasillo prohibido del tercer piso, Tenía tres cabezas, Harry, Pero se recuperaba rápidamente: sus profundos, Harry, Entre Filch, Filch, Retrocedieron, Harry, Corrieron, Filch, Pero no les importaba, No dejaron de correr, Dama Gorda, Hocico de cerdo, Harry, Neville, Si algún perro necesita ejercicio, Hermione, Harry-, No miré sus patas, Nos podía haber matado, O peor, Ahora, Ron, Nosotros, Hermione, Harry, El perro vigilaba algo... ¿Qué había dicho Hagrid?, Hogwarts, Parecía, Harry, Harry, Ron, Hogwarts, Harry, Ron, Harry, Ron, Gringotts, Hogwarts, Ron, Harry, Ni Neville, Hermione, Lo único que le importaba, Neville, Hermione, Harry, Ron, Lo que realmente deseaban en aquel momento, Malfoy, Gran Comedor, Harry, Harry, PAQUETE EN, Nimbus, Oliver Wood, Profesora McGonagall, Harry, Ron, Ron, Crabbe, Goyle, Malfoy, Harry, Potter., Ron, Nimbus, Malfoy, Comet 260?, Las Comet, Nimbus, Weasley, Malfoy-., Ron, Flitwick, Malfoy, Malfoy, Flitwick, Harry-, La profesora McGonagall, Potter., Nimbus 2.000, Harry, Malfoy-, Malfoy, Harry, Ron, Malfoy, Harry, Recordadora de Neville, Hermione, Harry, Harry, Ron-, Hermione, Harry, Su mente volvía al dormitorio, Durante la cena, Ron, Nimbus, Ron, Harry, Harry, Pulida, Nimbus, Harry, Le, Wood, Harry, Qué sensación., Subió hasta los postes dorados, La Nimbus 2.000, Potter, baja!\n",
            "Había, Oliver Wood, Llevaba una caja grande de madera debajo del brazo, Harry, Wood, McGonagall, Dentro, Wood-, El quidditch, Tres, Harry, Wood, Wood-, Los cazadores, Obtienen, Harry-, Wood, Harry, Yo soy guardián de Gryffindor, Tengo, Harry, Perfecto, Wood-., Toma esto.\n",
            ", Dio a Harry, Wood-., Esas dos, Harry, Harry, Wood, Harry, Se inclinó y soltó una de las bludgers, Harry, Harry, Pasó, Wood, -¿Ves?, Wood, Las bludgers, Por eso hay dos golpeadores, Weasley, Harry, Wood, Harry, Hogwarts, Bueno, Ese eres tú., Weasley, Quiero decir que ellos, Wood, Comparada, Era de un dorado brillante, Wood-, Es la pelota, Cuesta, El trabajo del buscador, Tendrás, Por eso molestan, Un partido de quidditch sólo, Creo que el record, Bueno, ?\n",
            "Harry, Entendía, Wood, Está demasiado oscuro, Wood, Harry, Wood, Harry, Éste, Wood, Después de media hora, Wood, No me sorprendería, Charles Weasley, Inglaterra, Harry, Hogwarts, El castillo, Privet Drive, mañana de Halloween, Pero lo mejor, Flitwick, Encantamientos, Neville, El profesor Flitwick, La pareja de Harry, Seamus Finnigan, Neville, Ron, Hermione Granger, Era difícil decir, La muchacha no les hablaba desde el día, Harry, Agitar, Harry, Seamus, Seamus, Harry, Ron, Hermione, Win-gar-dium, Ron, Hermione, La pluma, Flitwick, Hermione Granger, Ron, Harry, Alguien chocó contra Harry, Hermione, Harry, Ron, Hermione, De camino al Gran Comedor, Halloween, Harry, Ron, Parvati Patil, Lavender, Hermione, Ron, Gran Comedor, Halloween, Hermione, El festín apareció de pronto en los platos, Harry, Quirrell, Todos, Dumbledore, Pensé, Dumbledore, Percy, Haced sitio, Perdón, Harry, Peeves, broma de Halloween, Hufflepuffs, Harry, Ron, Hermione, Ron, Percy, Hufflepuffs, Ron, Harry, Percy, Snape, Cruzó el pasillo, Harry-, Harry, Ron, Harry, Ron, Algo enorme se movía hacia ellos., Más, Tenía piernas cortas, gruesas, El olor que despedía era increíble, Llevaba, Agitó, Harry-, Ron, De un gran salto, Harry, Animados con la victoria, Ron, Barón Sanguinario, Harry, Harry, Hermione Granger, El personaje deforme avanzaba hacia ella, Harry, Hermione, Sus ojitos malignos, Harry Vaciló, Ron, El ser deforme, Ron, Harry, Hermione, Los gritos y los golpes, Ron, Harry, La atroz criatura, Harry, Harry, Chillando de dolor, Harry, Hermione, Ron, El trol, Harry, Le faltaba el aire, Ron, Hermione, Harry-., Estaba cubierta por una gelatina gris, Un momento después, McGonagall, Snape, Quirrell, Quirrell, Snape, La profesora McGonagall, Ron, Harry, Tenía los labios blancos, Las esperanzas de ganar cincuenta puntos para, Gryffindor, Harry, McGonagall, Harry, Ron, Snape, Harry, Harry, Deseó que Ron pudiera esconder la varita, McGonagall... Me, Granger, Hermione, Ron, Hermione Granger, Harry, Ron, Harry, Ron, McGonagall, Hermione Granger, Hermione, Harry, Hermione, Era, Snape, Granger, Gryffindor, McGonagall-, Estoy muy desilusionada por tu conducta, Si no te, Gryffindor, Hermione, McGonagall, Harry, Ron, Habéis, Gryffindor, Dumbledore, Podéis, Era un alivio estar fuera del alcance del olor del trol, Ron, Hermione, Harry, Dama Gorda, Todos comían, Hermione, Luego, Hermione Granger, Las montañas cercanas al colegio, Por las ventanas de arriba, Hagrid, Aquel sábado, Harry, Slytherin, Si Gryffindor, Harry, Wood, Harry, Pero la noticia de, Harry, Harry, Hermione, Wood, La niña también, Quidditch a través de los tiempos, Harry, Mundiales, desierto del Sahara, Hermione, Harry, Ron, El día anterior al primer partido de Harry, patio helado, Estaban de espaldas al fuego, Snape, De inmediato, Harry, Snape, Los tres chicos, Por desgracia, Snape, No había visto el fuego, Potter?\n",
            "Era el libro sobre quidditch, Harry, Snape-., Cinco puntos menos para Gryffindor, Harry, Snape, Me pregunto qué le pasa en la pierna, Ron, Gryffindor, Harry, Ron, Hermione, Hermione, Harry, Ron sobre Encantamientos, Harry, Quería, Snape?, Ron, Hermione, Snape, Harry, Snape, Bajó, Nada.\n",
            ", Snape, Empujó, Snape, Filch, Snape, Una de sus piernas, Filch, Snape-, Harry, Snape, Harry, Harry, Snape, Gryffindor, Subió, -¿Lo, Ron, Harry, Halloween!, Hermione, Sé que no es muy bueno, Dumbledore, Hermione, Ron-, Harry, Snape, Pero ¿qué busca?, Harry, Neville, Harry, Snape, Harry, El Gran Comedor, Hermione, Harry, Seamus Finnigan-, Los únicos que el otro equipo marca, Seamus, Harry, Los asientos podían elevarse, Ron, Hermione, Seamus, Dean, Harry, Scabbers, Decía, Potter, Dean, Gryffindor, Hermione, Harry, Slytherin, Wood, Angelina Johnson, Wood-., Fred Weasley, George, Oliver, Fred, Harry-, Estábamos, Wood-., Gryffindor, Buena suerte a todos, Harry, Fred, George, La señora Hooch, Estaba en el centro del campo, Harry, Slytherin, Marcus Flint, Le pareció, Con el rabillo del ojo, Potter, Se sintió más valiente, Harry, Nimbus 2.000, La señora Hooch, Quince escobas, Angelina Johnson, Gryffindor, Weasley, Lee Jordan, McGonagall, Alicia Spinnet, Oliver Wood, Johnson, No, Slytherin, Slytherin, Marcus Flint, Flint, Wood, Gryffindor, Gryffindor, Katie Bell, Gryffindor, Flint, ¡Aaayyyy!, Slytherin, Adrian Pucey, Fred, George Weasley, Gryffindor, Johnson, Angelina, Bletchley, GOL DE GRYFFINDOR, Los gritos de los de, Gryffindor, Slytherin, Ron, Hermione, Hagrid, Hagrid, Pero no es lo mismo, Todavía, Harry, Hagrid, Harry, Harry, Eso era parte del plan, Wood, Wood-, No queremos que ataques antes de que tengas que hacerlo, Angelina, Harry, la snitch, Weasley, Harry, Fred Weasley, Harry, Marcus Flint, Lee Jordan-, El cazador Pucey, Weasley, Bell, Adrian Pucey, Harry, El buscador de Slytherin, Terence Higgs, Nariz, Harry, Higgs, Podía, Gryffindors, Marcus Flint, Harry, Gryffindors, La señora Hooch, Flint, Gryffindor, Pero con toda la confusión, Dean Thomas, Dean, Hagrid, Dean, Flint, Harry, Lee Jordan, McGonagall, Flint, Gryffindor, Gryffindor, Spinnet, Gryffindor, Harry, Sucedió, Era, Pero las Nimbus 2.000, Harry, Gryffindor, Wood, No podía dar la vuelta., No, Lee, Flint, Spinnet, Bell, Slytherin, Slytherin, Nadie, Harry, Hagrid, Miró, Harry, Su escoba, Entonces la multitud jadeó, La escoba de Harry, Harry, Flint, Seamus, Hagrid, Nada, Nimbus, Hermione, Hagrid, Harry, Ron, Hermione-, Snape, Mira, Ron, Snape, Tenía los ojos clavados, Harry, Mal, Hermione, Ron, Hermione, Ron, Harry, La escoba, Todos, Weasley, Harry, Pero aquello fue peor, Marcus Flint, Hermione, Ron, Hermione, Snape, Ni, Quirrell, Snape, Snape, El profesor tardó unos treinta segundos, Un súbito aullido, Atrajo el fuego, Snape, Harry, Ron., Neville, Hagrid, Harry, Tosió, Flint, Pero aquello no cambió nada, Harry, Lee Jordan, Gryffindor, Harry, Hagrid, Ron, Hermione, Ron-, Hermione, Murmuraba, Hagrid, Snape, Harry, Ron, Hermione, Harry, Hagrid-, Halloween, Y el perro lo mordió., Nosotros, Hagrid, Fluffy?, Dumbledore, Harry, Hagrid-, Snape, Hagrid-, Snape, Hogwarts, Harry?, Hermione, Snape, Hagrid, Lo he leído todo sobre ellos., Snape, Hagrid-, No sé por qué la escoba de Harry, Snape, Olvidaos, Dumbledore, Nicolás Flamel, Harry-, Entonces hay alguien, Nicolás Flamel, Hagrid, Oesed\n",
            "\n",
            "\n",
            ", Navidad, Hogwarts, El lago, Weasley, Quirrell, Las pocas lechuzas, Hagrid, Todos, Mientras que la sala común de Gryffindor y el Gran Comedor, Lo peor de todo, Snape, Draco Malfoy, Pociones-, Navidad, Hogwarts, Harry., Crabbe, Goyle, Harry, Después del partido de quidditch, Malfoy, Disgustado, Slytherin, Harry, Pero entonces se dio cuenta de que nadie lo encontraba gracioso, Harry, Malfoy, Harry, Era verdad, Harry, Privet Drive, La profesora McGonagall, Navidad, Harry, Navidad, Ron, señora Weasley, Rumania, Charles, clase de Pociones, Dos enormes pies, Hagrid, Hagrid, Ron, Gracias, Ron, Malfoy, Weasley?, Hogwarts, Hagrid, Ron, Malfoy, Snape, Ron, Malfoy, Snape, Hagrid, Malfoy, Hogwarts, Hagrid, Snape, Cinco puntos menos, Gryffindor, Weasley, Malfoy, Crabbe, Goyle, Ron, Malfoy-, Harry-, A Malfoy, Snape, Navidad, Hagrid-, Os voy a decir, Gran Comedor, Hagrid, Gran Comedor, McGonagall, Flitwick, El salón, Guirnaldas de muérdago, Navidad, Hagrid, Hermione-, Harry, Ron, Ron, Flitwick, Hagrid, Harry-, Nicolás Flamel, Escuchadme, No os metáis, No tiene nada que ver con vosotros, Nicolás Flamel, Hermione, Harry-, Ya hemos buscado en miles de libros, Hagrid, Ron, Hagrid, Habían estado, Flamel, Hagrid, Snape, Flamel, No estaba en Grandes magos del siglo XX, Notables nombres de la magia de nuestro, Importantes descubrimientos en la magia moderna, Un estudio del reciente desarrollo de la hechicería, Hermione, Ron, Harry, Sección Prohibida, Flamel, Pero por desgracia, Magia, Lado Oscuro, Hogwarts, Defensa Contra las Artes Oscuras, Harry, La señora Pince, Harry, Él, Ron, Hermione, Pince, Flamel, Estaban, Snape, Harry, Después de todo, Lo que realmente necesitaban era una buena investigación, Pince, Ron, Hermione, Hermione-, Flamel, Preguntarle, Hermione, Ron, Harry, Flamel, Tenían, Malfoy, Ron, Harry, Era igual que el de los muggles, El juego de Ron, Sin embargo, Ron, Harry, Seamus Finnigan, Él todavía no era muy buen jugador, víspera de Navidad, Harry, Cuando al día siguiente, -¡Feliz Navidad!, Ron, Harry, Harry-, Ron, Harry\n",
            "Harry, Estaba, Harry, Hagrid, Contenía una flauta de madera, Hagrid, Harry, Navidad, De tío Vernon, Petunia, Harry, Ron, Harry, Ron-, Hagrid, Ron, Mi madre., Le, Weasley, Harry, Ron, Harry, Hermione, Harry, Lo desenvolvió.\n",
            ", Ron, Hermione-, Harry, El tocarlo producía una sensación extraña, Ron, Estoy seguro..., Pruébatela, Harry, Ron, Harry, Efectivamente, Harry, La caligrafía, Decía, Utilízalo, Feliz Navidad, Harry, Ron, Lo que sea., Harry, Fred, George Weasley, Harry, No se sentía con ganas de compartirla, -¡Feliz Navidad!, Harry, Fred, George, G.\n",
            "-El de Harry, Fred, Harry-, Ron, George-, Vamos, Ron, George-, Supongo, Pero nosotros no somos estúpidos... Sabemos muy bien que nos llamamos Gred, Feorge, Percy Weasley, Fred, Percy, Harry, Percy, George-, La Navidad, Percy, Harry, Navidad, Un centenar de pavos asados, Dudley, Harry, Mesa Alta, Dumbledore, Flitwick, Navidad, Percy, Harry, Hagrid, McGonagall, Harry, Harry, Haga Crecer Sus Propias Verrugas, Los ratones blancos, Harry, Navidad de la Señora Norris, Harry, Weasley, Gryffindor, Harry, Ron, Percy, Después de un té con bocadillos de pavo, Navidad, Percy, Fred, George, torre Gryffindor, Navidad, Ron, Harry, Aquello, Utilízalo bien, Miró, Era una sensación muy curiosa, Harry, Con aquella capa, Hogwarts, Podía, Filch, Ron, La capa de su padre, Sintió, Dama Gorda, Harry, Anduvo, La Sección Prohibida, Flamel, Harry, La lámpara, Harry, La Sección Prohibida, Pasando, Harry, Las letras doradas, Harry, Algunos no tenían títulos, Un libro, Harry, Le, Lo sacó con dificultad, Harry, Retrocedió, Aterrado, Filch, Harry, El chico se agachó, Filch, Había, Había armaduras cerca de la cocina, Sección Prohibida, Harry, Filch, Snape, Sección Prohibida?, Harry, Filch, Snape, No podían verlo, La capa no, A la izquierda, Para su alivio, Harry, Habían, Parecía, Las sombras de sillas, Había, Tenía una inscripción, Oesed lenoz aro cut edon, cut se onotse, Filch, Snape, Harry, Giró, El corazón le latía más, Respirando, Harry, Miró, Una mujer, justo detrás de su reflejo, Harry, Tenía el cabello rojo oscuro y sus ojos, Harry, Verde brillante, El hombre alto, Llevaba gafas y el pelo muy desordenado, Harry, Harry, ¿Papá?, Harry, Harry, Los Potter, Harry, Los reflejos no se desvanecían, Harry, No podía quedarse allí, Apartó los ojos de los de su madre, Ron, Yo voy a volver, Ron, Weasley, Podrás, De todos modos, Pero qué lástima, Flamel, Harry, Había, Casi, Flamel, Ya no le parecía tan importante, Snape, Harry, Aquella noche, Ron, Trataron, Harry, Ron-, Olvidemos, Harry-, Justo, Ron, Harry, Harry, Su madre y su padre, -¿Ves?, Harry, Harry, Ron, Ron, Ron, Bill, Ron, Harry, No, Ron, Señora Norris, Ron, Harry, Filch, Vamos, Ron, Harry, Harry?, Ron, Hagrid, Harry, No vuelvas esta noche, Pero tengo un mal presentimiento, Filch, Snape, Señora Norris, Hermione, Harry, Harry, Ron, Andaba, Harry, Nadie, Nadie.\n",
            ", Harry?\n",
            "Harry, Miró, Sentado en un pupitre, Albus Dumbledore, Harry, Dumbledore, Harry, Dumbledore, Harry-, Oesed, Ron, Dumbledore-, Oesed, Harry, El hombre más feliz de la tierra, Oesed, Harry, Para ti, Ronald Weasley, Sin embargo, este espejo, O han enloquecido, Harry, No, Ahora, Harry, Dumbledore, Dumbledore-, Harry, Dumbledore-, Navidad, La gente sigue insistiendo en regalarme libros, Harry, Dumbledore, Scabbers, Nicolás Flamel, Dumbledore, Harry, Oesed, Navidad, Harry, Comenzó, Una y otra vez, Dumbledore, Ese espejo te, Ron, Harry, Hermione, Harry, Filch, Nicolás Flamel, Flamel, Harry, Cuando empezaron las clases, Harry, Wood, Ni siquiera la lluvia, Los Weasley, Wood, Harry, Wood, Hufflepuff, Slytherin, Harry, Wood, Weasley, Snape, Gryffindor, George Weasley, Slytherin, George, Wood-., Snape, Harry, Snape, Harry, Gryffindor, Ron, Hermione, El ajedrez, Hermione, Harry, Ron, Ron, Harry, Necesito concen, Harry-, Harry, Snape, Hermione, Ron, Hermione, Ron, Harry-, No hay un buscador suplente, Gryffindor, Neville, Nadie, Maleficio de las Piernas Unidas, Gryffindor, Hermione, Las piernas de Neville, Hermione, Harry, Ron, Neville, McGonagall!, Hermione-, Acúsalo!\n",
            "Neville, Neville, Gryffindor, Malfoy -dijo Neville, Harry, Hermione, Navidad, Neville, Malfoys, Harry-, Gryffindor el Sombrero Seleccionador?, Malfoy, Slytherin, Neville, Harry, ... ¿Quieres, Neville, Harry, Magos Famosos, Él, Bufó, Miró, Ron, Hermione, Encontré, Flamel! Os, Lo leí en el tren, Escuchad, Dumbledore, Grindelwald, Nicolás Flamel, Hermione, No estaba tan excitada, -¡Esperad, dormitorio de las chicas, Harry, Ron, Lo saqué de la biblioteca, Ron, Hermione, Ron, Hermione, -Nicolás Flamel, Piedra Filosofal, Harry, Ron, Mirad, Empujó, Harry, Ron, Piedra Filosofal, La piedra, Elixir de la Vida, Piedra Filosofal, Piedra, Nicolás Flamel, El señor Flamel, Devon, Perenela, Hermione, Harry, Ron, El perro debe de estar custodiando, Piedra Filosofal de Flamel, Seguro, Dumbledore, Piedra de Gringotts!, Harry-, Snape, ! Cualquiera, Flamel, Estudio del reciente desarrollo de la hechicería, Ron-., Defensa Contra las Artes Oscuras, Harry, Ron, Piedra Filosofal, Ron, Harry, Snape, Ron, Hermione-, Si no lo hago, Slytherins, Snape, Les voy a demostrar, Hermione, Harry, El resto del equipo, La idea de alcanzar a, Slytherin, Harry, Snape, Por momentos, Snape, Las clases de Pociones, Harry, Snape, Snape, Piedra Filosofal?, Harry, Snape, Harry, Ron, Hermione, Aquello, Harry, Wood, Nimbus 2.000, Ron, Hermione, Neville, Harry, Ron, Hermione, Maleficio de las Piernas Unidas, Malfoy, Neville, Snape, Harry, Hermione, Ron, No me des la lata, Wood, Harry, Potter, la snitch, Snape, Hufflepuff, Fred Weasley, Hasta... ¡Vaya, Dumbledore, partido!\n",
            ", Harry, Fred, Aquella barba plateada, Harry, No había forma de, Snape, Dumbledore, Snape, Ron, Snape, Hermione-, Mira, Eh!\n",
            "Alguien, Ron, Era Malfoy, Weasley, Malfoy, Crabbe, Goyle, Potter en su escoba, Alguien, Weasley?\n",
            ", Ron, Snape, Hufflepuff, George Weasley, Hermione, Harry, Gryffindor?, Malfoy, Snape, Hufflepuff, Potter, Weasley, Longbottom, Neville, Malfoy\n",
            "-Yo valgo, Malfoy, Malfoy, Crabbe, Goyle, Ron, Neville, Weasley, Harry, Ron, Malfoy..., Hermione-, Harry, Harry, Hermione, Harry, Weasley, Potter, Malfoy\n",
            "Ron, Malfoy, Ron, Neville, Harry!, Hermione, Harry, Malfoy, Ron, Neville, Crabbe, Goyle, Snape, Al momento siguiente, Harry, Aquello, Parvati Patil, Harry, No podía creerlo., Lo había conseguido..., Mientras los de, Gryffindor, Snape, Entonces Harry, Dumbledore, Dumbledore, Harry, Snape, Harry, Nimbus, No recordaba haberse sentido tan contento, Había, Ya nadie podría decir, El aire del anochecer, Anduvo, Gryffindors, Ron, Hermione, Ron, Harry, Hogwarts, Gryffindor, Snape, Snape, La victoria, Harry, Reconoció, Snape, Harry, Nimbus 2.000, Deslizándose, Snape, Snape, Voló en círculos, Abajo, sombrío, Snape, Pero no estaba solo., Quirrell, Harry, Harry, Severus, Snape, Piedra Filosofal, Harry, Quirrell, Snape, Hagrid, Severus, Quirrell, Snape, Harry, Snape, Estoy, Snape-., Ya estaba casi oscuro, Harry, Quirrell, Hermione, Ron, Harry, Malfoy, Neville, Crabbe, Goyle, Pomfrey, Todos te están, Fred, George, Harry, Peeves, Piedra Filosofal, Snape, Quirrell, Le preguntó si sabía cómo pasar, Fluffy, Quirrell, Piedra, Fluffy, Quirrell, Oscuras, Snape, Piedra, Quirrell, Snape, Hermione, Ron, Quirrell, Harry, Ron, Hermione, Fluffy, Snape, Piedra, Harry, Quirrell, Ron, Hermione, Piedra Filosofal, A Harry, Ron, Hermione-, Eso no son siglos, Nicolás Flamel, Ron-, Hermione, Les, Pascua, Navidad, Era difícil relajarse, Hermione, Quejándose y bostezando, Harry, Ron, Ron, El cielo era claro, Harry, Mil hierbas, Ron, Hagrid, Parecía, No estaréis buscando todavía a Nicolás Flamel, Ron, Piedra Fi, Harry-, Piedra, Fluffy, Hagrid, Mirad, Van, Harry\n",
            "Hagrid, Hermione, Piedra?, Ron, Los desparramó sobre la mesa, Hagrid, Mirad, Especies de dragones, Gran Bretaña, Irlanda, Del huevo al infierno, Harry, Criar dragones, Convención de Magos, Era difícil que los muggles, De todos modos, Charlie, Rumania, Inglaterra, Harry, Ron-, Verdes, Gales, Escocia, Al ministro de Magia, Los nuestros, Hagrid, Hermione, Hagrid, Hagrid, Harry No, Piedra Filosofal, Fluffy, Hagrid, Esa Piedra, Casi la roban de Gringotts, averiguasteis, Fluffy, Hagrid, Hermione, La barba de Hagrid, Hermione, Dumbledore, Hagrid, Harry, Ron, Hermione, Dejadme ver... Yo, Fluffy, Sprout, Flitwick, McGonagall, Quirrell, Dumbledore, Esperad, Oh, Snape, Snape, Piedra, Harry, Ron, Hermione, Snape, Piedra, Quirrell, Fluffy, Fluffy, Hagrid, Harry, Dumbledore, Hagrid, Harry, Hagrid, Harry, Hagrid, Harry, Harry, Hagrid, Hagrid, Ron, Hagrid-, La otra noche, Estaba en la aldea, Hermione, Hagrid, Lo conseguí en la biblioteca, Crianza de dragones, Está un poco anticuado, Mantener, Y mirad, El que tengo, Parecía, Hermione, Hagrid, Canturreaba, Hagrid, Ron, Hermione, Harry, Ron, Los estaba volviendo locos, Hedwig, Harry, Hagrid, Sólo decía:, Ron, Herbología, Hermione, Hagrid, Harry, Harry, Ron, Hermione, Herbología, Hermione, Hagrid, Cuando al final de las clases, Hagrid, Tenía grietas en la cáscara., Todos acercaron las sillas a la mesa, La cría de dragón, No era exactamente bonito, Harry, Tenía un hocico largo, Estornudó, Hagrid, Alargó, Mirad, Hagrid, Hermione-, Hagrid, Harry, Malfoy, Malfoy, Harry, Ron, Hermione, Pasaban, Hagrid, Harry-, Déjalo, Hagrid-, Se morirá.\n",
            ", Miraron el dragón, Había, Ya le salía humo de las narices, Hagrid, Había, Norberto, Hagrid, mirad, Ron, Harry, Harry, Norberto, Malfoy, Dumbledore, Hagrid, Harry, Ron, Ron, Charlie, Rumania., Estudiando dragones, Podemos, Norberto, ¡Charlie, Ron-., Hagrid, Hagrid, Charlie, La noche del miércoles, Harry, Hermione, El reloj de la pared, Ron, Harry Había, Hagrid, Norberto, Os aseguro que los dragones, Hagrid, Cuando me mordió, Hedwig!, Harry, Charlie, Querido Ron, Estaré, El problema, Podríais, Envíame, Charlie, Harry-, Norberto, Norberto, Malfoy, A la mañana siguiente, Ron, No sabía si convenía ir a ver a la señora Pomfrey ¿Reconocería una mordedura de dragón?, La herida, Parecía, Norberto, Harry, Hermione, Ron, Malfoy, Pomfrey, Por eso se está portando así.\n",
            ", Harry, Hermione, Hermione, Al contrario, Oh, Charlie, Malfoy, Norberto, Harry, Hermione, Apareció la señora Pomfrey, Ron, Harry, Hermione-, Charlie, Norberto, Malfoy, Fang, Hagrid, Éste, -No os, Norberto, No, Charlie, Norberto, El cachorro golpeó la pared, Harry, Hermione, Hagrid, Era una noche oscura y llena de nubes, Hagrid, Peeves, Hagrid, Norberto, Hagrid, Harry, Norberto, Norberto, Hagrid, Harry, Hermione, Mamá, Era casi medianoche, Norberto, Subieron una escalera, atajos de, Harry, Harry, Olvidando, Una lámpara brilló, Malfoy por la oreja, Slytherin! Vagando, Harry Potter, Snape, Malfoy!\n",
            ", Hermione, Harry, Riéndose de Malfoy, Norberto, Diez minutos más tarde, Charlie, Enseñaron a Harry, Hermione, Norberto, Todos, Norberto, Harry, Hermione, Norberto, Bajaron, Norberto, Sin el dragón, Malfoy, Cuando llegaron al pasillo, Filch, Harry-, Filch, McGonagall, Hermione, Excusas, Harry, No, Estaban atrapados., ¿Cómo, McGonagall, Astronomía, Norberto, ¿Harry, Cuando la profesora McGonagall, Neville, Neville, Malfoy, Harry, Neville, McGonagall, Lo miró como si echara fuego igual, Norberto, El señor Filch, Astronomía, Quiero una explicación, Hermione, McGonagall-, No hace falta ser un genio, Draco Malfoy, Supongo, Longbottom, Harry, Neville, Neville, mete-patas Neville, Harry, McGonagall-, Cuatro alumnos fuera de la cama, Hermione Granger, Harry Potter..., Creía, Gryffindor, Los tres sufriréis castigos... Sí, Longbottom, Gryffindor, Harry, McGonagall, Harry Potter., Ahora, Gryffindor, Eso situaba a Gryffindor en el último lugar, En una noche, Gryffindor, Harry, Harry, Podía, Neville, Sabía, Neville, Gryffindor, Gryffindors, Harry Potter; el famoso Harry Potter, Harry, Hasta los de Ravenclaw y, Hufflepuff, Slytherin, Por dondequiera, Harry, Los de Slytherin, Potter, Sólo Ron, Fred, George, Harry, Ron, Harry, Todo había sido por andar averiguando y espiando., Se sentía tan avergonzado, Wood, El resto del equipo, Hermione, Neville, Harry, Hermione, Harry, Las lecciones, Él, Ron, Hermione, Harry, Una tarde que salía solo de la biblioteca, Quirrell, Parecía, Harry, Quirrell, Quirrell, Estaba pálido, Desapareció, Harry, Esperó, Quirrell, Parecía, Harry, Piedras Filosofales, Snape, Harry, Snape, Quirrell, Harry, Hermione, Astronomía, Ron, Harry, Snape, Quirrell, Oscuras, Fluffy, Hermione, Snape, Hagrid, Ron, Seguro, Harry, Ron, Hermione, Harry, Dumbledore, Eso, Harry-, Quirrell, Snape, Halloween, Dumbledore, Filch, Snape, Piedra, Fluffy, Serían, Hermione, Ron, Harry, Júpiter, Harry, Hermione, Neville, Eran todas iguales, Filch os, Prof M. McGonagall, Harry, De alguna manera, Hermione, Harry, Ron, Neville, Filch, Malfoy, Harry, Malfoy, Filch, Seguro, Oh, Marcharon, parque., Neville, Harry, Filch, La luna, Delante, Harry, Hagrid, Filch?, El corazón de Harry, Hagrid, Filch, Neville, Malfoy, Neville, Harry, Filch, Hagrid, Fang, Llevaba, Estoy, Harry, Hermione, Hagrid, Filch-, Hagrid, Filch-, Filch-, Malfoy, Hagrid, Harry, Hogwarts, Hagrid, Yo pensé, Si mi padre, Hogwarts, ¡Vete!\n",
            "Malfoy, Miró, Hagrid, Hagrid-, Escuchad, Seguidme por aquí, Levantando, Una suave brisa, Hagrid-, Encontré, Vamos, Malfoy, Fang, Hagrid-, Ahora, Hay sangre por todo el lugar, Fang, Malfoy, Hagrid-, Harry, Hermione, Draco, Neville, Fang, Si alguno encuentra al unicornio, El bosque, Después de andar un poco, Harry, Hermione, Hagrid, Malfoy, Neville, Fang, Anduvieron, De vez en cuando, un rayo de luna, Harry, Hagrid, Harry, Hagrid-, Harry, Todavía, Hermione, Hagrid-, No te preocupes, DETRÁS DE ESE ÁRBOL!\n",
            "Hagrid, Harry, Hermione, Sacó una flecha, Los tres, Alguien, Parecía, Hagrid, Aquí hay alguien, Harry, Hagrid, Bien, seguidme, Anduvieron, De pronto, Hagrid-, zaino, Harry, Hermione, Ronan, Hagrid-, Hagrid, Ronan, Tenía una voz profunda, Hagrid, Harry Potter y ella, Hermione Granger, Ronan, Hermione, Ronan-, Hermione, Bueno, Torció, Esta noche, Marte, Hagrid, Escucha, Ronan, Ronan, Hagrid-, Pero ¿has visto algo, Ronan?, Ronan, Hagrid, Está inusualmente brillante, Hagrid-, Ronan, Ronan, Hagrid, Ronan, Bane, Hagrid, Mira, Ronan, Han, Ronan, Miró, Marte, Hagrid, Bueno, Harry, Hermione, Ronan, Bane, Hagrid-, No se interesan por nada más cercano, Hermione, Los centauros, Harry, Harry, Tenía la desagradable sensación, Hagrid, Acababan, Hermione, Hagrid, Hagrid-, Hermione, Malfoy, Neville, Les, Harry, Hagrid, Malfoy, Neville, Fang, Hagrid, Malfoy, Neville, Neville, Bueno, Hermione, Harry, Fang, Lo siento -añadió en un susurro, Harry-, Harry, Malfoy, Fang, Anduvieron, Harry, Harry, Malfoy\n",
            "Algo de un blanco brillante relucía, Harry, Harry, Un arbusto que estaba en el borde del claro, Harry, Malfoy, Fang, La figura encapuchada, Malfoy, Fang, La figura encapuchada levantó la cabeza, Harry, La sangre del unicornio, Harry, Oyó, Harry, Un centauro estaba ante él., Ronan, Bane, Tenía ojos asombrosamente azules, Observó, Harry, frente de Harry, Potter, Hagrid, El bosque, Firenze, Harry, Ronan, Bane, -¡Firenze, Firenze-, Potter, Recuerda, Firenze, Ronan, Firenze, Bane, Firenze, Harry, Firenze, Firenze, Harry, Ronan, Bane, Harry, Bane, Firenze, Harry, Siguieron, Harry, Firenze, Sin embargo, Firenze, Harry, Pociones, Firenze-, Sólo alguien que no tenga nada, La sangre de unicornio, Si uno mata algo puro e indefenso, Harry, Firenze, Si te van, Firenze-, Harry Potter, Piedra Filosofal! ¡Por supuesto... el, Elixir de Vida!, Harry, Por encima del ruido del follaje, Hagrid, No creo que le quede, Harry-, Vol..., Harry, Hermione, Hagrid, Harry, El unicornio está muerto, Hagrid, Firenze, Hagrid, Harry, Harry Potter -dijo Firenze-, Los planetas ya se han, Espero, Harry, Ron, Harry, Sin embargo, Harry, Hermione, Harry, Todavía, Voldemort, Voldemort, Snape, Ron, Voldemort, Harry, Bane, Voldemort, Bane, Firenze, Voldemort, Supongo, Ron, Snape, Piedra, Harry-, Entonces Voldemort, Bueno, Bane, Hermione, Dumbledore, Dumbledore, De todos modos, McGonagall, Pero las sorpresas de aquella noche, Harry, Tenía sujeta una nota, Harry, Voldemort, Sin embargo, los días, Fluffy, Les, El profesor Flitwick, La profesora McGonagall, Ganaban, Snape, Harry, Neville, Harry, Pero la verdad, Harry, Harry, Ron, Hermione, Piedra, Harry, La idea de Voldemort los atemorizaba, Snape, Historia de la Magia, Una hora respondiendo preguntas sobre viejos magos, Cuando el fantasma del profesor Binns, Harry, pensé, Hermione, Código de Conducta de los Hombres Lobo, Elfrico el Vehemente, Hermione, Ron, Los gemelos Weasley, Lee Jordan, Ron, Harry, Harry, Mi cicatriz sigue doliéndome., Pomfrey, Hermione, Harry-, Ron, Hermione, Piedra, Dumbledore, De todos modos, Snape, Fluffy, Casi, Neville, Inglaterra, Hagrid, Dumbledore, Harry, Hermione, Yo me desperté anoche, Transformación, Harry, Vio, Hagrid, Hagrid, Dumbledore, Hagrid, Fluffy, Harry, Ron, Harry, Hagrid, Hermione, Harry, Hagrid, Hagrid, Ron, Harry, Hagrid, Ron, Harry, Hagrid, Norberto, Hagrid, No se quitó la capa, Vio, Cabeza de Puerco, Podría, Harry, Hagrid, Hagrid, Sí... Me, Déjame ver... ah sí, Fluffy, Fluffy?, Harry, Fluffy, Hagrid, Harry, Ron, Hermione, Dumbledore, Harry-, Hagrid, Fluffy, Snape, Voldemort, Hagrid, Dumbledore, Firenze, Bane, Dumbledore, Dumbledore, Harry, McGonagall, Dumbledore, Hermione, Ron, Harry, Dumbledore, Harry, McGonagall, Dumbledore, Magia, Londres, Harry, Dumbledore, Potter, Magia, Potter?, Harry, Piedra Filosofal, McGonagall, Los libros, Sna, Piedra, Tengo, Dumbledore, Dumbledore, No sé cómo habéis descubierto lo de la Piedra, Nadie, Se inclinó, Os sugiero que salgáis y disfrutéis del sol, Harry, McGonagall, Snape, Ya ha descubierto todo lo que necesitaba saber, Dumbledore, Él, Magia, Dumbledore, Hermione, Harry, Ron, Snape, Lo miraron sin decir nada, Harry, Snape-, Si os, Y Gryffindor, Harry, Snape, Potter, Harry, Uno de nosotros, Snape, Hermione, Flitwick, Flitwick, Hermione, Snape, Harry, Tan pronto como llegaron a la puerta, Fluffy, McGonagall, Gryffindor, Weasley, Harry, Ron, Justo, Harry, Hermione, Snape, Dama Gorda, Harry, Snape, Flitwick, Snape, Snape, Estaba pálido y los ojos, Piedra, Ron, Hermione-, Snape, McGonagall?, Harry-, Snape, Piedra, Voldemort!, Artes Oscuras! ¿No os dais, Gryffindor, Piedra, Dursley, Voldemort, Voy a entrar por esa trampilla, Voldemort, Harry, Hermione, Harry-, Ron, Hermione, ¿Cómo, Piedra, Hermione, Flitwick, No me van a expulsar, Nadie los molestó, Gryffindor, Harry, Hermione, Harry, Ron, Ron, Lee Jordan, Harry, Sacó, Hagrid, Navidad, La guardó, Fluffy, Filch, Neville, Trevor, Neville, Harry, Neville, Hermione-, No, Neville, No, Snape, Fluffy, Neville-, Os, Gryffindor, Harry-, Neville, ¡Voy, Neville-, Ron-., Neville, Neville, Trevor, Neville, Harry, Hermione, Hermione, Levantó la varita, Neville, Neville, Todo el cuerpo, Hermione, Neville, Sólo sus ojos, Harry, Inmovilización Total, Hermione, Oh, Neville, Neville, Ron, Neville, Filch, Peeves, Señora Norris, Ron, Harry, Peeves, Entornó, Aparecidos, Filch, Harry, Barón Sanguinario, Peeves, Peeves, Peeves -gruñó Harry-, Peeves, Espero, Harry!, Ron, La puerta, Harry, Snape, Fluffy, Por debajo de la capa, Harry, Ron, Hermione, Harry, Los tres hocicos del perro olfateaban, Hermione, Snape, Harry-, Bueno, Hagrid, Harry, Poco a poco, Ron, Harry, Podía, Ron, Hermione, Se inclinó y tiró de la argolla de la trampilla, Hermione, Harry, Ron, Dale, Hermione, Harry, Hermione, Harry, No se veía el fondo, Miró, Ron, Id, Hedwig, Dumbledore, Ron, Harry, Frío, extraño, Parecía, Ron, Harry, Supongo, ¡Vamos, Hermione, Hermione, Harry, Ron, Hermione-, Hermione, Tuvo que luchar, Harry, Ron, Hermione, Hermione-, Lazo del Diablo!, Ron, Hermione, -¡Bueno, date prisa, Harry, Diablo, Lazo del Diablo, Sprout, Harry, Hermione, HAS VUELTO LOCA, O NO?\n",
            "-¡Oh, Hermione, Agitó, Snape, Retorciéndose, Herbología, Hermione, Harry, Harry, Porque eso de, Harry, El pasadizo bajaba oblicuamente, Harry, Gringotts, Con un desagradable sobresalto, Norberto, Ron, Harry, Un leve tintineo, Ron, Harry-, Bueno, Respiró, Esperaba, Alcanzó, Movió, Tiraron, Hermione, Alohomora, Ron, Hermione, Harry-, Llaves aladas, Entonces eso debe significar, Sí... mirad, Escobas! ¡Tenemos, Ron, Trataban, Harry, Tenía un don especial, Esa grande, Con alas azul brillante, Ron, Harry, Ron, Hermione, Yo trataré de atraparla, Bien: ¡AHORA!\n",
            "Ron, Hermione, Harry, Iban, Harry, Los vivas de Ron, Hermione, Harry, La metió en la cerradura, Funcionaba, Harry, Asintieron, Frente, Harry, Ron, Hermione, Harry, Detrás de las piezas blancas, Hermione, De inmediato, la piedra cobró vida, El caballo dio una patada, Ron, Ron, Supongo, Harry, Hermione, Ron, Por fin dijo, Harry-, Simplemente dinos qué tenemos que hacer, Harry, Hermione, Harry, Harry, Ron, Hermione, Ron, Sí... mirad, Ron, Se movían silenciosamente cuando los mandaba, Harry, La reina blanca, Ron, Vamos, Hermione, Muy pronto, Dos veces, Ron, Harry, Hermione, Dejadme pensar... dejadme pensar, Ron, Harry, Hermione, Ron-, Harry, Snape, Piedra!\n",
            "No, Ron, Allá voy, Golpeó a Ron, Hermione, La reina blanca arrastró, Ron, Parecía, Harry, El rey blanco, Harry, Habían ganado, Las piezas, Con una última mirada de desesperación, Ron, Harry, Hermione, Harry, Sprout, Lazo del Diablo, Flitwick, McGonagall, Eso nos deja el hechizo de Quirrell, Snape, Harry, Harry, Con ojos, Harry, Vamos, Sólo una mesa con siete botellas, Harry-, No era un fuego común, Estaban atrapados, Harry, Elige, Tercera, Ni el enano ni el gigante, Cuarta, Hermione, Harry, Hermione-, Hermione-, Lo único que necesitamos, Siete botellas, Hermione, Al fin, La más pequeña, Piedra, Harry, No hay más que un trago, Hermione, Harry-, No: vuelve, Ron, Con ellas podréis salir por la trampilla, Fluffy, Id, Hedwig, Dumbledore, Snape, Harry, Harry, Hermione, Harry, Hermione-, ¡Libros! ¡Inteligencia!, Harry, Harry-, Estás segura de cuál, Hermione, Harry, Hermione, Harry, Se enfrentó a las llamas negras, Pero no era, Snape, Voldemort, Era Quirrell, Harry, Quirrell, Potter.\n",
            ", Snape, Severus, Al lado de él ¿, Quirrell, Harry, Aquello, Snape, Tu amiga, Granger, Snape, Snape, Quirrell-, Gracioso, No podía hacer nada, Dumbledore, Todos los otros profesores, Snape, Gryffindor, Quirrell, Unas, Harry, Potter., Halloween, Piedra, Snape, Snape, Potter., Harry, Quirrell, Era el espejo de Oesed, Piedra -murmuró Quirrell, Era de esperar, Dumbledore, Londres, Harry, Quirrell, Snape, Quirrell, Me estaba siguiendo, tratando de averiguar, lord Voldemort, Quirrell, Piedra, Harry, Quirrell, Snape, Quirrell, Hogwarts, Pensé, Snape, Quirrell, Harry, Quirrell-, Lo conocí cuando viajaba por el mundo., Yo, Lord Voldemort, No hay ni mal ni bien, Tuvo que ser muy severo conmigo, No perdona fácilmente los errores, Cuando fracasé en robar esa, Piedra de Gringotts, Me castigó... decidió, Quirrell, Harry, Diagon, Quirrell, Caldero Chorreante, Quirrell, Piedra, Harry, Piedra, Quirrell, Entonces, Quirrell, Quirrell, Quirrell, Seguía, Maestro!\n",
            "Y para el horror de Harry, Quirrell, Quirrell, Harry, Potter, Harry, Quirrell-, Mira, Harry, Tengo, Quirrell, detrás, Harry, extraño, Quirrell, Cerró los ojos, Puso la mano en el bolsillo, Le guiñó un ojo, Piedra, Harry, De alguna manera, Piedra, Quirrell, Harry, Dumbledore, Yo... he ganado la copa de la casa para, Gryffindor, Quirrell, Harry, Piedra Filosofal, Quirrell, Quirrell-, Dime la verdad! ¿Qué, Harry, Lazo del Diablo, No podía mover ni un músculo, Petrificado, Quirrell, La cabeza de Quirrell, Entonces, Quirrell, Harry, Quirrell, Harry, Era de color blanco tiza, Harry, -¿Ves, No más que en sombra y quimera, Tengo, La sangre de unicornio, Quirrell, Elixir de la Vida, Piedra, La idea, Harry, Mejor que salves tu propia vida y te unas a mí... o tendrás, Murieron pidiéndome misericordia, Harry, Quirrell, Voldemort, La cara maligna sonreía, Siempre consideré la valentía..., Maté, Harry, Voldemort, Harry, Quirrell, De inmediato, un dolor, Gritó, Quirrell, El dolor en la cabeza, Miró, Quirrell, Voldemort, Quirrell, Harry, La cicatriz de Harry, Quirrell, Quirrell, Harry, Harry, Voldemort, Quirrell, Harry, Quirrell, Quirrell, Harry, Quirrell, Quirrell, Harry, Quirrell, Quirrell, Harry, El dolor de cabeza de éste, Quirrell, Voldemort, ¡Harry! ¡Harry!, Sintió, Quirrell, La snitch!, Pestañeé., Eran un par de gafas, Qué raro, Pestañeó, El rostro sonriente de Albus, Dumbledore, Harry, Dumbledore, Harry, Piedra!, Piedra! Señor, Dumbledore-, Quirrell, Piedra, Pomfrey, Harry, Dumbledore, Quirrell, Creo que tus amigos, Fred, George Weasley, No dudo que pensaron que eso te divertiría, Sin embargo, la señora Pomfrey, El señor Ronald Weasley, Granger, Han, Piedra, Piedra, El profesor Quirrell, Hermione, Londres, Llegué, Quirrell, Piedra, Piedra, Piedra, Harry, Pero su amigo, Nicolás Flamel, Nicolás, Dumbledore-, Hiciste, Nicolás, Elixir guardado para poner sus asuntos, Dumbledore, Harry, Nicolás, Perenela, Sabes, Piedra, Harry, Dumbledore, Harry-, Estuve pensando..., Piedra, Vol, Voldemort, Harry, El miedo a un nombre, Bien, Voldemort, Harry, Está, Él, Quirrell, De todos modos, Harry, La próxima vez hará falta, Harry, Sin embargo, Por supuesto, Voldemort, Pero ¿, Dumbledore, No hoy., No ahora, Lo sabrás, Quítatelo, Harry, Cuando seas mayor... ya sé que eso es odioso..., Harry, Quirrell, Voldemort, No se dio cuenta de que un amor tan poderoso, No una cicatriz, Eso está en tu piel, Quirrell, Voldemort, Era una agonía el tocar a una persona, Dumbledore, Harry, Harry, Dumbledore, Cosas útiles... Tu padre la utilizaba sobre todo para robar, Snape, Snape, Harry, Quirrell, Como tú y el señor Malfoy, Snape, Dumbledore, Snape, Harry, Piedra, Sabes, Piedra, De otra forma, Elixir de la Vida, Mi mente me sorprende, Bueno, Te sugiero que comiences a comer esas golosinas, Ah, Pero creo que no tendré problema, Sonrió, Pomfrey, Harry, Dumbledore, Necesitas descansar, mire, Oh, Pomfrey, Ron, Hermione, Hermione, Harry, Harry, Dumbledore, Harry, Quirrell, Piedra y Voldemort, Ron, Hermione, Harry, Quirrell, Hermione, Piedra, Ron-, Flamel, Dumbledore, Ron, Harry, Hermione-, Ron, Dumbledore, Harry, ¿Enviándote, Hermione-, Harry, Dumbledore, Creo que él sabe, Acepto, No creo que fuera por accidente, Voldemort, Ya están todos los puntos, Slytherin, Te perdiste, Sin ti, Ravenclaw, Pomfrey, Harry, Pomfrey, Podré, Dumbledore, Dumbledore, Harry-, Hagrid, Hagrid, Harry, Fluffy, Harry, Hagrid, Hagrid, Voldemort, -¡Podrías, Hagrid-, Harry, Hagrid, Por favor, alégrate, Hagrid, Piedra, Toma una rana de chocolate, Hagrid, Harry, Hagrid, Dumbledore, Parecía, Harry, Sonriéndole, Sabía, Harry, Hagrid, Harry, Lo había ayudado a levantarse la señora Pomfrey, Gran Comedor, Slytherin, Un gran estandarte, Mesa Alta, Slytherin, Harry, Ron, Hermione, Gryffindor, Dumbledore, Las conversaciones cesaron.\n",
            ", Dumbledore-, Ahora, Bien, copa de la casa, Gryffindor, Hufflepuff, Ravenclaw, Slytherin, Slytherin, Harry, Draco Malfoy, Era una visión repugnante, Slytherin, Dumbledore-, Las sonrisas de los Slytherin, Dumbledore-, Dejadme ver., Sí..., Ronald Weasley, Ron, Hogwarts, casa Gryffindor, Gryffindor, Percy, McGonagall!, Hermione Granger, casa Gryffindor, Hermione, Harry, Los cambios en la tabla de puntuaciones, Gryffindor, Harry Potter, Dumbledore, La sala estaba mortalmente, Gryffindor, Los que pudieron sumar, Gryffindor, Slytherin, Dumbledore, Harry, Dumbledore, La sala, Dumbledore-, Neville Longbottom, Alguien, Gran Comedor, Gryffindor, Harry, Ron, Hermione, Neville, Gryffindor, Harry, Ron, Malfoy, Inmovilidad Total, Dumbledore, Ravenclaw, Hufflepuff, Slytherin-, Dio una palmada, Gryffindor, Snape, McGonagall, Captó la mirada de Harry, Snape, Aquello, Parecía, Hogwarts, Aquélla, Harry, Navidad, Harry, Ron, Hermione, Neville, Herbología, Pociones., Goyle, Era una lástima, Ron, Neville, Fred Weasley, Hagrid, Subieron, Hogwarts, Comieron, King Cross, Un viejo y enjuto guarda, alarmarían, Ron-, Os, Harry-, Voy, Harry!\n",
            "-¡Nos, Potter!, Ron, Harry, Ron, Hermione, Ginny Weasley, Ron, -¡Harry Potter!, Mira, Ginny, Harry-, Muchas gracias por el jersey, Harry, Detrás, Petunia, Dudley, Harry, Harry!, Vernon-, Date prisa, Harry, Ron, Hermione, Hermione, tío Vernon, Harry, Ellos, Dudley)\n"
          ]
        }
      ]
    },
    {
      "cell_type": "markdown",
      "source": [
        "## Adjetivos más utilizados con cada personaje"
      ],
      "metadata": {
        "id": "Zxoro7oeB7-Z"
      }
    },
    {
      "cell_type": "markdown",
      "source": [
        "# Fragmentación de textos"
      ],
      "metadata": {
        "id": "MEw9O6t9LdAC"
      }
    },
    {
      "cell_type": "code",
      "source": [
        "text = \"\"\"Este es un texto con capítulos.\n",
        "\n",
        "Capítulo 1: La introducción del libro... esto sería el título.\n",
        "\n",
        "Este es el contenido del primer capítulo. Se trata de un texto que quiero que sea un poco largo para poder probar cosas de la asignatura que estamos cursando en uniovi para detectar entidades en textos.\n",
        "\n",
        "Capítulo 2: El desarrollo\n",
        "\n",
        "Y este es el contenido del segundo capítulo. Podemos referenciar al \"Capítulo 1\" porque su contenido fue interesante. Este la es más corto\"\"\"\n"
      ],
      "metadata": {
        "id": "vMLSrf18PZ9P"
      },
      "execution_count": null,
      "outputs": []
    },
    {
      "cell_type": "code",
      "source": [
        "text = \"\"\"Este es un texto con capítulos.\n",
        "\n",
        "1\n",
        "\n",
        "El título del capítulo\n",
        "\n",
        "Este es el contenido del capitulo que estamos intentando analizar. Su contenido será almacenado posteriormente así que estoy escribiendo una frase larga para poder analizarlo.\n",
        "\n",
        "Capítulo 1: Escribo esto como si fuera un capítulo pero no lo es.\n",
        "\n",
        "2\n",
        "\n",
        "El título del segundo capítulo\n",
        "\n",
        "De nuevo, este es el contenido del capitulo que estamos intentando analizar. Su contenido será almacenado posteriormente así que estoy escribiendo una frase larga para poder analizarlo.\n",
        "\n",
        "22\n",
        "\n",
        "Otro capítulo\n",
        "\n",
        "Este capítulo tiene un número con más de un dígito así que a ver si funciona.\n",
        "\"\"\"\n"
      ],
      "metadata": {
        "id": "4Fc1UcOUNX-M"
      },
      "execution_count": null,
      "outputs": []
    },
    {
      "cell_type": "markdown",
      "source": [
        "# Entrenamiento de modelo para pronosticar hechizos"
      ],
      "metadata": {
        "id": "V9U8wU0VVzye"
      }
    },
    {
      "cell_type": "code",
      "source": [],
      "metadata": {
        "id": "0ArJcTlQV_ZO"
      },
      "execution_count": null,
      "outputs": []
    },
    {
      "cell_type": "markdown",
      "source": [
        "# Trabajo autónomo"
      ],
      "metadata": {
        "id": "TXHuG_Tz93t_"
      }
    },
    {
      "cell_type": "markdown",
      "source": [
        "## ¿Qué casa es la más nombrada?"
      ],
      "metadata": {
        "id": "A02IF8ue7G50"
      }
    },
    {
      "cell_type": "code",
      "source": [
        "casas = {\n",
        "    \"Gryffindor\": \"#b81b1b\",\n",
        "    \"Hufflepuff\": \"#ffcf40\",\n",
        "    \"Ravenclaw\": \"#0070b8\",\n",
        "    \"Slytherin\": \"#008000\",\n",
        "}"
      ],
      "metadata": {
        "id": "pmm6NZWb7O5y"
      },
      "execution_count": null,
      "outputs": []
    },
    {
      "cell_type": "markdown",
      "source": [
        "## ¿En qué frases aparece Revenclaw?"
      ],
      "metadata": {
        "id": "buu_IQyZCA2J"
      }
    },
    {
      "cell_type": "code",
      "source": [],
      "metadata": {
        "id": "QYgsfrvxKMff"
      },
      "execution_count": null,
      "outputs": []
    },
    {
      "cell_type": "markdown",
      "source": [
        "## Obtén los adjetivos que tienen una casa como raíz de la frase\n",
        "\n"
      ],
      "metadata": {
        "id": "QIJqcWNj98y8"
      }
    },
    {
      "cell_type": "code",
      "source": [],
      "metadata": {
        "id": "MWKpRiFSPmDe"
      },
      "execution_count": null,
      "outputs": []
    },
    {
      "cell_type": "markdown",
      "source": [
        "## Obtén las frases en las que aparece cada casa"
      ],
      "metadata": {
        "id": "LhGJGyv59_u_"
      }
    },
    {
      "cell_type": "code",
      "source": [],
      "metadata": {
        "id": "eG4057sALGoH"
      },
      "execution_count": null,
      "outputs": []
    },
    {
      "cell_type": "markdown",
      "source": [
        "## Busca los sustantivos más utilizados en el texto"
      ],
      "metadata": {
        "id": "mHtS2ITvKjrE"
      }
    },
    {
      "cell_type": "code",
      "source": [],
      "metadata": {
        "id": "3B3X4k8bLGUB"
      },
      "execution_count": null,
      "outputs": []
    },
    {
      "cell_type": "markdown",
      "source": [
        "## Divide el libro por capítulos"
      ],
      "metadata": {
        "id": "bcroY5rUKopz"
      }
    },
    {
      "cell_type": "code",
      "source": [],
      "metadata": {
        "id": "uDroEnmfLGAN"
      },
      "execution_count": null,
      "outputs": []
    },
    {
      "cell_type": "markdown",
      "source": [
        "## Entrena un modelo para detectar las entidades relativas a animales y criaturas fantásticas que aprecen en en libro"
      ],
      "metadata": {
        "id": "glAS9miZK10y"
      }
    },
    {
      "cell_type": "code",
      "source": [],
      "metadata": {
        "id": "XEFfF0pqK1Nm"
      },
      "execution_count": null,
      "outputs": []
    },
    {
      "cell_type": "markdown",
      "source": [
        "## [PA] Ejercicio de participación activa\n",
        "\n",
        "Plantea una pregunta que requiera utilizar SpaCy, del estilo de las que has resuelto hasta ahora, y presenta la solución.\n",
        "\n",
        "Para realizar esta presentación, tienes que (obviamente) realizar el código pero **no puedes presentar código**. Lo que harás será 1) plantear una pregunta 2) describir cómo lo has hecho haciendo referencia a los pasos y los tipos de los objetos involucrados 3) presentar los resultados en forma de gráfico, diccionario, lista..."
      ],
      "metadata": {
        "id": "SJGwc-Uw-Fzg"
      }
    },
    {
      "cell_type": "markdown",
      "source": [
        "# Enlace con libros:\n",
        "\n",
        "https://github.com/busiris2014/7506Condor1C2014/tree/master/datos2011/trunk/libros"
      ],
      "metadata": {
        "id": "7QzjT-pDNv4s"
      }
    }
  ]
}